{
 "cells": [
  {
   "cell_type": "markdown",
   "metadata": {},
   "source": [
    "# Setup"
   ]
  },
  {
   "cell_type": "markdown",
   "metadata": {},
   "source": [
    "## Model"
   ]
  },
  {
   "cell_type": "code",
   "execution_count": 254,
   "metadata": {
    "ExecuteTime": {
     "end_time": "2025-01-17T13:21:42.418460Z",
     "start_time": "2025-01-17T13:21:42.398752Z"
    }
   },
   "outputs": [],
   "source": [
    "import logging\n",
    "import math\n",
    "\n",
    "import torch\n",
    "import torch.nn.functional as F\n",
    "from torch import nn\n",
    "\n",
    "#\n",
    "# From StableDynamics.ipynb; Zico Kolter\n",
    "#\n",
    "\n",
    "# You can use this to compensate for numeric error:\n",
    "VERIFY = False\n",
    "V_SCALE = 0.01\n",
    "\n",
    "global V_WRAP, SCALE_FX\n",
    "V_WRAP = False\n",
    "SCALE_FX = False\n",
    "\n",
    "class Dynamics(nn.Module):\n",
    "    def __init__(self, fhat, V, alpha=0.01):\n",
    "        super().__init__()\n",
    "        self.fhat = fhat\n",
    "        self.V = V\n",
    "        self.alpha = 0 # alpha\n",
    "\n",
    "    def forward(self, x):\n",
    "        fx = self.fhat(x)\n",
    "        if SCALE_FX:\n",
    "            fx = fx / fx.norm(p=2, dim=1, keepdim=True).clamp(min=1.0)\n",
    "\n",
    "        Vx = self.V(x)\n",
    "        gV = torch.autograd.grad([a for a in Vx], [x], create_graph=True, only_inputs=True)[0]\n",
    "        rv = fx - gV * (F.relu((gV*fx).sum(dim=1) + self.alpha*Vx[:,0])/(gV**2).sum(dim=1))[:,None]\n",
    "\n",
    "        if VERIFY:\n",
    "            # Verify that rv has no positive component along gV.\n",
    "            # This helps us catch:\n",
    "            #   (1) numeric error in the symbolic gradient calculation, and\n",
    "            #   (2) Violation of the Lyapunov function when Euler integration is used.\n",
    "            verify = (gV * rv).sum(dim=1)\n",
    "            num_violation = len([v for v in verify if v > 0]) # (1)\n",
    "            new_V = self.V(x + V_SCALE * rv)\n",
    "            if (new_V > Vx).any(): # (2)\n",
    "                err = sorted([v for v in (new_V - Vx).detach().cpu().numpy().ravel() if v > 0], reverse=True)\n",
    "\n",
    "        return rv\n",
    "\n",
    "class ICNN(nn.Module):\n",
    "    def __init__(self, layer_sizes, activation=F.relu_):\n",
    "        super().__init__()\n",
    "        self.W = nn.ParameterList([nn.Parameter(torch.Tensor(l, layer_sizes[0])) \n",
    "                                   for l in layer_sizes[1:]])\n",
    "        self.U = nn.ParameterList([nn.Parameter(torch.Tensor(layer_sizes[i+1], layer_sizes[i]))\n",
    "                                   for i in range(1,len(layer_sizes)-1)])\n",
    "        self.bias = nn.ParameterList([nn.Parameter(torch.Tensor(l)) for l in layer_sizes[1:]])\n",
    "        self.act = activation\n",
    "        self.reset_parameters()\n",
    "\n",
    "    def reset_parameters(self):\n",
    "        # copying from PyTorch Linear\n",
    "        for W in self.W:\n",
    "            nn.init.kaiming_uniform_(W, a=5**0.5)\n",
    "        for U in self.U:\n",
    "            nn.init.kaiming_uniform_(U, a=5**0.5)\n",
    "        for i,b in enumerate(self.bias):\n",
    "            fan_in, _ = nn.init._calculate_fan_in_and_fan_out(self.W[i])\n",
    "            bound = 1 / (fan_in**0.5)\n",
    "            nn.init.uniform_(b, -bound, bound)\n",
    "\n",
    "    def forward(self, x):\n",
    "        z = F.linear(x, self.W[0], self.bias[0])\n",
    "        z = self.act(z)\n",
    "\n",
    "        for W,b,U in zip(self.W[1:-1], self.bias[1:-1], self.U[:-1]):\n",
    "            z = F.linear(x, W, b) + F.linear(z, F.softplus(U)) / U.shape[0]\n",
    "            z = self.act(z)\n",
    "\n",
    "        return F.linear(x, self.W[-1], self.bias[-1]) + F.linear(z, F.softplus(self.U[-1])) / self.U[-1].shape[0]\n",
    "\n",
    "\n",
    "\n",
    "class ReHU(nn.Module):\n",
    "    \"\"\" Rectified Huber unit\"\"\"\n",
    "    def __init__(self, d):\n",
    "        super().__init__()\n",
    "        self.a = 1/d\n",
    "        self.b = -d/2\n",
    "\n",
    "    def forward(self, x):\n",
    "        return torch.max(torch.clamp(torch.sign(x)*self.a/2*x**2,min=0,max=-self.b),x+self.b)\n",
    "\n",
    "class MakePSD(nn.Module):\n",
    "    def __init__(self, f, n, eps=0.01, d=1.0):\n",
    "        super().__init__()\n",
    "        self.f = f\n",
    "        self.zero = torch.nn.Parameter(f(torch.zeros(1,n)), requires_grad=False)\n",
    "        self.eps = eps\n",
    "        self.d = d\n",
    "        self.rehu = ReHU(self.d)\n",
    "\n",
    "    def forward(self, x):\n",
    "        smoothed_output = self.rehu(self.f(x) - self.zero)\n",
    "        quadratic_under = self.eps*(x**2).sum(1,keepdim=True)\n",
    "        return smoothed_output + quadratic_under\n",
    "\n",
    "class PosDefICNN(nn.Module):\n",
    "    def __init__(self, layer_sizes, eps=0.1, negative_slope=0.05):\n",
    "        super().__init__()\n",
    "        self.W = nn.ParameterList([nn.Parameter(torch.Tensor(l, layer_sizes[0])) \n",
    "                                   for l in layer_sizes[1:]])\n",
    "        self.U = nn.ParameterList([nn.Parameter(torch.Tensor(layer_sizes[i+1], layer_sizes[i]))\n",
    "                                   for i in range(1,len(layer_sizes)-1)])\n",
    "        self.eps = eps\n",
    "        self.negative_slope = negative_slope\n",
    "        self.reset_parameters()\n",
    "\n",
    "    def reset_parameters(self):\n",
    "        # copying from PyTorch Linear\n",
    "        for W in self.W:\n",
    "            nn.init.kaiming_uniform_(W, a=5**0.5)\n",
    "        for U in self.U:\n",
    "            nn.init.kaiming_uniform_(U, a=5**0.5)\n",
    "\n",
    "    def forward(self, x):\n",
    "        z = F.linear(x, self.W[0])\n",
    "        F.leaky_relu_(z, negative_slope=self.negative_slope)\n",
    "\n",
    "        for W,U in zip(self.W[1:-1], self.U[:-1]):\n",
    "            z = F.linear(x, W) + F.linear(z, F.softplus(U))*self.negative_slope\n",
    "            z = F.leaky_relu_(z, negative_slope=self.negative_slope)\n",
    "\n",
    "        z = F.linear(x, self.W[-1]) + F.linear(z, F.softplus(self.U[-1]))\n",
    "        return F.relu(z) + self.eps*(x**2).sum(1)[:,None]\n",
    "\n",
    "def loss(Ypred, Yactual, X):\n",
    "    # Force smoothness in V:\n",
    "    # penalty for new_V being larget than old V:\n",
    "    Vloss = torch.tensor(0)\n",
    "    if SMOOTH_V:\n",
    "        V = model.V\n",
    "        # Successor to X:\n",
    "        succ_X = (X + V_SCALE * Yactual).detach()\n",
    "        if V_WRAP:\n",
    "            while torch.any(succ_X < -math.pi):\n",
    "                succ_X[succ_X < -math.pi] = succ_X[succ_X < -math.pi] + 2 * math.pi\n",
    "            while torch.any(succ_X >= math.pi):\n",
    "                succ_X[succ_X >= math.pi] = succ_X[succ_X >= math.pi] - 2 * math.pi\n",
    "            succ_X.requires_grad_()\n",
    "\n",
    "        Vloss = (V(succ_X) - V(X)).clamp(min=0).mean()\n",
    "\n",
    "    l2loss = ((Ypred - Yactual)**2).mean()\n",
    "\n",
    "    return (l2loss + SMOOTH_V * Vloss, l2loss, Vloss)\n",
    "\n",
    "global model, SMOOTH_V\n",
    "model = None\n",
    "SMOOTH_V = 0\n",
    "\n",
    "def loss_flatten(l):\n",
    "    return l\n",
    "\n",
    "def loss_labels():\n",
    "    return [\"loss\", \"l2\", \"V\"]\n",
    "\n",
    "def summary(*a, **kw):\n",
    "    pass"
   ]
  },
  {
   "cell_type": "markdown",
   "metadata": {},
   "source": [
    "### Verification"
   ]
  },
  {
   "cell_type": "code",
   "execution_count": 255,
   "metadata": {
    "ExecuteTime": {
     "end_time": "2025-01-17T13:21:42.432341Z",
     "start_time": "2025-01-17T13:21:42.426601Z"
    }
   },
   "outputs": [],
   "source": [
    "lsd = 2\n",
    "ph_dim = 32\n",
    "h_dim = 32\n",
    "\n",
    "fhat = nn.Sequential(nn.Linear(lsd, h_dim), nn.ReLU(),\n",
    "                        nn.Linear(h_dim, h_dim), nn.ReLU(),\n",
    "                        nn.Linear(h_dim, lsd))\n",
    "\n",
    "rehu = 0.005\n",
    "projfn_eps = 0.01\n",
    "\n",
    "V = MakePSD(ICNN([lsd, ph_dim, ph_dim, 1], activation=ReHU(float(0.005))), lsd, eps=projfn_eps, d=1.0)\n",
    "model = Dynamics(fhat, V, alpha=0)\n"
   ]
  },
  {
   "cell_type": "code",
   "execution_count": 256,
   "metadata": {
    "ExecuteTime": {
     "end_time": "2025-01-17T13:21:42.472374Z",
     "start_time": "2025-01-17T13:21:42.467805Z"
    }
   },
   "outputs": [
    {
     "data": {
      "text/plain": [
       "Dynamics(\n",
       "  (fhat): Sequential(\n",
       "    (0): Linear(in_features=2, out_features=32, bias=True)\n",
       "    (1): ReLU()\n",
       "    (2): Linear(in_features=32, out_features=32, bias=True)\n",
       "    (3): ReLU()\n",
       "    (4): Linear(in_features=32, out_features=2, bias=True)\n",
       "  )\n",
       "  (V): MakePSD(\n",
       "    (f): ICNN(\n",
       "      (W): ParameterList(\n",
       "          (0): Parameter containing: [torch.float32 of size 32x2]\n",
       "          (1): Parameter containing: [torch.float32 of size 32x2]\n",
       "          (2): Parameter containing: [torch.float32 of size 1x2]\n",
       "      )\n",
       "      (U): ParameterList(\n",
       "          (0): Parameter containing: [torch.float32 of size 32x32]\n",
       "          (1): Parameter containing: [torch.float32 of size 1x32]\n",
       "      )\n",
       "      (bias): ParameterList(\n",
       "          (0): Parameter containing: [torch.float32 of size 32]\n",
       "          (1): Parameter containing: [torch.float32 of size 32]\n",
       "          (2): Parameter containing: [torch.float32 of size 1]\n",
       "      )\n",
       "      (act): ReHU()\n",
       "    )\n",
       "    (rehu): ReHU()\n",
       "  )\n",
       ")"
      ]
     },
     "execution_count": 256,
     "metadata": {},
     "output_type": "execute_result"
    }
   ],
   "source": [
    "model.load_state_dict(torch.load(\"trained_models/checkpoint_10000.pth\"))\n",
    "model.eval()"
   ]
  },
  {
   "cell_type": "markdown",
   "metadata": {},
   "source": [
    "## Real energy function"
   ]
  },
  {
   "cell_type": "code",
   "execution_count": 257,
   "metadata": {
    "ExecuteTime": {
     "end_time": "2025-01-17T13:21:42.543953Z",
     "start_time": "2025-01-17T13:21:42.537690Z"
    }
   },
   "outputs": [],
   "source": [
    "from sympy import Dummy, lambdify, srepr, symbols\n",
    "from sympy.core.function import AppliedUndef\n",
    "from sympy.core.sympify import sympify\n",
    "from sympy.physics import mechanics\n",
    "from sympy.physics.vector import Vector\n",
    "from sympy.printing.printer import Printer\n",
    "import numpy as np\n",
    "import torch\n",
    "\n",
    "from models import sympy2torch\n",
    "\n",
    "def pendulum_energy(n=1, lengths=1, masses=1, include_gpe=True, include_ke=True):\n",
    "    # Generalized coordinates and velocities\n",
    "    # (in this case, angular positions & velocities of each mass) \n",
    "    q = mechanics.dynamicsymbols('q:{0}'.format(n))\n",
    "    u = mechanics.dynamicsymbols('u:{0}'.format(n))\n",
    "\n",
    "    # mass and length\n",
    "    m = symbols('m:{0}'.format(n))\n",
    "    l = symbols('l:{0}'.format(n))\n",
    "\n",
    "    # gravity and time symbols\n",
    "    g, t = symbols('g,t')\n",
    "\n",
    "    #--------------------------------------------------\n",
    "    # Step 2: build the model using Kane's Method\n",
    "\n",
    "    # Create pivot point reference frame\n",
    "    A = mechanics.ReferenceFrame('A')\n",
    "    P = mechanics.Point('P')\n",
    "    Origin = P\n",
    "    P.set_vel(A, 0)\n",
    "\n",
    "    gravity_direction = -A.x\n",
    "\n",
    "    # lists to hold particles, forces, and kinetic ODEs\n",
    "    # for each pendulum in the chain\n",
    "    particles = []\n",
    "    forces = []\n",
    "\n",
    "    gpe = []\n",
    "    ke = []\n",
    "\n",
    "    cartVel = 0.0\n",
    "    cartPos = 0.0\n",
    "\n",
    "    for i in range(n):\n",
    "        # Create a reference frame following the i^th mass\n",
    "        Ai = A.orientnew('A' + str(i), 'Axis', [q[i], A.z])\n",
    "        Ai.set_ang_vel(A, u[i] * A.z)\n",
    "\n",
    "        # Create a point in this reference frame\n",
    "        Pi = P.locatenew('P' + str(i), l[i] * Ai.x)\n",
    "        Pi.v2pt_theory(P, A, Ai)\n",
    "\n",
    "        # Create a new particle of mass m[i] at this point\n",
    "        Pai = mechanics.Particle('Pa' + str(i), Pi, m[i])\n",
    "        particles.append(Pai)\n",
    "\n",
    "        # Calculate the cartesian position and velocity:\n",
    "        # cartPos += l[i] * q[i]\n",
    "        pos = Pi.pos_from(Origin)\n",
    "\n",
    "        # This looks strange, but is verified numerically:\n",
    "        ke.append(1/n * Pai.kinetic_energy(A))\n",
    "        gpe.append(m[i] * g * (Pi.pos_from(Origin) & gravity_direction))\n",
    "\n",
    "        P = Pi\n",
    "\n",
    "\n",
    "    # lengths and masses\n",
    "    if lengths is None:\n",
    "        lengths = np.ones(n) / n\n",
    "    lengths = np.broadcast_to(lengths, n)\n",
    "    masses = np.broadcast_to(masses, n)\n",
    "\n",
    "    # Fixed parameters: gravitational constant, lengths, and masses\n",
    "    parameters = [g] + list(l) + list(m)\n",
    "    parameter_vals = [9.81] + list(lengths) + list(masses)\n",
    "\n",
    "    # define symbols for unknown parameters\n",
    "    unknowns = [Dummy() for i in q + u]\n",
    "    unknown_dict = dict(zip(q + u, unknowns))\n",
    "\n",
    "    # create functions for numerical calculation\n",
    "    total_energy = 0\n",
    "    if include_gpe:\n",
    "        total_energy += (sum(gpe)).subs(zip(parameters, parameter_vals))\n",
    "    if include_ke:\n",
    "        total_energy += (sum( ke)).subs(zip(parameters, parameter_vals))\n",
    "\n",
    "    total_energy_func = sympy2torch.sympy2torch(total_energy)\n",
    "\n",
    "    minimum_energy = total_energy_func(**fixvalue(n, torch.tensor([[0.]*2*n]))).detach()\n",
    "    return lambda inp: (total_energy_func(**fixvalue(n, inp)) - minimum_energy.to(inp)).unsqueeze(1)\n",
    "\n",
    "def fixvalue(n, value):\n",
    "    keys = [f\"q{i}_t\" for i in range(n)] + [f\"u{i}_t\" for i in range(n)]\n",
    "    rv = {}\n",
    "    for i in range(2*n):\n",
    "        if isinstance(value, list):\n",
    "            rv[keys[i]] = value[i]\n",
    "        else:\n",
    "            rv[keys[i]] = value[:,i]\n",
    "    return rv\n"
   ]
  },
  {
   "cell_type": "code",
   "execution_count": 258,
   "metadata": {
    "ExecuteTime": {
     "end_time": "2025-01-17T13:21:42.594396Z",
     "start_time": "2025-01-17T13:21:42.576996Z"
    }
   },
   "outputs": [],
   "source": [
    "N = 1\n",
    "energy_func = pendulum_energy(N)\n",
    "ke_func = pendulum_energy(N, include_gpe=False, include_ke=True)\n",
    "gpe_func = pendulum_energy(N, include_gpe=True, include_ke=False)"
   ]
  },
  {
   "cell_type": "markdown",
   "metadata": {},
   "source": [
    "# Load trajectory"
   ]
  },
  {
   "cell_type": "code",
   "execution_count": 259,
   "metadata": {
    "ExecuteTime": {
     "end_time": "2025-01-17T13:21:42.634251Z",
     "start_time": "2025-01-17T13:21:42.627277Z"
    }
   },
   "outputs": [
    {
     "name": "stdout",
     "output_type": "stream",
     "text": [
      "Loaded data: (1000, 1000, 2)\n"
     ]
    }
   ],
   "source": [
    "%matplotlib inline\n",
    "import matplotlib.pyplot as plt\n",
    "import numpy as np\n",
    "from IPython.display import HTML\n",
    "from scipy.integrate import odeint\n",
    "\n",
    "\n",
    "FILE = \"datasets/p-physics-1.npy\"\n",
    "N = 1\n",
    "\n",
    "data = np.load(FILE)\n",
    "print(f\"Loaded data: {data.shape}\")\n",
    "selected_data = data[:,9,:]\n",
    "\n",
    "# Uncomment to use the training dataset\n",
    "load = np.load(\"datasets/p-1-test.npz\")\n",
    "selected_data = load[\"X\"] "
   ]
  },
  {
   "cell_type": "code",
   "execution_count": 260,
   "metadata": {
    "ExecuteTime": {
     "end_time": "2025-01-17T13:21:42.671282Z",
     "start_time": "2025-01-17T13:21:42.666832Z"
    }
   },
   "outputs": [],
   "source": [
    "# # Assuming trajectory is your (1000, 2) array\n",
    "# # For example: trajectory = np.random.rand(1000, 2)\n",
    "\n",
    "# split_idx = int(len(selected_data) * 0.8)\n",
    "\n",
    "# # Split trajectory into train and test\n",
    "# trajectory_train = selected_data[:split_idx]  # First 800 points\n",
    "# trajectory_test = selected_data[split_idx:]   # Last 200 points\n",
    "\n",
    "# # Training data\n",
    "# X_1step_train = trajectory_train[:-1]     # Shape: (799, 2)\n",
    "# Y_1step_train = trajectory_train[1:]      # Shape: (799, 2)\n",
    "\n",
    "# X_10step_train = trajectory_train[:-10]    # Shape: (790, 2)\n",
    "# Y_10step_train = trajectory_train[10:]     # Shape: (790, 2)\n",
    "\n",
    "# # Test data\n",
    "# X_1step_test = trajectory_test[:-1]       # Shape: (199, 2)\n",
    "# Y_1step_test = trajectory_test[1:]        # Shape: (199, 2)\n",
    "\n",
    "# X_10step_test = trajectory_test[:-10]      # Shape: (190, 2)\n",
    "# Y_10step_test = trajectory_test[10:]       # Shape: (190, 2)\n",
    "\n",
    "# # Save everything in one npz file\n",
    "# np.savez('p-1-train.npz', \n",
    "#          X=X_1step_train, \n",
    "#          Y=Y_1step_train)\n",
    "\n",
    "# # Save everything in one npz file\n",
    "# np.savez('p-1-train.npz', \n",
    "#          X=X_1step_test, \n",
    "#          Y=Y_1step_test)"
   ]
  },
  {
   "cell_type": "code",
   "execution_count": 261,
   "metadata": {},
   "outputs": [],
   "source": [
    "# import numpy as np\n",
    "\n",
    "# first_traj = 50\n",
    "# last_traj = 100\n",
    "\n",
    "# # Select specific trajectories and transpose to get (N_selected_traj, steps, 2)\n",
    "# selected_data = data[:, first_traj:last_traj, :].transpose(1, 0, 2)  # Shape: (5, 1000, 2)\n",
    "# selected_data.shape\n",
    "\n",
    "# # Reshape selected data\n",
    "# X = selected_data.reshape(-1, 2)  # Shape: (5000, 2)\n",
    "\n",
    "# # Create Y by shifting X one step forward\n",
    "# Y = np.zeros_like(X)\n",
    "\n",
    "# # For each trajectory\n",
    "# for i in range(last_traj - first_traj):\n",
    "#     start_idx = i * 1000\n",
    "#     end_idx = (i + 1) * 1000\n",
    "    \n",
    "#     # Fill Y for this trajectory\n",
    "#     Y[start_idx:end_idx-1] = X[start_idx+1:end_idx]\n",
    "#     Y[end_idx-1] = X[end_idx-1]\n",
    "\n",
    "# # Calculate split point (80% training)\n",
    "# split_idx = int(0.8 * X.shape[0])\n",
    "\n",
    "# # Create training and test sets\n",
    "# X_train = X[:split_idx]\n",
    "# Y_train = Y[:split_idx]\n",
    "# X_test = X[split_idx:]\n",
    "# Y_test = Y[split_idx:]\n",
    "\n",
    "# # Save the arrays\n",
    "# np.savez('p-1-train.npz', X=X_train, Y=Y_train)\n",
    "# np.savez('p-1-test.npz', X=X_test, Y=Y_test)\n"
   ]
  },
  {
   "cell_type": "code",
   "execution_count": 262,
   "metadata": {},
   "outputs": [
    {
     "data": {
      "text/plain": [
       "(10000, 2)"
      ]
     },
     "execution_count": 262,
     "metadata": {},
     "output_type": "execute_result"
    }
   ],
   "source": [
    "X_test.shape"
   ]
  },
  {
   "cell_type": "markdown",
   "metadata": {},
   "source": [
    "## Get the estimated energy values from the model on the data"
   ]
  },
  {
   "cell_type": "code",
   "execution_count": 263,
   "metadata": {
    "ExecuteTime": {
     "end_time": "2025-01-17T13:21:42.746030Z",
     "start_time": "2025-01-17T13:21:42.707086Z"
    }
   },
   "outputs": [],
   "source": [
    "model_evals = []\n",
    "\n",
    "x_plot = []\n",
    "y_plot = []\n",
    "for i in range(len(selected_data)):\n",
    "    input = torch.FloatTensor([selected_data[i]])\n",
    "    input.requires_grad = True\n",
    "    x_plot.append(input[0][0].item())\n",
    "    y_plot.append(input[0][1].item())\n",
    "    energy_val = model.V(input).detach().item()\n",
    "    model_evals.append(energy_val)"
   ]
  },
  {
   "cell_type": "markdown",
   "metadata": {},
   "source": [
    "## Get energy values from the data based on the real function"
   ]
  },
  {
   "cell_type": "code",
   "execution_count": 264,
   "metadata": {
    "ExecuteTime": {
     "end_time": "2025-01-17T13:21:42.784169Z",
     "start_time": "2025-01-17T13:21:42.780559Z"
    }
   },
   "outputs": [],
   "source": [
    "energy     = energy_func(torch.tensor(selected_data)).numpy()\n",
    "energy_ke  =     ke_func(torch.tensor(selected_data)).numpy()\n",
    "energy_gpe =    gpe_func(torch.tensor(selected_data)).numpy()\n",
    "\n",
    "true_evals = []\n",
    "for i in range(len(selected_data)):\n",
    "    input = torch.FloatTensor([selected_data[i]])\n",
    "    input.requires_grad = True\n",
    "    true_evals.append(energy[i][0])"
   ]
  },
  {
   "cell_type": "markdown",
   "metadata": {},
   "source": [
    "## Compute differences between estimates and the true function"
   ]
  },
  {
   "cell_type": "code",
   "execution_count": 265,
   "metadata": {
    "ExecuteTime": {
     "end_time": "2025-01-17T13:21:42.820002Z",
     "start_time": "2025-01-17T13:21:42.817470Z"
    }
   },
   "outputs": [],
   "source": [
    "def top_diff_indices(true_evals, model_evals):\n",
    "    # Ensure the lists are of the same length\n",
    "    assert len(true_evals) == len(model_evals), \"Lists must be of equal length\"\n",
    "\n",
    "    # Calculate the absolute differences and store with original indices\n",
    "    differences = [(i, abs(true - model)) for i, (true, model) in enumerate(zip(true_evals, model_evals))]\n",
    "\n",
    "    # Sort the differences in descending order\n",
    "    differences.sort(key=lambda x: x[1], reverse=True)\n",
    "\n",
    "    # Calculate how many indices make up 30%\n",
    "    num_indices = int(0.8 * len(differences))\n",
    "\n",
    "    # Return the top 30% of these indices\n",
    "    return [index for index, _ in differences[:num_indices]], differences"
   ]
  },
  {
   "cell_type": "code",
   "execution_count": 266,
   "metadata": {
    "ExecuteTime": {
     "end_time": "2025-01-17T13:21:42.855676Z",
     "start_time": "2025-01-17T13:21:42.853531Z"
    }
   },
   "outputs": [],
   "source": [
    "diff_indices, diffs = top_diff_indices(true_evals, model_evals)\n",
    "diff_indices = set(diff_indices)"
   ]
  },
  {
   "cell_type": "code",
   "execution_count": 267,
   "metadata": {
    "ExecuteTime": {
     "end_time": "2025-01-17T13:21:42.891400Z",
     "start_time": "2025-01-17T13:21:42.889177Z"
    }
   },
   "outputs": [],
   "source": [
    "true_evals = [true_evals[i] for i in range(len(true_evals)) if i in diff_indices]\n",
    "model_evals = [model_evals[i] for i in range(len(model_evals)) if i in diff_indices]\n",
    "x_plot = [x_plot[i] for i in range(len(x_plot)) if i in diff_indices]\n",
    "y_plot = [y_plot[i] for i in range(len(y_plot)) if i in diff_indices]"
   ]
  },
  {
   "cell_type": "markdown",
   "metadata": {},
   "source": [
    "## Energy plots"
   ]
  },
  {
   "cell_type": "code",
   "execution_count": 269,
   "metadata": {
    "ExecuteTime": {
     "end_time": "2025-01-17T13:21:42.937397Z",
     "start_time": "2025-01-17T13:21:42.926106Z"
    }
   },
   "outputs": [
    {
     "data": {
      "application/vnd.plotly.v1+json": {
       "config": {
        "plotlyServerURL": "https://plot.ly"
       },
       "data": [
        {
         "marker": {
          "color": "blue",
          "size": 5
         },
         "mode": "markers",
         "name": "True Values",
         "type": "scatter3d",
         "x": [
          1.9383043050765991,
          1.949461579322815,
          1.7335691452026367,
          -2.4326133728027344,
          2.77870774269104,
          1.2342287302017212,
          -0.6729524731636047,
          3.077199697494507,
          2.4709842205047607,
          -1.9035183191299438,
          2.5197126865386963,
          -2.8797688484191895,
          0.1474175751209259,
          0.6466740369796753,
          1.776827335357666,
          -1.293222188949585,
          2.166569232940674,
          -1.1301028728485107,
          1.6083968877792358,
          -1.675351619720459,
          2.397772789001465,
          2.5506887435913086,
          2.6716063022613525,
          -0.019153600558638573,
          -0.14877235889434814,
          2.7171804904937744,
          2.972766399383545,
          1.4984973669052124,
          2.645542860031128,
          1.1119866371154785,
          -0.6023529767990112,
          -1.8078383207321167,
          -1.132846713066101,
          1.551283836364746,
          -2.7495484352111816,
          2.8094680309295654,
          2.5220229625701904,
          -1.66591477394104,
          -1.16255784034729,
          -2.1477601528167725,
          2.1295878887176514,
          0.4740341603755951,
          0.524888813495636,
          -1.199015736579895,
          2.9175431728363037,
          -1.175072193145752,
          -1.7544740438461304,
          -1.3799114227294922,
          2.6495471000671387,
          1.2339917421340942,
          -2.6240711212158203,
          -1.0095797777175903,
          -1.991366982460022,
          1.5828495025634766,
          2.13492488861084,
          -0.2823277413845062,
          1.4371588230133057,
          1.5766712427139282,
          -2.810344696044922,
          0.028744913637638092,
          1.6440727710723877,
          1.78374445438385,
          1.173119306564331,
          0.3338138461112976,
          -0.9229205250740051,
          2.3776040077209473,
          0.7454543709754944,
          -2.500004768371582,
          0.9878098964691162,
          0.33509767055511475,
          -3.0684123039245605,
          1.3646459579467773,
          1.428735375404358,
          -0.6779478192329407,
          2.3052892684936523,
          -2.9785513877868652,
          1.185045838356018,
          2.199138641357422,
          -2.7322371006011963,
          1.22734534740448,
          -1.2733478546142578,
          -0.3399761915206909,
          -1.7901262044906616,
          1.4249805212020874,
          2.6867430210113525,
          1.584715723991394,
          -1.479814052581787,
          0.501484751701355,
          3.0687053203582764,
          2.9163477420806885,
          -3.0486128330230713,
          2.375408172607422,
          -1.8527668714523315,
          1.3240243196487427,
          0.7069816589355469,
          2.119269847869873,
          0.9699219465255737,
          -2.9473793506622314,
          1.1332151889801025,
          -1.5202324390411377,
          -0.8417813181877136,
          -1.9170331954956055,
          -1.427465796470642,
          -1.8147894144058228,
          2.312966823577881,
          -1.3887486457824707,
          -0.8011506795883179,
          -1.2822813987731934,
          0.7011165022850037,
          -1.3551204204559326,
          2.255605697631836,
          2.0846118927001953,
          -1.7412723302841187,
          1.6377094984054565,
          1.2828997373580933,
          -0.04784027859568596,
          -2.728123188018799,
          1.5030421018600464,
          0.5727617144584656,
          -1.9716657400131226,
          1.5493018627166748,
          -2.3405840396881104,
          0.6489952206611633,
          -2.012284278869629,
          0.5818869471549988,
          -1.1661107540130615,
          2.6196298599243164,
          2.332657814025879,
          1.3091492652893066,
          0.5532023310661316,
          -2.6194629669189453,
          2.262394428253174,
          -1.5952078104019165,
          1.9911396503448486,
          -0.983591616153717,
          1.3084481954574585,
          2.603900909423828,
          2.635319232940674,
          1.7840466499328613,
          1.8112332820892334,
          1.0193043947219849,
          1.9657151699066162,
          -1.3699194192886353,
          2.1987814903259277,
          1.9982287883758545,
          2.8145222663879395,
          -1.8131166696548462,
          -3.0613906383514404,
          -1.9300298690795898,
          2.849745035171509,
          -1.0967158079147339,
          0.8997816443443298,
          2.3966023921966553,
          -2.4447154998779297,
          -1.8381952047348022,
          -2.1525208950042725,
          -2.1171886920928955,
          2.223083257675171,
          -1.9587793350219727,
          2.4563820362091064
         ],
         "y": [
          1.5923300981521606,
          2.936054229736328,
          -2.3813512325286865,
          0.12607218325138092,
          0.5573301315307617,
          1.1063390970230103,
          -1.6601711511611938,
          -2.95497727394104,
          -1.6269725561141968,
          1.8475990295410156,
          -1.3221514225006104,
          -1.1152980327606201,
          2.1863839626312256,
          -1.5951670408248901,
          -1.5176583528518677,
          -2.0239551067352295,
          2.575037717819214,
          0.49841269850730896,
          -1.2686903476715088,
          -0.9623993635177612,
          -1.5687023401260376,
          -0.7324690818786621,
          2.478069543838501,
          -1.8590219020843506,
          -1.1611579656600952,
          3.1285157203674316,
          -2.222527027130127,
          -3.0448036193847656,
          0.9409245848655701,
          -1.5955909490585327,
          -1.8976417779922485,
          0.17790845036506653,
          2.7238218784332275,
          0.45172515511512756,
          3.046126127243042,
          1.9171251058578491,
          0.14877216517925262,
          -0.622999370098114,
          -2.8088510036468506,
          -2.9573793411254883,
          1.3587995767593384,
          0.12372402101755142,
          -2.4927175045013428,
          -2.4256083965301514,
          -0.8269553780555725,
          2.0130209922790527,
          1.789529800415039,
          0.4216020405292511,
          1.2492618560791016,
          -0.011999205686151981,
          1.28288733959198,
          1.520787000656128,
          2.2004685401916504,
          -1.0611733198165894,
          -2.5106453895568848,
          2.2071692943573,
          -0.2938859760761261,
          1.9571542739868164,
          1.4438047409057617,
          -2.139832019805908,
          1.2569770812988281,
          2.0041399002075195,
          -0.3002198338508606,
          -0.29527202248573303,
          -2.652062177658081,
          0.037098292261362076,
          -1.4414253234863281,
          -2.997945785522461,
          -0.9940731525421143,
          1.7959589958190918,
          1.2297676801681519,
          2.0627174377441406,
          -2.444425344467163,
          -2.6717400550842285,
          0.24444112181663513,
          -2.8328351974487305,
          -0.48616406321525574,
          0.40088918805122375,
          -0.2884672284126282,
          -2.958357572555542,
          -2.9030370712280273,
          1.057096242904663,
          1.5439974069595337,
          0.4046705961227417,
          0.5656187534332275,
          2.7693519592285156,
          2.759664535522461,
          -1.9849520921707153,
          3.134983777999878,
          1.1172410249710083,
          0.8671395778656006,
          -1.8344860076904297,
          -1.031163215637207,
          -2.4490299224853516,
          2.1676430702209473,
          1.797308325767517,
          -1.8271533250808716,
          1.8396601676940918,
          -1.809909701347351,
          1.7032636404037476,
          -2.1858792304992676,
          2.28991436958313,
          1.8158636093139648,
          -2.259857654571533,
          -0.47258275747299194,
          3.0769989490509033,
          -2.379676342010498,
          -0.34304994344711304,
          -1.5893269777297974,
          -0.37165573239326477,
          -0.10129310935735703,
          2.5259978771209717,
          -0.3839728832244873,
          0.9611977934837341,
          -0.17551422119140625,
          -1.9275130033493042,
          2.0368902683258057,
          2.510352849960327,
          2.1683413982391357,
          1.4786601066589355,
          1.986206293106079,
          -1.9323102235794067,
          -0.4791663885116577,
          -0.11221541464328766,
          0.06385644525289536,
          -2.904184341430664,
          1.1979955434799194,
          0.6707510948181152,
          -0.6323021650314331,
          -0.2483820617198944,
          0.5720205307006836,
          2.734469175338745,
          1.6073845624923706,
          -2.727776050567627,
          2.1491618156433105,
          -2.1699459552764893,
          -1.3511756658554077,
          -0.9116214513778687,
          1.5492007732391357,
          0.7952836751937866,
          -1.3322666883468628,
          0.11279402673244476,
          2.7565770149230957,
          2.289766788482666,
          -1.4396374225616455,
          2.67756724357605,
          1.78853178024292,
          0.16428649425506592,
          2.81308650970459,
          0.6539166569709778,
          -1.8196847438812256,
          1.942193865776062,
          2.0567638874053955,
          -2.7768971920013428,
          -0.6500436663627625,
          3.015475273132324,
          -0.7998745441436768,
          2.8814470767974854,
          0.3395393192768097,
          -2.912402391433716
         ],
         "z": [
          14.602401733398438,
          17.746774673461914,
          14.235176086425781,
          17.263999938964844,
          19.136449813842773,
          7.182248592376709,
          3.516813278198242,
          23.965614318847656,
          18.819103240966797,
          14.720924377441406,
          18.657459259033203,
          19.907615661621094,
          2.496540069580078,
          3.2529940605163574,
          12.968539237976074,
          9.170026779174805,
          18.630279541015625,
          5.749587535858154,
          10.983562469482422,
          11.296926498413086,
          18.259471893310547,
          18.22484588623047,
          21.626760482788086,
          1.729781150817871,
          0.7825069427490234,
          23.64347267150879,
          21.950342178344727,
          13.736780166625977,
          18.880266189575195,
          6.738290786743164,
          3.5270352363586426,
          12.12949275970459,
          9.359344482421875,
          9.720623016357422,
          23.515159606933594,
          20.921585083007812,
          17.807666778564453,
          10.935770034790039,
          9.860319137573242,
          19.534221649169922,
          15.934057235717773,
          1.0893630981445312,
          4.427445411682129,
          9.188060760498047,
          19.71673583984375,
          8.05460262298584,
          13.202972412109375,
          8.037644386291504,
          19.236553192138672,
          6.5681328773498535,
          19.158260345458984,
          5.745352268218994,
          16.23627281188965,
          10.491283416748047,
          18.206878662109375,
          2.824181079864502,
          8.546099662780762,
          11.782859802246094,
          20.12898826599121,
          2.2934937477111816,
          11.318195343017578,
          13.891557693481445,
          6.055871963500977,
          0.585108757019043,
          7.4064412117004395,
          16.894317626953125,
          3.6406641006469727,
          22.1630859375,
          4.903494358062744,
          2.158383846282959,
          20.34990882873535,
          9.929360389709473,
          11.408673286437988,
          5.738466739654541,
          16.41464614868164,
          23.50238037109375,
          6.237120628356934,
          15.656719207763672,
          18.85108184814453,
          10.882534980773926,
          11.148681640625,
          1.120224952697754,
          13.136381149291992,
          8.466489791870117,
          18.78255271911621,
          13.781200408935547,
          12.726569175720215,
          3.1779251098632812,
          24.508014678955078,
          19.996307373046875,
          19.953590393066406,
          18.561378479003906,
          13.071270942687988,
          10.412535667419434,
          4.7005414962768555,
          16.539947509765625,
          5.933025360107422,
          21.12774658203125,
          7.2909016609191895,
          10.76473331451416,
          5.664246559143066,
          15.760980606079102,
          10.057417869567871,
          14.73337173461914,
          16.552141189575195,
          12.767921447753906,
          5.8148393630981445,
          7.077613830566406,
          3.576939105987549,
          7.779648780822754,
          16.020204544067383,
          17.821983337402344,
          11.547999382019043,
          10.927879333496094,
          7.039990425109863,
          1.8688769340515137,
          20.867795944213867,
          12.296775817871094,
          3.9164552688598633,
          14.731266021728516,
          11.571663856506348,
          18.504505157470703,
          2.1092567443847656,
          14.007965087890625,
          1.616499900817871,
          10.164654731750488,
          19.03131866455078,
          16.806499481201172,
          7.472332000732422,
          1.494044303894043,
          18.47650909423828,
          19.80517578125,
          11.341296195983887,
          17.533586502075195,
          6.684353828430176,
          9.620119094848633,
          19.14858055114746,
          18.80493927001953,
          13.086177825927734,
          12.462265014648438,
          5.55743408203125,
          13.590595245361328,
          11.651982307434082,
          18.195043563842773,
          14.912873268127441,
          22.684633255004883,
          13.763389587402344,
          19.60196304321289,
          17.215499877929688,
          19.418977737426758,
          6.987159729003906,
          5.596386909484863,
          19.136417388916016,
          21.18838119506836,
          12.613313674926758,
          19.746803283691406,
          15.227256774902344,
          19.916091918945312,
          13.578983306884766,
          21.64678955078125
         ]
        },
        {
         "marker": {
          "color": "red",
          "size": 5
         },
         "mode": "markers",
         "name": "Model Predictions",
         "type": "scatter3d",
         "x": [
          1.9383043050765991,
          1.949461579322815,
          1.7335691452026367,
          -2.4326133728027344,
          2.77870774269104,
          1.2342287302017212,
          -0.6729524731636047,
          3.077199697494507,
          2.4709842205047607,
          -1.9035183191299438,
          2.5197126865386963,
          -2.8797688484191895,
          0.1474175751209259,
          0.6466740369796753,
          1.776827335357666,
          -1.293222188949585,
          2.166569232940674,
          -1.1301028728485107,
          1.6083968877792358,
          -1.675351619720459,
          2.397772789001465,
          2.5506887435913086,
          2.6716063022613525,
          -0.019153600558638573,
          -0.14877235889434814,
          2.7171804904937744,
          2.972766399383545,
          1.4984973669052124,
          2.645542860031128,
          1.1119866371154785,
          -0.6023529767990112,
          -1.8078383207321167,
          -1.132846713066101,
          1.551283836364746,
          -2.7495484352111816,
          2.8094680309295654,
          2.5220229625701904,
          -1.66591477394104,
          -1.16255784034729,
          -2.1477601528167725,
          2.1295878887176514,
          0.4740341603755951,
          0.524888813495636,
          -1.199015736579895,
          2.9175431728363037,
          -1.175072193145752,
          -1.7544740438461304,
          -1.3799114227294922,
          2.6495471000671387,
          1.2339917421340942,
          -2.6240711212158203,
          -1.0095797777175903,
          -1.991366982460022,
          1.5828495025634766,
          2.13492488861084,
          -0.2823277413845062,
          1.4371588230133057,
          1.5766712427139282,
          -2.810344696044922,
          0.028744913637638092,
          1.6440727710723877,
          1.78374445438385,
          1.173119306564331,
          0.3338138461112976,
          -0.9229205250740051,
          2.3776040077209473,
          0.7454543709754944,
          -2.500004768371582,
          0.9878098964691162,
          0.33509767055511475,
          -3.0684123039245605,
          1.3646459579467773,
          1.428735375404358,
          -0.6779478192329407,
          2.3052892684936523,
          -2.9785513877868652,
          1.185045838356018,
          2.199138641357422,
          -2.7322371006011963,
          1.22734534740448,
          -1.2733478546142578,
          -0.3399761915206909,
          -1.7901262044906616,
          1.4249805212020874,
          2.6867430210113525,
          1.584715723991394,
          -1.479814052581787,
          0.501484751701355,
          3.0687053203582764,
          2.9163477420806885,
          -3.0486128330230713,
          2.375408172607422,
          -1.8527668714523315,
          1.3240243196487427,
          0.7069816589355469,
          2.119269847869873,
          0.9699219465255737,
          -2.9473793506622314,
          1.1332151889801025,
          -1.5202324390411377,
          -0.8417813181877136,
          -1.9170331954956055,
          -1.427465796470642,
          -1.8147894144058228,
          2.312966823577881,
          -1.3887486457824707,
          -0.8011506795883179,
          -1.2822813987731934,
          0.7011165022850037,
          -1.3551204204559326,
          2.255605697631836,
          2.0846118927001953,
          -1.7412723302841187,
          1.6377094984054565,
          1.2828997373580933,
          -0.04784027859568596,
          -2.728123188018799,
          1.5030421018600464,
          0.5727617144584656,
          -1.9716657400131226,
          1.5493018627166748,
          -2.3405840396881104,
          0.6489952206611633,
          -2.012284278869629,
          0.5818869471549988,
          -1.1661107540130615,
          2.6196298599243164,
          2.332657814025879,
          1.3091492652893066,
          0.5532023310661316,
          -2.6194629669189453,
          2.262394428253174,
          -1.5952078104019165,
          1.9911396503448486,
          -0.983591616153717,
          1.3084481954574585,
          2.603900909423828,
          2.635319232940674,
          1.7840466499328613,
          1.8112332820892334,
          1.0193043947219849,
          1.9657151699066162,
          -1.3699194192886353,
          2.1987814903259277,
          1.9982287883758545,
          2.8145222663879395,
          -1.8131166696548462,
          -3.0613906383514404,
          -1.9300298690795898,
          2.849745035171509,
          -1.0967158079147339,
          0.8997816443443298,
          2.3966023921966553,
          -2.4447154998779297,
          -1.8381952047348022,
          -2.1525208950042725,
          -2.1171886920928955,
          2.223083257675171,
          -1.9587793350219727,
          2.4563820362091064
         ],
         "y": [
          1.5923300981521606,
          2.936054229736328,
          -2.3813512325286865,
          0.12607218325138092,
          0.5573301315307617,
          1.1063390970230103,
          -1.6601711511611938,
          -2.95497727394104,
          -1.6269725561141968,
          1.8475990295410156,
          -1.3221514225006104,
          -1.1152980327606201,
          2.1863839626312256,
          -1.5951670408248901,
          -1.5176583528518677,
          -2.0239551067352295,
          2.575037717819214,
          0.49841269850730896,
          -1.2686903476715088,
          -0.9623993635177612,
          -1.5687023401260376,
          -0.7324690818786621,
          2.478069543838501,
          -1.8590219020843506,
          -1.1611579656600952,
          3.1285157203674316,
          -2.222527027130127,
          -3.0448036193847656,
          0.9409245848655701,
          -1.5955909490585327,
          -1.8976417779922485,
          0.17790845036506653,
          2.7238218784332275,
          0.45172515511512756,
          3.046126127243042,
          1.9171251058578491,
          0.14877216517925262,
          -0.622999370098114,
          -2.8088510036468506,
          -2.9573793411254883,
          1.3587995767593384,
          0.12372402101755142,
          -2.4927175045013428,
          -2.4256083965301514,
          -0.8269553780555725,
          2.0130209922790527,
          1.789529800415039,
          0.4216020405292511,
          1.2492618560791016,
          -0.011999205686151981,
          1.28288733959198,
          1.520787000656128,
          2.2004685401916504,
          -1.0611733198165894,
          -2.5106453895568848,
          2.2071692943573,
          -0.2938859760761261,
          1.9571542739868164,
          1.4438047409057617,
          -2.139832019805908,
          1.2569770812988281,
          2.0041399002075195,
          -0.3002198338508606,
          -0.29527202248573303,
          -2.652062177658081,
          0.037098292261362076,
          -1.4414253234863281,
          -2.997945785522461,
          -0.9940731525421143,
          1.7959589958190918,
          1.2297676801681519,
          2.0627174377441406,
          -2.444425344467163,
          -2.6717400550842285,
          0.24444112181663513,
          -2.8328351974487305,
          -0.48616406321525574,
          0.40088918805122375,
          -0.2884672284126282,
          -2.958357572555542,
          -2.9030370712280273,
          1.057096242904663,
          1.5439974069595337,
          0.4046705961227417,
          0.5656187534332275,
          2.7693519592285156,
          2.759664535522461,
          -1.9849520921707153,
          3.134983777999878,
          1.1172410249710083,
          0.8671395778656006,
          -1.8344860076904297,
          -1.031163215637207,
          -2.4490299224853516,
          2.1676430702209473,
          1.797308325767517,
          -1.8271533250808716,
          1.8396601676940918,
          -1.809909701347351,
          1.7032636404037476,
          -2.1858792304992676,
          2.28991436958313,
          1.8158636093139648,
          -2.259857654571533,
          -0.47258275747299194,
          3.0769989490509033,
          -2.379676342010498,
          -0.34304994344711304,
          -1.5893269777297974,
          -0.37165573239326477,
          -0.10129310935735703,
          2.5259978771209717,
          -0.3839728832244873,
          0.9611977934837341,
          -0.17551422119140625,
          -1.9275130033493042,
          2.0368902683258057,
          2.510352849960327,
          2.1683413982391357,
          1.4786601066589355,
          1.986206293106079,
          -1.9323102235794067,
          -0.4791663885116577,
          -0.11221541464328766,
          0.06385644525289536,
          -2.904184341430664,
          1.1979955434799194,
          0.6707510948181152,
          -0.6323021650314331,
          -0.2483820617198944,
          0.5720205307006836,
          2.734469175338745,
          1.6073845624923706,
          -2.727776050567627,
          2.1491618156433105,
          -2.1699459552764893,
          -1.3511756658554077,
          -0.9116214513778687,
          1.5492007732391357,
          0.7952836751937866,
          -1.3322666883468628,
          0.11279402673244476,
          2.7565770149230957,
          2.289766788482666,
          -1.4396374225616455,
          2.67756724357605,
          1.78853178024292,
          0.16428649425506592,
          2.81308650970459,
          0.6539166569709778,
          -1.8196847438812256,
          1.942193865776062,
          2.0567638874053955,
          -2.7768971920013428,
          -0.6500436663627625,
          3.015475273132324,
          -0.7998745441436768,
          2.8814470767974854,
          0.3395393192768097,
          -2.912402391433716
         ],
         "z": [
          11.746335983276367,
          15.005767822265625,
          10.214747428894043,
          15.660563468933105,
          16.227603912353516,
          6.2597222328186035,
          4.1421356201171875,
          20.576526641845703,
          14.605072021484375,
          12.229253768920898,
          14.718011856079102,
          20.469141006469727,
          3.354281187057495,
          1.9854999780654907,
          9.42226791381836,
          9.59760856628418,
          15.439620971679688,
          5.176284313201904,
          7.946085453033447,
          10.16596794128418,
          14.012321472167969,
          14.56551742553711,
          18.5009708404541,
          1.2133963108062744,
          0.15944960713386536,
          20.346086502075195,
          18.894550323486328,
          9.920496940612793,
          15.588371276855469,
          4.7946858406066895,
          4.239372253417969,
          10.511611938476562,
          8.617895126342773,
          7.343969821929932,
          20.106643676757812,
          18.221967697143555,
          14.131528854370117,
          9.569811820983887,
          10.761448860168457,
          18.474140167236328,
          12.606953620910645,
          0.25739094614982605,
          3.872013807296753,
          9.979944229125977,
          17.399295806884766,
          7.257842540740967,
          11.057719230651855,
          7.080603122711182,
          16.04365348815918,
          4.8621954917907715,
          17.479528427124023,
          5.301465034484863,
          13.338781356811523,
          7.568046569824219,
          13.250288009643555,
          3.461221933364868,
          6.2399091720581055,
          10.163261413574219,
          19.068193435668945,
          1.8937861919403076,
          9.149406433105469,
          11.580606460571289,
          4.366872310638428,
          0.001986172515898943,
          8.559762954711914,
          13.062305450439453,
          2.170707941055298,
          21.201642990112305,
          3.3865513801574707,
          2.902613639831543,
          21.140731811523438,
          9.094045639038086,
          8.208521842956543,
          6.834024429321289,
          12.579597473144531,
          24.49135398864746,
          4.483257293701172,
          11.8761625289917,
          18.340438842773438,
          8.120476722717285,
          11.84309196472168,
          0.5048327445983887,
          11.005160331726074,
          6.44746208190918,
          15.554524421691895,
          12.287939071655273,
          10.840575218200684,
          2.4849283695220947,
          22.701757431030273,
          17.778108596801758,
          20.894596099853516,
          14.10463809967041,
          11.684514999389648,
          7.571646690368652,
          5.698957443237305,
          13.343184471130371,
          4.120131492614746,
          20.36333465576172,
          5.203915119171143,
          9.224067687988281,
          6.715366363525391,
          12.935081481933594,
          8.706562995910645,
          14.07009220123291,
          12.677508354187012,
          11.061652183532715,
          6.935851573944092,
          6.490105628967285,
          2.2052412033081055,
          7.044988632202148,
          12.165059089660645,
          14.798796653747559,
          10.030755043029785,
          8.61439323425293,
          5.154111862182617,
          1.4514052867889404,
          18.683975219726562,
          11.109679222106934,
          5.077642440795898,
          12.29218578338623,
          10.061880111694336,
          17.322481155395508,
          0.8975830674171448,
          12.164920806884766,
          0.6841307878494263,
          11.05263614654541,
          15.754523277282715,
          13.068180084228516,
          5.403324604034424,
          0.35176363587379456,
          17.272987365722656,
          16.451812744140625,
          9.649466514587402,
          12.508256912231445,
          6.282601356506348,
          6.9122161865234375,
          15.368480682373047,
          15.300820350646973,
          10.630550384521484,
          9.536429405212402,
          3.874767303466797,
          10.097214698791504,
          10.135579109191895,
          14.913297653198242,
          10.951024055480957,
          19.92402458190918,
          11.487381935119629,
          20.968334197998047,
          13.934555053710938,
          16.835256576538086,
          7.616611480712891,
          6.0301666259765625,
          15.694781303405762,
          20.176715850830078,
          11.011619567871094,
          15.85611343383789,
          13.51357364654541,
          16.5833797454834,
          11.775225639343262,
          16.076576232910156
         ]
        }
       ],
       "layout": {
        "autosize": false,
        "height": 700,
        "legend": {
         "x": 0.01,
         "xanchor": "left",
         "y": 0.99,
         "yanchor": "top"
        },
        "margin": {
         "b": 65,
         "l": 65,
         "r": 50,
         "t": 90
        },
        "scene": {
         "aspectmode": "cube",
         "xaxis": {
          "title": {
           "text": "X"
          }
         },
         "yaxis": {
          "title": {
           "text": "Y"
          }
         },
         "zaxis": {
          "title": {
           "text": "V(x)"
          }
         }
        },
        "template": {
         "data": {
          "bar": [
           {
            "error_x": {
             "color": "#2a3f5f"
            },
            "error_y": {
             "color": "#2a3f5f"
            },
            "marker": {
             "line": {
              "color": "#E5ECF6",
              "width": 0.5
             },
             "pattern": {
              "fillmode": "overlay",
              "size": 10,
              "solidity": 0.2
             }
            },
            "type": "bar"
           }
          ],
          "barpolar": [
           {
            "marker": {
             "line": {
              "color": "#E5ECF6",
              "width": 0.5
             },
             "pattern": {
              "fillmode": "overlay",
              "size": 10,
              "solidity": 0.2
             }
            },
            "type": "barpolar"
           }
          ],
          "carpet": [
           {
            "aaxis": {
             "endlinecolor": "#2a3f5f",
             "gridcolor": "white",
             "linecolor": "white",
             "minorgridcolor": "white",
             "startlinecolor": "#2a3f5f"
            },
            "baxis": {
             "endlinecolor": "#2a3f5f",
             "gridcolor": "white",
             "linecolor": "white",
             "minorgridcolor": "white",
             "startlinecolor": "#2a3f5f"
            },
            "type": "carpet"
           }
          ],
          "choropleth": [
           {
            "colorbar": {
             "outlinewidth": 0,
             "ticks": ""
            },
            "type": "choropleth"
           }
          ],
          "contour": [
           {
            "colorbar": {
             "outlinewidth": 0,
             "ticks": ""
            },
            "colorscale": [
             [
              0,
              "#0d0887"
             ],
             [
              0.1111111111111111,
              "#46039f"
             ],
             [
              0.2222222222222222,
              "#7201a8"
             ],
             [
              0.3333333333333333,
              "#9c179e"
             ],
             [
              0.4444444444444444,
              "#bd3786"
             ],
             [
              0.5555555555555556,
              "#d8576b"
             ],
             [
              0.6666666666666666,
              "#ed7953"
             ],
             [
              0.7777777777777778,
              "#fb9f3a"
             ],
             [
              0.8888888888888888,
              "#fdca26"
             ],
             [
              1,
              "#f0f921"
             ]
            ],
            "type": "contour"
           }
          ],
          "contourcarpet": [
           {
            "colorbar": {
             "outlinewidth": 0,
             "ticks": ""
            },
            "type": "contourcarpet"
           }
          ],
          "heatmap": [
           {
            "colorbar": {
             "outlinewidth": 0,
             "ticks": ""
            },
            "colorscale": [
             [
              0,
              "#0d0887"
             ],
             [
              0.1111111111111111,
              "#46039f"
             ],
             [
              0.2222222222222222,
              "#7201a8"
             ],
             [
              0.3333333333333333,
              "#9c179e"
             ],
             [
              0.4444444444444444,
              "#bd3786"
             ],
             [
              0.5555555555555556,
              "#d8576b"
             ],
             [
              0.6666666666666666,
              "#ed7953"
             ],
             [
              0.7777777777777778,
              "#fb9f3a"
             ],
             [
              0.8888888888888888,
              "#fdca26"
             ],
             [
              1,
              "#f0f921"
             ]
            ],
            "type": "heatmap"
           }
          ],
          "heatmapgl": [
           {
            "colorbar": {
             "outlinewidth": 0,
             "ticks": ""
            },
            "colorscale": [
             [
              0,
              "#0d0887"
             ],
             [
              0.1111111111111111,
              "#46039f"
             ],
             [
              0.2222222222222222,
              "#7201a8"
             ],
             [
              0.3333333333333333,
              "#9c179e"
             ],
             [
              0.4444444444444444,
              "#bd3786"
             ],
             [
              0.5555555555555556,
              "#d8576b"
             ],
             [
              0.6666666666666666,
              "#ed7953"
             ],
             [
              0.7777777777777778,
              "#fb9f3a"
             ],
             [
              0.8888888888888888,
              "#fdca26"
             ],
             [
              1,
              "#f0f921"
             ]
            ],
            "type": "heatmapgl"
           }
          ],
          "histogram": [
           {
            "marker": {
             "pattern": {
              "fillmode": "overlay",
              "size": 10,
              "solidity": 0.2
             }
            },
            "type": "histogram"
           }
          ],
          "histogram2d": [
           {
            "colorbar": {
             "outlinewidth": 0,
             "ticks": ""
            },
            "colorscale": [
             [
              0,
              "#0d0887"
             ],
             [
              0.1111111111111111,
              "#46039f"
             ],
             [
              0.2222222222222222,
              "#7201a8"
             ],
             [
              0.3333333333333333,
              "#9c179e"
             ],
             [
              0.4444444444444444,
              "#bd3786"
             ],
             [
              0.5555555555555556,
              "#d8576b"
             ],
             [
              0.6666666666666666,
              "#ed7953"
             ],
             [
              0.7777777777777778,
              "#fb9f3a"
             ],
             [
              0.8888888888888888,
              "#fdca26"
             ],
             [
              1,
              "#f0f921"
             ]
            ],
            "type": "histogram2d"
           }
          ],
          "histogram2dcontour": [
           {
            "colorbar": {
             "outlinewidth": 0,
             "ticks": ""
            },
            "colorscale": [
             [
              0,
              "#0d0887"
             ],
             [
              0.1111111111111111,
              "#46039f"
             ],
             [
              0.2222222222222222,
              "#7201a8"
             ],
             [
              0.3333333333333333,
              "#9c179e"
             ],
             [
              0.4444444444444444,
              "#bd3786"
             ],
             [
              0.5555555555555556,
              "#d8576b"
             ],
             [
              0.6666666666666666,
              "#ed7953"
             ],
             [
              0.7777777777777778,
              "#fb9f3a"
             ],
             [
              0.8888888888888888,
              "#fdca26"
             ],
             [
              1,
              "#f0f921"
             ]
            ],
            "type": "histogram2dcontour"
           }
          ],
          "mesh3d": [
           {
            "colorbar": {
             "outlinewidth": 0,
             "ticks": ""
            },
            "type": "mesh3d"
           }
          ],
          "parcoords": [
           {
            "line": {
             "colorbar": {
              "outlinewidth": 0,
              "ticks": ""
             }
            },
            "type": "parcoords"
           }
          ],
          "pie": [
           {
            "automargin": true,
            "type": "pie"
           }
          ],
          "scatter": [
           {
            "fillpattern": {
             "fillmode": "overlay",
             "size": 10,
             "solidity": 0.2
            },
            "type": "scatter"
           }
          ],
          "scatter3d": [
           {
            "line": {
             "colorbar": {
              "outlinewidth": 0,
              "ticks": ""
             }
            },
            "marker": {
             "colorbar": {
              "outlinewidth": 0,
              "ticks": ""
             }
            },
            "type": "scatter3d"
           }
          ],
          "scattercarpet": [
           {
            "marker": {
             "colorbar": {
              "outlinewidth": 0,
              "ticks": ""
             }
            },
            "type": "scattercarpet"
           }
          ],
          "scattergeo": [
           {
            "marker": {
             "colorbar": {
              "outlinewidth": 0,
              "ticks": ""
             }
            },
            "type": "scattergeo"
           }
          ],
          "scattergl": [
           {
            "marker": {
             "colorbar": {
              "outlinewidth": 0,
              "ticks": ""
             }
            },
            "type": "scattergl"
           }
          ],
          "scattermapbox": [
           {
            "marker": {
             "colorbar": {
              "outlinewidth": 0,
              "ticks": ""
             }
            },
            "type": "scattermapbox"
           }
          ],
          "scatterpolar": [
           {
            "marker": {
             "colorbar": {
              "outlinewidth": 0,
              "ticks": ""
             }
            },
            "type": "scatterpolar"
           }
          ],
          "scatterpolargl": [
           {
            "marker": {
             "colorbar": {
              "outlinewidth": 0,
              "ticks": ""
             }
            },
            "type": "scatterpolargl"
           }
          ],
          "scatterternary": [
           {
            "marker": {
             "colorbar": {
              "outlinewidth": 0,
              "ticks": ""
             }
            },
            "type": "scatterternary"
           }
          ],
          "surface": [
           {
            "colorbar": {
             "outlinewidth": 0,
             "ticks": ""
            },
            "colorscale": [
             [
              0,
              "#0d0887"
             ],
             [
              0.1111111111111111,
              "#46039f"
             ],
             [
              0.2222222222222222,
              "#7201a8"
             ],
             [
              0.3333333333333333,
              "#9c179e"
             ],
             [
              0.4444444444444444,
              "#bd3786"
             ],
             [
              0.5555555555555556,
              "#d8576b"
             ],
             [
              0.6666666666666666,
              "#ed7953"
             ],
             [
              0.7777777777777778,
              "#fb9f3a"
             ],
             [
              0.8888888888888888,
              "#fdca26"
             ],
             [
              1,
              "#f0f921"
             ]
            ],
            "type": "surface"
           }
          ],
          "table": [
           {
            "cells": {
             "fill": {
              "color": "#EBF0F8"
             },
             "line": {
              "color": "white"
             }
            },
            "header": {
             "fill": {
              "color": "#C8D4E3"
             },
             "line": {
              "color": "white"
             }
            },
            "type": "table"
           }
          ]
         },
         "layout": {
          "annotationdefaults": {
           "arrowcolor": "#2a3f5f",
           "arrowhead": 0,
           "arrowwidth": 1
          },
          "autotypenumbers": "strict",
          "coloraxis": {
           "colorbar": {
            "outlinewidth": 0,
            "ticks": ""
           }
          },
          "colorscale": {
           "diverging": [
            [
             0,
             "#8e0152"
            ],
            [
             0.1,
             "#c51b7d"
            ],
            [
             0.2,
             "#de77ae"
            ],
            [
             0.3,
             "#f1b6da"
            ],
            [
             0.4,
             "#fde0ef"
            ],
            [
             0.5,
             "#f7f7f7"
            ],
            [
             0.6,
             "#e6f5d0"
            ],
            [
             0.7,
             "#b8e186"
            ],
            [
             0.8,
             "#7fbc41"
            ],
            [
             0.9,
             "#4d9221"
            ],
            [
             1,
             "#276419"
            ]
           ],
           "sequential": [
            [
             0,
             "#0d0887"
            ],
            [
             0.1111111111111111,
             "#46039f"
            ],
            [
             0.2222222222222222,
             "#7201a8"
            ],
            [
             0.3333333333333333,
             "#9c179e"
            ],
            [
             0.4444444444444444,
             "#bd3786"
            ],
            [
             0.5555555555555556,
             "#d8576b"
            ],
            [
             0.6666666666666666,
             "#ed7953"
            ],
            [
             0.7777777777777778,
             "#fb9f3a"
            ],
            [
             0.8888888888888888,
             "#fdca26"
            ],
            [
             1,
             "#f0f921"
            ]
           ],
           "sequentialminus": [
            [
             0,
             "#0d0887"
            ],
            [
             0.1111111111111111,
             "#46039f"
            ],
            [
             0.2222222222222222,
             "#7201a8"
            ],
            [
             0.3333333333333333,
             "#9c179e"
            ],
            [
             0.4444444444444444,
             "#bd3786"
            ],
            [
             0.5555555555555556,
             "#d8576b"
            ],
            [
             0.6666666666666666,
             "#ed7953"
            ],
            [
             0.7777777777777778,
             "#fb9f3a"
            ],
            [
             0.8888888888888888,
             "#fdca26"
            ],
            [
             1,
             "#f0f921"
            ]
           ]
          },
          "colorway": [
           "#636efa",
           "#EF553B",
           "#00cc96",
           "#ab63fa",
           "#FFA15A",
           "#19d3f3",
           "#FF6692",
           "#B6E880",
           "#FF97FF",
           "#FECB52"
          ],
          "font": {
           "color": "#2a3f5f"
          },
          "geo": {
           "bgcolor": "white",
           "lakecolor": "white",
           "landcolor": "#E5ECF6",
           "showlakes": true,
           "showland": true,
           "subunitcolor": "white"
          },
          "hoverlabel": {
           "align": "left"
          },
          "hovermode": "closest",
          "mapbox": {
           "style": "light"
          },
          "paper_bgcolor": "white",
          "plot_bgcolor": "#E5ECF6",
          "polar": {
           "angularaxis": {
            "gridcolor": "white",
            "linecolor": "white",
            "ticks": ""
           },
           "bgcolor": "#E5ECF6",
           "radialaxis": {
            "gridcolor": "white",
            "linecolor": "white",
            "ticks": ""
           }
          },
          "scene": {
           "xaxis": {
            "backgroundcolor": "#E5ECF6",
            "gridcolor": "white",
            "gridwidth": 2,
            "linecolor": "white",
            "showbackground": true,
            "ticks": "",
            "zerolinecolor": "white"
           },
           "yaxis": {
            "backgroundcolor": "#E5ECF6",
            "gridcolor": "white",
            "gridwidth": 2,
            "linecolor": "white",
            "showbackground": true,
            "ticks": "",
            "zerolinecolor": "white"
           },
           "zaxis": {
            "backgroundcolor": "#E5ECF6",
            "gridcolor": "white",
            "gridwidth": 2,
            "linecolor": "white",
            "showbackground": true,
            "ticks": "",
            "zerolinecolor": "white"
           }
          },
          "shapedefaults": {
           "line": {
            "color": "#2a3f5f"
           }
          },
          "ternary": {
           "aaxis": {
            "gridcolor": "white",
            "linecolor": "white",
            "ticks": ""
           },
           "baxis": {
            "gridcolor": "white",
            "linecolor": "white",
            "ticks": ""
           },
           "bgcolor": "#E5ECF6",
           "caxis": {
            "gridcolor": "white",
            "linecolor": "white",
            "ticks": ""
           }
          },
          "title": {
           "x": 0.05
          },
          "xaxis": {
           "automargin": true,
           "gridcolor": "white",
           "linecolor": "white",
           "ticks": "",
           "title": {
            "standoff": 15
           },
           "zerolinecolor": "white",
           "zerolinewidth": 2
          },
          "yaxis": {
           "automargin": true,
           "gridcolor": "white",
           "linecolor": "white",
           "ticks": "",
           "title": {
            "standoff": 15
           },
           "zerolinecolor": "white",
           "zerolinewidth": 2
          }
         }
        },
        "title": {
         "text": "Comparison of True Values and Model Predictions"
        },
        "width": 700
       }
      }
     },
     "metadata": {},
     "output_type": "display_data"
    }
   ],
   "source": [
    "import plotly.graph_objects as go\n",
    "import numpy as np\n",
    "\n",
    "# Assuming your x_plot, y_plot, true_evals, and model_evals are lists or numpy arrays of 199 elements each\n",
    "x_plot = np.array(x_plot)\n",
    "y_plot = np.array(y_plot)\n",
    "true_evals = np.array(true_evals)\n",
    "model_evals = np.array(model_evals)\n",
    "\n",
    "fig = go.Figure(data=[\n",
    "    go.Scatter3d(x=x_plot, y=y_plot, z=true_evals, mode='markers', name='True Values', \n",
    "                 marker=dict(color='blue', size=5)),\n",
    "    go.Scatter3d(x=x_plot, y=y_plot, z=model_evals, mode='markers', name='Model Predictions', \n",
    "                 marker=dict(color='red', size=5))\n",
    "])\n",
    "\n",
    "fig.update_layout(\n",
    "    title='Comparison of True Values and Model Predictions',\n",
    "    autosize=False,\n",
    "    width=700,\n",
    "    height=700,\n",
    "    margin=dict(l=65, r=50, b=65, t=90),\n",
    "    scene=dict(\n",
    "        xaxis_title='X',\n",
    "        yaxis_title='Y',\n",
    "        zaxis_title='V(x)',\n",
    "        aspectmode='cube'\n",
    "    ),\n",
    "    legend=dict(\n",
    "        yanchor=\"top\",\n",
    "        y=0.99,\n",
    "        xanchor=\"left\",\n",
    "        x=0.01\n",
    "    )\n",
    ")\n",
    "\n",
    "fig.show()"
   ]
  }
 ],
 "metadata": {
  "kernelspec": {
   "display_name": ".venv",
   "language": "python",
   "name": "python3"
  },
  "language_info": {
   "codemirror_mode": {
    "name": "ipython",
    "version": 3
   },
   "file_extension": ".py",
   "mimetype": "text/x-python",
   "name": "python",
   "nbconvert_exporter": "python",
   "pygments_lexer": "ipython3",
   "version": "3.12.4"
  }
 },
 "nbformat": 4,
 "nbformat_minor": 2
}
