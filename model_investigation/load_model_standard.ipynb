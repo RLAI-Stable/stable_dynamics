{
 "cells": [
  {
   "cell_type": "markdown",
   "metadata": {},
   "source": [
    "# Setup"
   ]
  },
  {
   "cell_type": "code",
   "execution_count": 31,
   "metadata": {
    "ExecuteTime": {
     "end_time": "2024-11-01T17:30:52.198526Z",
     "start_time": "2024-11-01T17:30:51.068724Z"
    }
   },
   "outputs": [],
   "source": [
    "import logging\n",
    "import math\n",
    "\n",
    "import torch\n",
    "import torch.nn.functional as F\n",
    "from torch import nn\n",
    "\n",
    "#\n",
    "# From StableDynamics.ipynb; Zico Kolter\n",
    "#\n",
    "\n",
    "# You can use this to compensate for numeric error:\n",
    "VERIFY = False\n",
    "V_SCALE = 0.01\n",
    "\n",
    "global V_WRAP, SCALE_FX\n",
    "V_WRAP = False\n",
    "SCALE_FX = False\n",
    "\n",
    "class Dynamics(nn.Module):\n",
    "    def __init__(self, fhat, V, alpha=0.01):\n",
    "        super().__init__()\n",
    "        self.fhat = fhat\n",
    "        self.V = V\n",
    "        self.alpha = 0 # alpha\n",
    "\n",
    "    def forward(self, x):\n",
    "        fx = self.fhat(x)\n",
    "        if SCALE_FX:\n",
    "            fx = fx / fx.norm(p=2, dim=1, keepdim=True).clamp(min=1.0)\n",
    "\n",
    "        Vx = self.V(x)\n",
    "        gV = torch.autograd.grad([a for a in Vx], [x], create_graph=True, only_inputs=True)[0]\n",
    "        rv = fx - gV * (F.relu((gV*fx).sum(dim=1) + self.alpha*Vx[:,0])/(gV**2).sum(dim=1))[:,None]\n",
    "\n",
    "        if VERIFY:\n",
    "            # Verify that rv has no positive component along gV.\n",
    "            # This helps us catch:\n",
    "            #   (1) numeric error in the symbolic gradient calculation, and\n",
    "            #   (2) Violation of the Lyapunov function when Euler integration is used.\n",
    "            verify = (gV * rv).sum(dim=1)\n",
    "            num_violation = len([v for v in verify if v > 0]) # (1)\n",
    "            new_V = self.V(x + V_SCALE * rv)\n",
    "            if (new_V > Vx).any(): # (2)\n",
    "                err = sorted([v for v in (new_V - Vx).detach().cpu().numpy().ravel() if v > 0], reverse=True)\n",
    "\n",
    "        return rv\n",
    "\n",
    "class ICNN(nn.Module):\n",
    "    def __init__(self, layer_sizes, activation=F.relu_):\n",
    "        super().__init__()\n",
    "        self.W = nn.ParameterList([nn.Parameter(torch.Tensor(l, layer_sizes[0])) \n",
    "                                   for l in layer_sizes[1:]])\n",
    "        self.U = nn.ParameterList([nn.Parameter(torch.Tensor(layer_sizes[i+1], layer_sizes[i]))\n",
    "                                   for i in range(1,len(layer_sizes)-1)])\n",
    "        self.bias = nn.ParameterList([nn.Parameter(torch.Tensor(l)) for l in layer_sizes[1:]])\n",
    "        self.act = activation\n",
    "        self.reset_parameters()\n",
    "\n",
    "    def reset_parameters(self):\n",
    "        # copying from PyTorch Linear\n",
    "        for W in self.W:\n",
    "            nn.init.kaiming_uniform_(W, a=5**0.5)\n",
    "        for U in self.U:\n",
    "            nn.init.kaiming_uniform_(U, a=5**0.5)\n",
    "        for i,b in enumerate(self.bias):\n",
    "            fan_in, _ = nn.init._calculate_fan_in_and_fan_out(self.W[i])\n",
    "            bound = 1 / (fan_in**0.5)\n",
    "            nn.init.uniform_(b, -bound, bound)\n",
    "\n",
    "    def forward(self, x):\n",
    "        z = F.linear(x, self.W[0], self.bias[0])\n",
    "        z = self.act(z)\n",
    "\n",
    "        for W,b,U in zip(self.W[1:-1], self.bias[1:-1], self.U[:-1]):\n",
    "            z = F.linear(x, W, b) + F.linear(z, F.softplus(U)) / U.shape[0]\n",
    "            z = self.act(z)\n",
    "\n",
    "        return F.linear(x, self.W[-1], self.bias[-1]) + F.linear(z, F.softplus(self.U[-1])) / self.U[-1].shape[0]\n",
    "\n",
    "\n",
    "\n",
    "class ReHU(nn.Module):\n",
    "    \"\"\" Rectified Huber unit\"\"\"\n",
    "    def __init__(self, d):\n",
    "        super().__init__()\n",
    "        self.a = 1/d\n",
    "        self.b = -d/2\n",
    "\n",
    "    def forward(self, x):\n",
    "        return torch.max(torch.clamp(torch.sign(x)*self.a/2*x**2,min=0,max=-self.b),x+self.b)\n",
    "\n",
    "class MakePSD(nn.Module):\n",
    "    def __init__(self, f, n, eps=0.01, d=1.0):\n",
    "        super().__init__()\n",
    "        self.f = f\n",
    "        self.zero = torch.nn.Parameter(f(torch.zeros(1,n)), requires_grad=False)\n",
    "        self.eps = eps\n",
    "        self.d = d\n",
    "        self.rehu = ReHU(self.d)\n",
    "\n",
    "    def forward(self, x):\n",
    "        smoothed_output = self.rehu(self.f(x) - self.zero)\n",
    "        quadratic_under = self.eps*(x**2).sum(1,keepdim=True)\n",
    "        return smoothed_output + quadratic_under\n",
    "\n",
    "class PosDefICNN(nn.Module):\n",
    "    def __init__(self, layer_sizes, eps=0.1, negative_slope=0.05):\n",
    "        super().__init__()\n",
    "        self.W = nn.ParameterList([nn.Parameter(torch.Tensor(l, layer_sizes[0])) \n",
    "                                   for l in layer_sizes[1:]])\n",
    "        self.U = nn.ParameterList([nn.Parameter(torch.Tensor(layer_sizes[i+1], layer_sizes[i]))\n",
    "                                   for i in range(1,len(layer_sizes)-1)])\n",
    "        self.eps = eps\n",
    "        self.negative_slope = negative_slope\n",
    "        self.reset_parameters()\n",
    "\n",
    "    def reset_parameters(self):\n",
    "        # copying from PyTorch Linear\n",
    "        for W in self.W:\n",
    "            nn.init.kaiming_uniform_(W, a=5**0.5)\n",
    "        for U in self.U:\n",
    "            nn.init.kaiming_uniform_(U, a=5**0.5)\n",
    "\n",
    "    def forward(self, x):\n",
    "        z = F.linear(x, self.W[0])\n",
    "        F.leaky_relu_(z, negative_slope=self.negative_slope)\n",
    "\n",
    "        for W,U in zip(self.W[1:-1], self.U[:-1]):\n",
    "            z = F.linear(x, W) + F.linear(z, F.softplus(U))*self.negative_slope\n",
    "            z = F.leaky_relu_(z, negative_slope=self.negative_slope)\n",
    "\n",
    "        z = F.linear(x, self.W[-1]) + F.linear(z, F.softplus(self.U[-1]))\n",
    "        return F.relu(z) + self.eps*(x**2).sum(1)[:,None]\n",
    "\n",
    "def loss(Ypred, Yactual, X):\n",
    "    # Force smoothness in V:\n",
    "    # penalty for new_V being larget than old V:\n",
    "    Vloss = torch.tensor(0)\n",
    "    if SMOOTH_V:\n",
    "        V = model.V\n",
    "        # Successor to X:\n",
    "        succ_X = (X + V_SCALE * Yactual).detach()\n",
    "        if V_WRAP:\n",
    "            while torch.any(succ_X < -math.pi):\n",
    "                succ_X[succ_X < -math.pi] = succ_X[succ_X < -math.pi] + 2 * math.pi\n",
    "            while torch.any(succ_X >= math.pi):\n",
    "                succ_X[succ_X >= math.pi] = succ_X[succ_X >= math.pi] - 2 * math.pi\n",
    "            succ_X.requires_grad_()\n",
    "\n",
    "        Vloss = (V(succ_X) - V(X)).clamp(min=0).mean()\n",
    "\n",
    "    l2loss = ((Ypred - Yactual)**2).mean()\n",
    "\n",
    "    return (l2loss + SMOOTH_V * Vloss, l2loss, Vloss)\n",
    "\n",
    "global model, SMOOTH_V\n",
    "model = None\n",
    "SMOOTH_V = 0\n",
    "\n",
    "def loss_flatten(l):\n",
    "    return l\n",
    "\n",
    "def loss_labels():\n",
    "    return [\"loss\", \"l2\", \"V\"]\n",
    "\n",
    "def summary(*a, **kw):\n",
    "    pass"
   ]
  },
  {
   "cell_type": "markdown",
   "metadata": {},
   "source": [
    "# Verification"
   ]
  },
  {
   "cell_type": "code",
   "execution_count": 32,
   "metadata": {
    "ExecuteTime": {
     "end_time": "2024-11-01T17:30:52.215612Z",
     "start_time": "2024-11-01T17:30:52.208128Z"
    }
   },
   "outputs": [],
   "source": [
    "lsd = 2\n",
    "ph_dim = 32\n",
    "h_dim = 32\n",
    "\n",
    "fhat = nn.Sequential(nn.Linear(lsd, h_dim), nn.ReLU(),\n",
    "                        nn.Linear(h_dim, h_dim), nn.ReLU(),\n",
    "                        nn.Linear(h_dim, lsd))\n",
    "\n",
    "rehu = 0.005\n",
    "projfn_eps = 0.01\n",
    "\n",
    "\n",
    "V = nn.Sequential(\n",
    "        nn.Linear(lsd, ph_dim,), nn.ReLU(),\n",
    "        nn.Linear(ph_dim, ph_dim), nn.ReLU(),\n",
    "        nn.Linear(ph_dim, 1))\n",
    "model = Dynamics(fhat, V, alpha=0)"
   ]
  },
  {
   "cell_type": "code",
   "execution_count": 33,
   "metadata": {
    "ExecuteTime": {
     "end_time": "2024-11-01T17:30:52.231868Z",
     "start_time": "2024-11-01T17:30:52.227604Z"
    }
   },
   "outputs": [],
   "source": [
    "# print(V.f.W[0])"
   ]
  },
  {
   "cell_type": "code",
   "execution_count": 34,
   "metadata": {
    "ExecuteTime": {
     "end_time": "2024-11-01T17:30:52.325586Z",
     "start_time": "2024-11-01T17:30:52.320490Z"
    }
   },
   "outputs": [
    {
     "data": {
      "text/plain": [
       "Dynamics(\n",
       "  (fhat): Sequential(\n",
       "    (0): Linear(in_features=2, out_features=32, bias=True)\n",
       "    (1): ReLU()\n",
       "    (2): Linear(in_features=32, out_features=32, bias=True)\n",
       "    (3): ReLU()\n",
       "    (4): Linear(in_features=32, out_features=2, bias=True)\n",
       "  )\n",
       "  (V): Sequential(\n",
       "    (0): Linear(in_features=2, out_features=32, bias=True)\n",
       "    (1): ReLU()\n",
       "    (2): Linear(in_features=32, out_features=32, bias=True)\n",
       "    (3): ReLU()\n",
       "    (4): Linear(in_features=32, out_features=1, bias=True)\n",
       "  )\n",
       ")"
      ]
     },
     "execution_count": 34,
     "metadata": {},
     "output_type": "execute_result"
    }
   ],
   "source": [
    "model.load_state_dict(torch.load(\"standard_5k.pth\"))\n",
    "model.eval()"
   ]
  },
  {
   "cell_type": "markdown",
   "metadata": {},
   "source": [
    "# Load trajectory"
   ]
  },
  {
   "cell_type": "code",
   "execution_count": 35,
   "metadata": {
    "ExecuteTime": {
     "end_time": "2024-11-01T17:30:53.433021Z",
     "start_time": "2024-11-01T17:30:52.409055Z"
    }
   },
   "outputs": [
    {
     "name": "stdout",
     "output_type": "stream",
     "text": [
      "Loaded data: (1000, 100, 2)\n"
     ]
    }
   ],
   "source": [
    "%matplotlib inline\n",
    "import matplotlib.pyplot as plt\n",
    "import numpy as np\n",
    "from IPython.display import HTML\n",
    "from scipy.integrate import odeint\n",
    "\n",
    "\n",
    "FILE = \"p-physics-1.npy\"\n",
    "N = 1\n",
    "\n",
    "data = np.load(FILE)\n",
    "print(f\"Loaded data: {data.shape}\")\n",
    "selected_data = data[:,1,:]\n",
    "\n",
    "load = np.load(\"p-1-train.npz\")\n",
    "selected_data = load[\"X\"]"
   ]
  },
  {
   "cell_type": "code",
   "execution_count": 36,
   "metadata": {
    "ExecuteTime": {
     "end_time": "2024-11-01T17:30:53.485221Z",
     "start_time": "2024-11-01T17:30:53.441248Z"
    }
   },
   "outputs": [
    {
     "data": {
      "text/plain": [
       "[-0.2358492910861969,\n",
       " -0.40249714255332947,\n",
       " -0.6902679800987244,\n",
       " -0.3114587068557739,\n",
       " -0.4607688784599304,\n",
       " -0.37579256296157837,\n",
       " -0.6222784519195557,\n",
       " -0.6552721858024597,\n",
       " -0.7535740733146667,\n",
       " -0.34696319699287415,\n",
       " -0.550661563873291,\n",
       " -0.8285416960716248,\n",
       " -0.46078482270240784,\n",
       " -0.8805213570594788,\n",
       " -0.8444634079933167,\n",
       " -0.4458464980125427,\n",
       " -0.272255003452301,\n",
       " -0.3732336163520813,\n",
       " -0.509590744972229,\n",
       " -0.2306147813796997,\n",
       " -0.2520681917667389,\n",
       " -0.3415944576263428,\n",
       " -0.27840209007263184,\n",
       " -0.519978404045105,\n",
       " -0.595099687576294,\n",
       " -0.5325351357460022,\n",
       " -0.37925687432289124,\n",
       " -0.7365733981132507,\n",
       " -0.8650175929069519,\n",
       " -0.31606659293174744,\n",
       " -0.6865052580833435,\n",
       " -0.29590556025505066,\n",
       " -0.27874353528022766,\n",
       " -0.5362700819969177,\n",
       " -0.23446765542030334,\n",
       " -0.4380410313606262,\n",
       " -0.7817701697349548,\n",
       " -0.5052292943000793,\n",
       " -0.2845269739627838,\n",
       " -0.8104608058929443,\n",
       " -0.6675263047218323,\n",
       " -0.28223952651023865,\n",
       " -0.3051917552947998,\n",
       " -0.3214907646179199,\n",
       " -0.3883986175060272,\n",
       " -0.5468018651008606,\n",
       " -0.33623844385147095,\n",
       " -0.47434383630752563,\n",
       " -0.8717413544654846,\n",
       " -0.2190500795841217,\n",
       " -0.425029456615448,\n",
       " -0.5203816890716553,\n",
       " -0.49167078733444214,\n",
       " -0.6880460381507874,\n",
       " -0.4955101013183594,\n",
       " -0.2713126838207245,\n",
       " -0.7882173657417297,\n",
       " -0.3549124002456665,\n",
       " -0.6092585325241089,\n",
       " -0.4488341808319092,\n",
       " -0.22611406445503235,\n",
       " -0.5488958954811096,\n",
       " -0.28641754388809204,\n",
       " -0.38953137397766113,\n",
       " -0.2544631361961365,\n",
       " -0.34248781204223633,\n",
       " -0.6846814751625061,\n",
       " -0.30829092860221863,\n",
       " -0.6346108317375183,\n",
       " -0.44333863258361816,\n",
       " -0.45385581254959106,\n",
       " -0.606898844242096,\n",
       " -0.6070078611373901,\n",
       " -0.4544041156768799,\n",
       " -0.3634240925312042,\n",
       " -0.22985243797302246,\n",
       " -0.15843510627746582,\n",
       " -0.551378071308136,\n",
       " -0.1394757628440857,\n",
       " -0.34213146567344666,\n",
       " -0.5420512557029724,\n",
       " -0.6304475665092468,\n",
       " -0.19252824783325195,\n",
       " -0.29218900203704834,\n",
       " -0.222664475440979,\n",
       " -0.7342604398727417,\n",
       " -0.14038978517055511,\n",
       " -0.22553861141204834,\n",
       " -0.8042340874671936,\n",
       " -0.5380101203918457,\n",
       " -0.8413920402526855,\n",
       " -0.4275016784667969,\n",
       " -0.34910404682159424,\n",
       " -0.460659921169281,\n",
       " -0.6651907563209534,\n",
       " -0.3779155910015106,\n",
       " -0.5429158210754395,\n",
       " -0.44677308201789856,\n",
       " -0.550764799118042,\n",
       " -0.4689456522464752,\n",
       " -0.1531546711921692,\n",
       " -0.39680391550064087,\n",
       " -0.6962099075317383,\n",
       " -0.6550499796867371,\n",
       " -0.2747035324573517,\n",
       " -0.700438380241394,\n",
       " -0.27767905592918396,\n",
       " -0.25263604521751404,\n",
       " -0.37086501717567444,\n",
       " -0.29315847158432007,\n",
       " -0.2620781660079956,\n",
       " -0.4891577959060669,\n",
       " -0.5438920259475708,\n",
       " -0.1759205162525177,\n",
       " -0.31940722465515137,\n",
       " -0.35487329959869385,\n",
       " -0.6537653803825378,\n",
       " -0.28409919142723083,\n",
       " -0.3798636496067047,\n",
       " -0.9129362106323242,\n",
       " -0.44812849164009094,\n",
       " -0.6329137086868286,\n",
       " -0.48959434032440186,\n",
       " -0.14386209845542908,\n",
       " -0.5099442005157471,\n",
       " -0.4726337194442749,\n",
       " -0.18580639362335205,\n",
       " -0.7643960118293762,\n",
       " -1.0035820007324219,\n",
       " -0.835763692855835,\n",
       " -0.30953705310821533,\n",
       " -0.355712890625,\n",
       " -0.30920374393463135,\n",
       " -0.3560678958892822,\n",
       " -0.47780126333236694,\n",
       " -0.4836927056312561,\n",
       " -0.9846940040588379,\n",
       " -0.155674546957016,\n",
       " -0.28836342692375183,\n",
       " -0.24725577235221863,\n",
       " -0.2679999768733978,\n",
       " -0.2570425570011139,\n",
       " -0.7930307388305664,\n",
       " -0.15714186429977417,\n",
       " -0.380668044090271,\n",
       " -0.16708940267562866,\n",
       " -0.6177311539649963,\n",
       " -0.8308869004249573,\n",
       " -0.3844357132911682,\n",
       " -0.7025209069252014,\n",
       " -0.4065893292427063,\n",
       " -0.22199222445487976,\n",
       " -0.31643301248550415,\n",
       " -0.260955274105072,\n",
       " -0.3706286549568176,\n",
       " -0.47509223222732544,\n",
       " -0.24065813422203064,\n",
       " -0.15848559141159058,\n",
       " -0.6045709252357483,\n",
       " -0.23448854684829712,\n",
       " -0.43158847093582153,\n",
       " -0.4882688522338867,\n",
       " -0.6652657389640808,\n",
       " -0.3769157826900482,\n",
       " -0.21057423949241638,\n",
       " -0.25773364305496216,\n",
       " -0.2627008557319641,\n",
       " -0.40105587244033813,\n",
       " -0.6035004258155823,\n",
       " -0.6819290518760681,\n",
       " -0.4830608665943146,\n",
       " -0.27356863021850586,\n",
       " -0.7061656713485718,\n",
       " -0.3353385329246521,\n",
       " -0.869787871837616,\n",
       " -0.8031010627746582,\n",
       " -0.7048102021217346,\n",
       " -0.1404866874217987,\n",
       " -0.26887980103492737,\n",
       " -0.21749907732009888,\n",
       " -0.8200463056564331,\n",
       " -0.641563355922699,\n",
       " -0.5872179865837097,\n",
       " -0.6581175923347473,\n",
       " -0.6056762337684631,\n",
       " -0.14865773916244507,\n",
       " -0.18045669794082642,\n",
       " -0.7624189853668213,\n",
       " -0.22082209587097168,\n",
       " -0.606338381767273,\n",
       " -0.3133726716041565,\n",
       " -0.3540697693824768,\n",
       " -0.19132140278816223,\n",
       " -0.3290875554084778,\n",
       " -0.45104366540908813,\n",
       " -0.7158556580543518,\n",
       " -0.24438074231147766,\n",
       " -0.13041001558303833,\n",
       " -0.3788951337337494,\n",
       " -0.4672400653362274]"
      ]
     },
     "execution_count": 36,
     "metadata": {},
     "output_type": "execute_result"
    }
   ],
   "source": [
    "evals = []\n",
    "\n",
    "x_plot = []\n",
    "y_plot = []\n",
    "for i in range(len(selected_data)):\n",
    "    input = torch.FloatTensor([selected_data[i]])\n",
    "    input.requires_grad = True\n",
    "    x_plot.append(input[0][0].item())\n",
    "    y_plot.append(input[0][1].item())\n",
    "    energy_val = V(input).detach().item()\n",
    "    evals.append(energy_val)\n",
    "\n",
    "evals"
   ]
  },
  {
   "cell_type": "code",
   "execution_count": 37,
   "metadata": {
    "ExecuteTime": {
     "end_time": "2024-11-01T17:30:53.594637Z",
     "start_time": "2024-11-01T17:30:53.494888Z"
    }
   },
   "outputs": [
    {
     "data": {
      "image/png": "[encoded data removed]",
      "text/plain": [
       "<Figure size 640x480 with 1 Axes>"
      ]
     },
     "metadata": {},
     "output_type": "display_data"
    }
   ],
   "source": [
    "from matplotlib import pyplot as plt\n",
    "fig = plt.figure()\n",
    " \n",
    "# syntax for 3-D plotting\n",
    "ax = plt.axes(projection='3d')\n",
    " \n",
    "# syntax for plotting\n",
    "ax.plot_trisurf(x_plot, y_plot, evals, cmap='viridis',\\\n",
    "                edgecolor='green')\n",
    "ax.set_title('Surface plot')\n",
    "plt.show()"
   ]
  },
  {
   "cell_type": "code",
   "execution_count": 38,
   "metadata": {
    "ExecuteTime": {
     "end_time": "2024-11-01T17:30:53.723511Z",
     "start_time": "2024-11-01T17:30:53.606039Z"
    }
   },
   "outputs": [
    {
     "data": {
      "application/vnd.plotly.v1+json": {
       "config": {
        "plotlyServerURL": "https://plot.ly"
       },
       "data": [
        {
         "mode": "markers",
         "type": "scatter3d",
         "x": [
          -1.1054811477661133,
          -2.4349725246429443,
          2.2488791942596436,
          -1.6863782405853271,
          0.9767293334007263,
          -2.193121910095215,
          1.7136913537979126,
          1.5207546949386597,
          2.5881876945495605,
          -1.9779224395751953,
          -2.9069087505340576,
          2.7253477573394775,
          -2.5995736122131348,
          3.1000313758850098,
          2.9581429958343506,
          -2.4790291786193848,
          -1.3752340078353882,
          -1.6419305801391602,
          -3.131061315536499,
          -1.0776036977767944,
          -1.2125132083892822,
          -1.3813207149505615,
          -1.4246881008148193,
          1.0335206985473633,
          1.2956100702285767,
          1.419680118560791,
          -2.1518120765686035,
          2.318112373352051,
          3.1156327724456787,
          -1.5469149351119995,
          1.9790258407592773,
          0.09925522655248642,
          -1.3929940462112427,
          1.3491275310516357,
          -0.9796329140663147,
          -2.6550135612487793,
          2.4078805446624756,
          1.3194043636322021,
          -1.3257348537445068,
          2.761629819869995,
          1.951410174369812,
          -1.452128529548645,
          0.054512497037649155,
          -1.4929836988449097,
          0.47001156210899353,
          -2.3470299243927,
          0.07034739851951599,
          1.0754737854003906,
          3.017332077026367,
          -0.9845231771469116,
          -2.163764238357544,
          1.2149555683135986,
          -2.8790817260742188,
          1.7322897911071777,
          0.9185822606086731,
          0.3932567238807678,
          2.776482105255127,
          0.7041357755661011,
          1.8979930877685547,
          -2.238248586654663,
          0.2493872344493866,
          1.1607718467712402,
          -1.294783353805542,
          -2.2165753841400146,
          -1.251476526260376,
          -1.8497129678726196,
          1.9909348487854004,
          0.13556143641471863,
          1.939980149269104,
          -2.7250256538391113,
          1.1764812469482422,
          1.904716968536377,
          1.6959854364395142,
          -2.2170050144195557,
          -1.7864620685577393,
          -0.08687664568424225,
          -0.35027942061424255,
          1.554810881614685,
          -0.39448267221450806,
          0.592961847782135,
          -3.057281494140625,
          1.9555338621139526,
          -0.23539528250694275,
          -1.489488124847412,
          -0.7231667041778564,
          2.4598517417907715,
          -0.5309755206108093,
          0.17676806449890137,
          2.6207849979400635,
          -2.60731840133667,
          3.1339850425720215,
          -2.618765354156494,
          -1.7784080505371094,
          -2.616898775100708,
          -3.053532600402832,
          -2.1897037029266357,
          1.5590488910675049,
          -2.710054397583008,
          -3.0334348678588867,
          -2.962742328643799,
          -0.05742746964097023,
          -2.0576870441436768,
          2.2744131088256836,
          1.8180088996887207,
          -1.3913182020187378,
          -3.0584728717803955,
          -1.3540464639663696,
          -1.2064586877822876,
          -1.842578411102295,
          -1.3050901889801025,
          -0.010208125226199627,
          0.9204727411270142,
          1.55216646194458,
          0.04462476074695587,
          0.6660060882568359,
          -1.6919512748718262,
          1.7180794477462769,
          -1.4201215505599976,
          0.8940288424491882,
          2.6997997760772705,
          -2.8004066944122314,
          -2.831756353378296,
          1.3303475379943848,
          -0.18942172825336456,
          -2.567911148071289,
          0.7927295565605164,
          0.21693582832813263,
          1.928805947303772,
          3.086228132247925,
          2.2805604934692383,
          -1.2858622074127197,
          -1.6154872179031372,
          -1.6662571430206299,
          -1.7925547361373901,
          -2.3714699745178223,
          -2.9361817836761475,
          2.6419107913970947,
          -0.6198214888572693,
          -1.415083646774292,
          0.1169360801577568,
          0.17318516969680786,
          -0.04073438048362732,
          2.8555850982666016,
          0.014910249039530754,
          0.31813475489616394,
          0.0876380205154419,
          -2.7971956729888916,
          2.847679615020752,
          0.7034305930137634,
          2.3130903244018555,
          0.9873926639556885,
          -0.7109462022781372,
          -1.6052950620651245,
          -1.2970240116119385,
          0.34329038858413696,
          -2.9591665267944336,
          0.08396709710359573,
          -0.37311089038848877,
          1.626481056213379,
          0.13885709643363953,
          1.0711777210235596,
          -2.0781171321868896,
          2.1713356971740723,
          -2.1781578063964844,
          0.29149943590164185,
          -1.217883586883545,
          -0.9195104837417603,
          0.9696811437606812,
          1.7799652814865112,
          1.752624750137329,
          -2.4358279705047607,
          -0.9462965130805969,
          2.364429473876953,
          0.719623863697052,
          3.0456953048706055,
          2.74653959274292,
          2.105896472930908,
          -0.15590128302574158,
          -0.976568877696991,
          -0.4772037863731384,
          2.8321211338043213,
          1.630599856376648,
          1.7147988080978394,
          2.0302412509918213,
          -2.578514814376831,
          -0.47111037373542786,
          -0.6525508165359497,
          2.595435619354248,
          -0.9931250810623169,
          1.8947213888168335,
          -1.1821870803833008,
          0.7101424932479858,
          -0.6193864941596985,
          -0.1401047706604004,
          -2.776522636413574,
          2.156625270843506,
          -1.0850731134414673,
          -0.4617188572883606,
          0.7953256368637085,
          -2.5585877895355225
         ],
         "y": [
          0.23521438241004944,
          0.6829825043678284,
          0.10625626146793365,
          0.6818507313728333,
          2.0406408309936523,
          0.9433645009994507,
          -2.0721685886383057,
          2.6860344409942627,
          -0.22578111290931702,
          0.6870192885398865,
          -1.4176431894302368,
          0.9629452228546143,
          3.107435941696167,
          0.5537641048431396,
          -3.061256170272827,
          -0.8186126351356506,
          0.29600775241851807,
          -2.191910982131958,
          2.8804032802581787,
          0.0346958301961422,
          0.4290566146373749,
          2.986727714538574,
          0.23710490763187408,
          -2.7103099822998047,
          2.6837575435638428,
          1.1483741998672485,
          -0.2619849145412445,
          0.9450587630271912,
          -0.20466041564941406,
          1.8282909393310547,
          -2.7173242568969727,
          2.136676073074341,
          0.8134071826934814,
          -1.739006757736206,
          1.222449779510498,
          1.5292729139328003,
          1.4367928504943848,
          -0.9459972977638245,
          -1.4401891231536865,
          -2.937141180038452,
          -2.3341739177703857,
          -0.03063036873936653,
          -2.356295347213745,
          -1.6883200407028198,
          3.0531868934631348,
          -2.7323691844940186,
          2.754322052001953,
          1.8434659242630005,
          0.6843633055686951,
          0.1779545098543167,
          -1.2105906009674072,
          -1.9917012453079224,
          -0.4015046954154968,
          2.3117120265960693,
          2.793454647064209,
          1.4882539510726929,
          -0.5575979351997375,
          -0.79543536901474,
          -0.8827224373817444,
          -1.5630769729614258,
          -0.6766334772109985,
          -2.7652716636657715,
          -1.8115252256393433,
          1.8768514394760132,
          0.020433852449059486,
          1.5291643142700195,
          -2.625309467315674,
          2.2517902851104736,
          -1.3911486864089966,
          1.2195892333984375,
          0.5346421003341675,
          -0.6933767795562744,
          -1.7534139156341553,
          -1.8195278644561768,
          2.6116535663604736,
          1.5674498081207275,
          -1.3224273920059204,
          0.9301406741142273,
          0.9527934789657593,
          1.8728396892547607,
          -0.9419123530387878,
          -1.217734694480896,
          -1.7902740240097046,
          0.9617048501968384,
          -2.3874669075012207,
          -1.9753105640411377,
          0.7003551125526428,
          -1.0298700332641602,
          0.9421065449714661,
          -2.16041898727417,
          -1.8357982635498047,
          0.9387599229812622,
          -0.9252640008926392,
          3.051400661468506,
          -2.7666401863098145,
          1.1878464221954346,
          -9.001276921480894E-4,
          0.049595966935157776,
          -1.1561871767044067,
          0.48131081461906433,
          0.8404821753501892,
          2.7899913787841797,
          -1.662270426750183,
          -2.519113779067993,
          0.4162716865539551,
          -3.1013312339782715,
          -0.5961413979530334,
          0.5612396001815796,
          -1.2697352170944214,
          -1.9852640628814697,
          1.8747332096099854,
          2.5997962951660156,
          -0.6565462350845337,
          -0.6986967921257019,
          0.37171471118927,
          2.6405932903289795,
          -2.827806234359741,
          0.9644222855567932,
          0.13682802021503448,
          2.180351972579956,
          0.48341816663742065,
          -2.7725837230682373,
          0.015447291545569897,
          0.8406919240951538,
          -1.6820286512374878,
          -2.720390558242798,
          0.801569402217865,
          2.645176649093628,
          2.2325971126556396,
          2.4230380058288574,
          2.498385190963745,
          -1.9973857402801514,
          0.7003150582313538,
          2.333768606185913,
          -1.744820475578308,
          -0.032006870955228806,
          3.1023471355438232,
          0.5997157096862793,
          1.3120288848876953,
          -1.5497994422912598,
          -1.6591025590896606,
          1.8442935943603516,
          -1.3890126943588257,
          -0.3980800211429596,
          -2.673997402191162,
          -0.2237653285264969,
          -2.6741113662719727,
          -3.1360080242156982,
          -1.519844889640808,
          -1.6668862104415894,
          0.6114224195480347,
          -2.409250020980835,
          1.590367317199707,
          -0.01003622729331255,
          -2.5208709239959717,
          0.23824191093444824,
          -1.5563944578170776,
          -1.263458251953125,
          -1.9777463674545288,
          1.421057939529419,
          0.8213804364204407,
          -2.6335747241973877,
          -0.25778573751449585,
          1.2267667055130005,
          0.7963128089904785,
          -0.6194209456443787,
          2.184535026550293,
          0.5929288864135742,
          0.7705804109573364,
          2.1673202514648438,
          -1.5562394857406616,
          -2.7618443965911865,
          -0.24336403608322144,
          0.48960429430007935,
          0.5709648132324219,
          0.4350169003009796,
          -2.7069551944732666,
          0.7900237441062927,
          2.198063373565674,
          -2.450948476791382,
          0.3968800902366638,
          -2.8376717567443848,
          0.7389023900032043,
          -1.6912134885787964,
          -2.9367549419403076,
          1.0523408651351929,
          -1.3726787567138672,
          0.08785635232925415,
          0.2419259250164032,
          -0.7580043077468872,
          -2.824859142303467,
          -0.7091758847236633,
          -1.9997578859329224,
          2.935204267501831,
          1.358573317527771,
          -2.7985825538635254,
          -1.7285785675048828,
          0.7857543230056763,
          1.402408242225647,
          -0.9771888852119446
         ],
         "z": [
          -0.2358492910861969,
          -0.40249714255332947,
          -0.6902679800987244,
          -0.3114587068557739,
          -0.4607688784599304,
          -0.37579256296157837,
          -0.6222784519195557,
          -0.6552721858024597,
          -0.7535740733146667,
          -0.34696319699287415,
          -0.550661563873291,
          -0.8285416960716248,
          -0.46078482270240784,
          -0.8805213570594788,
          -0.8444634079933167,
          -0.4458464980125427,
          -0.272255003452301,
          -0.3732336163520813,
          -0.509590744972229,
          -0.2306147813796997,
          -0.2520681917667389,
          -0.3415944576263428,
          -0.27840209007263184,
          -0.519978404045105,
          -0.595099687576294,
          -0.5325351357460022,
          -0.37925687432289124,
          -0.7365733981132507,
          -0.8650175929069519,
          -0.31606659293174744,
          -0.6865052580833435,
          -0.29590556025505066,
          -0.27874353528022766,
          -0.5362700819969177,
          -0.23446765542030334,
          -0.4380410313606262,
          -0.7817701697349548,
          -0.5052292943000793,
          -0.2845269739627838,
          -0.8104608058929443,
          -0.6675263047218323,
          -0.28223952651023865,
          -0.3051917552947998,
          -0.3214907646179199,
          -0.3883986175060272,
          -0.5468018651008606,
          -0.33623844385147095,
          -0.47434383630752563,
          -0.8717413544654846,
          -0.2190500795841217,
          -0.425029456615448,
          -0.5203816890716553,
          -0.49167078733444214,
          -0.6880460381507874,
          -0.4955101013183594,
          -0.2713126838207245,
          -0.7882173657417297,
          -0.3549124002456665,
          -0.6092585325241089,
          -0.4488341808319092,
          -0.22611406445503235,
          -0.5488958954811096,
          -0.28641754388809204,
          -0.38953137397766113,
          -0.2544631361961365,
          -0.34248781204223633,
          -0.6846814751625061,
          -0.30829092860221863,
          -0.6346108317375183,
          -0.44333863258361816,
          -0.45385581254959106,
          -0.606898844242096,
          -0.6070078611373901,
          -0.4544041156768799,
          -0.3634240925312042,
          -0.22985243797302246,
          -0.15843510627746582,
          -0.551378071308136,
          -0.1394757628440857,
          -0.34213146567344666,
          -0.5420512557029724,
          -0.6304475665092468,
          -0.19252824783325195,
          -0.29218900203704834,
          -0.222664475440979,
          -0.7342604398727417,
          -0.14038978517055511,
          -0.22553861141204834,
          -0.8042340874671936,
          -0.5380101203918457,
          -0.8413920402526855,
          -0.4275016784667969,
          -0.34910404682159424,
          -0.460659921169281,
          -0.6651907563209534,
          -0.3779155910015106,
          -0.5429158210754395,
          -0.44677308201789856,
          -0.550764799118042,
          -0.4689456522464752,
          -0.1531546711921692,
          -0.39680391550064087,
          -0.6962099075317383,
          -0.6550499796867371,
          -0.2747035324573517,
          -0.700438380241394,
          -0.27767905592918396,
          -0.25263604521751404,
          -0.37086501717567444,
          -0.29315847158432007,
          -0.2620781660079956,
          -0.4891577959060669,
          -0.5438920259475708,
          -0.1759205162525177,
          -0.31940722465515137,
          -0.35487329959869385,
          -0.6537653803825378,
          -0.28409919142723083,
          -0.3798636496067047,
          -0.9129362106323242,
          -0.44812849164009094,
          -0.6329137086868286,
          -0.48959434032440186,
          -0.14386209845542908,
          -0.5099442005157471,
          -0.4726337194442749,
          -0.18580639362335205,
          -0.7643960118293762,
          -1.0035820007324219,
          -0.835763692855835,
          -0.30953705310821533,
          -0.355712890625,
          -0.30920374393463135,
          -0.3560678958892822,
          -0.47780126333236694,
          -0.4836927056312561,
          -0.9846940040588379,
          -0.155674546957016,
          -0.28836342692375183,
          -0.24725577235221863,
          -0.2679999768733978,
          -0.2570425570011139,
          -0.7930307388305664,
          -0.15714186429977417,
          -0.380668044090271,
          -0.16708940267562866,
          -0.6177311539649963,
          -0.8308869004249573,
          -0.3844357132911682,
          -0.7025209069252014,
          -0.4065893292427063,
          -0.22199222445487976,
          -0.31643301248550415,
          -0.260955274105072,
          -0.3706286549568176,
          -0.47509223222732544,
          -0.24065813422203064,
          -0.15848559141159058,
          -0.6045709252357483,
          -0.23448854684829712,
          -0.43158847093582153,
          -0.4882688522338867,
          -0.6652657389640808,
          -0.3769157826900482,
          -0.21057423949241638,
          -0.25773364305496216,
          -0.2627008557319641,
          -0.40105587244033813,
          -0.6035004258155823,
          -0.6819290518760681,
          -0.4830608665943146,
          -0.27356863021850586,
          -0.7061656713485718,
          -0.3353385329246521,
          -0.869787871837616,
          -0.8031010627746582,
          -0.7048102021217346,
          -0.1404866874217987,
          -0.26887980103492737,
          -0.21749907732009888,
          -0.8200463056564331,
          -0.641563355922699,
          -0.5872179865837097,
          -0.6581175923347473,
          -0.6056762337684631,
          -0.14865773916244507,
          -0.18045669794082642,
          -0.7624189853668213,
          -0.22082209587097168,
          -0.606338381767273,
          -0.3133726716041565,
          -0.3540697693824768,
          -0.19132140278816223,
          -0.3290875554084778,
          -0.45104366540908813,
          -0.7158556580543518,
          -0.24438074231147766,
          -0.13041001558303833,
          -0.3788951337337494,
          -0.4672400653362274
         ]
        }
       ],
       "layout": {
        "autosize": false,
        "height": 500,
        "margin": {
         "b": 65,
         "l": 65,
         "r": 50,
         "t": 90
        },
        "scene": {
         "aspectmode": "cube"
        },
        "template": {
         "data": {
          "bar": [
           {
            "error_x": {
             "color": "#2a3f5f"
            },
            "error_y": {
             "color": "#2a3f5f"
            },
            "marker": {
             "line": {
              "color": "#E5ECF6",
              "width": 0.5
             },
             "pattern": {
              "fillmode": "overlay",
              "size": 10,
              "solidity": 0.2
             }
            },
            "type": "bar"
           }
          ],
          "barpolar": [
           {
            "marker": {
             "line": {
              "color": "#E5ECF6",
              "width": 0.5
             },
             "pattern": {
              "fillmode": "overlay",
              "size": 10,
              "solidity": 0.2
             }
            },
            "type": "barpolar"
           }
          ],
          "carpet": [
           {
            "aaxis": {
             "endlinecolor": "#2a3f5f",
             "gridcolor": "white",
             "linecolor": "white",
             "minorgridcolor": "white",
             "startlinecolor": "#2a3f5f"
            },
            "baxis": {
             "endlinecolor": "#2a3f5f",
             "gridcolor": "white",
             "linecolor": "white",
             "minorgridcolor": "white",
             "startlinecolor": "#2a3f5f"
            },
            "type": "carpet"
           }
          ],
          "choropleth": [
           {
            "colorbar": {
             "outlinewidth": 0,
             "ticks": ""
            },
            "type": "choropleth"
           }
          ],
          "contour": [
           {
            "colorbar": {
             "outlinewidth": 0,
             "ticks": ""
            },
            "colorscale": [
             [
              0,
              "#0d0887"
             ],
             [
              0.1111111111111111,
              "#46039f"
             ],
             [
              0.2222222222222222,
              "#7201a8"
             ],
             [
              0.3333333333333333,
              "#9c179e"
             ],
             [
              0.4444444444444444,
              "#bd3786"
             ],
             [
              0.5555555555555556,
              "#d8576b"
             ],
             [
              0.6666666666666666,
              "#ed7953"
             ],
             [
              0.7777777777777778,
              "#fb9f3a"
             ],
             [
              0.8888888888888888,
              "#fdca26"
             ],
             [
              1,
              "#f0f921"
             ]
            ],
            "type": "contour"
           }
          ],
          "contourcarpet": [
           {
            "colorbar": {
             "outlinewidth": 0,
             "ticks": ""
            },
            "type": "contourcarpet"
           }
          ],
          "heatmap": [
           {
            "colorbar": {
             "outlinewidth": 0,
             "ticks": ""
            },
            "colorscale": [
             [
              0,
              "#0d0887"
             ],
             [
              0.1111111111111111,
              "#46039f"
             ],
             [
              0.2222222222222222,
              "#7201a8"
             ],
             [
              0.3333333333333333,
              "#9c179e"
             ],
             [
              0.4444444444444444,
              "#bd3786"
             ],
             [
              0.5555555555555556,
              "#d8576b"
             ],
             [
              0.6666666666666666,
              "#ed7953"
             ],
             [
              0.7777777777777778,
              "#fb9f3a"
             ],
             [
              0.8888888888888888,
              "#fdca26"
             ],
             [
              1,
              "#f0f921"
             ]
            ],
            "type": "heatmap"
           }
          ],
          "heatmapgl": [
           {
            "colorbar": {
             "outlinewidth": 0,
             "ticks": ""
            },
            "colorscale": [
             [
              0,
              "#0d0887"
             ],
             [
              0.1111111111111111,
              "#46039f"
             ],
             [
              0.2222222222222222,
              "#7201a8"
             ],
             [
              0.3333333333333333,
              "#9c179e"
             ],
             [
              0.4444444444444444,
              "#bd3786"
             ],
             [
              0.5555555555555556,
              "#d8576b"
             ],
             [
              0.6666666666666666,
              "#ed7953"
             ],
             [
              0.7777777777777778,
              "#fb9f3a"
             ],
             [
              0.8888888888888888,
              "#fdca26"
             ],
             [
              1,
              "#f0f921"
             ]
            ],
            "type": "heatmapgl"
           }
          ],
          "histogram": [
           {
            "marker": {
             "pattern": {
              "fillmode": "overlay",
              "size": 10,
              "solidity": 0.2
             }
            },
            "type": "histogram"
           }
          ],
          "histogram2d": [
           {
            "colorbar": {
             "outlinewidth": 0,
             "ticks": ""
            },
            "colorscale": [
             [
              0,
              "#0d0887"
             ],
             [
              0.1111111111111111,
              "#46039f"
             ],
             [
              0.2222222222222222,
              "#7201a8"
             ],
             [
              0.3333333333333333,
              "#9c179e"
             ],
             [
              0.4444444444444444,
              "#bd3786"
             ],
             [
              0.5555555555555556,
              "#d8576b"
             ],
             [
              0.6666666666666666,
              "#ed7953"
             ],
             [
              0.7777777777777778,
              "#fb9f3a"
             ],
             [
              0.8888888888888888,
              "#fdca26"
             ],
             [
              1,
              "#f0f921"
             ]
            ],
            "type": "histogram2d"
           }
          ],
          "histogram2dcontour": [
           {
            "colorbar": {
             "outlinewidth": 0,
             "ticks": ""
            },
            "colorscale": [
             [
              0,
              "#0d0887"
             ],
             [
              0.1111111111111111,
              "#46039f"
             ],
             [
              0.2222222222222222,
              "#7201a8"
             ],
             [
              0.3333333333333333,
              "#9c179e"
             ],
             [
              0.4444444444444444,
              "#bd3786"
             ],
             [
              0.5555555555555556,
              "#d8576b"
             ],
             [
              0.6666666666666666,
              "#ed7953"
             ],
             [
              0.7777777777777778,
              "#fb9f3a"
             ],
             [
              0.8888888888888888,
              "#fdca26"
             ],
             [
              1,
              "#f0f921"
             ]
            ],
            "type": "histogram2dcontour"
           }
          ],
          "mesh3d": [
           {
            "colorbar": {
             "outlinewidth": 0,
             "ticks": ""
            },
            "type": "mesh3d"
           }
          ],
          "parcoords": [
           {
            "line": {
             "colorbar": {
              "outlinewidth": 0,
              "ticks": ""
             }
            },
            "type": "parcoords"
           }
          ],
          "pie": [
           {
            "automargin": true,
            "type": "pie"
           }
          ],
          "scatter": [
           {
            "fillpattern": {
             "fillmode": "overlay",
             "size": 10,
             "solidity": 0.2
            },
            "type": "scatter"
           }
          ],
          "scatter3d": [
           {
            "line": {
             "colorbar": {
              "outlinewidth": 0,
              "ticks": ""
             }
            },
            "marker": {
             "colorbar": {
              "outlinewidth": 0,
              "ticks": ""
             }
            },
            "type": "scatter3d"
           }
          ],
          "scattercarpet": [
           {
            "marker": {
             "colorbar": {
              "outlinewidth": 0,
              "ticks": ""
             }
            },
            "type": "scattercarpet"
           }
          ],
          "scattergeo": [
           {
            "marker": {
             "colorbar": {
              "outlinewidth": 0,
              "ticks": ""
             }
            },
            "type": "scattergeo"
           }
          ],
          "scattergl": [
           {
            "marker": {
             "colorbar": {
              "outlinewidth": 0,
              "ticks": ""
             }
            },
            "type": "scattergl"
           }
          ],
          "scattermapbox": [
           {
            "marker": {
             "colorbar": {
              "outlinewidth": 0,
              "ticks": ""
             }
            },
            "type": "scattermapbox"
           }
          ],
          "scatterpolar": [
           {
            "marker": {
             "colorbar": {
              "outlinewidth": 0,
              "ticks": ""
             }
            },
            "type": "scatterpolar"
           }
          ],
          "scatterpolargl": [
           {
            "marker": {
             "colorbar": {
              "outlinewidth": 0,
              "ticks": ""
             }
            },
            "type": "scatterpolargl"
           }
          ],
          "scatterternary": [
           {
            "marker": {
             "colorbar": {
              "outlinewidth": 0,
              "ticks": ""
             }
            },
            "type": "scatterternary"
           }
          ],
          "surface": [
           {
            "colorbar": {
             "outlinewidth": 0,
             "ticks": ""
            },
            "colorscale": [
             [
              0,
              "#0d0887"
             ],
             [
              0.1111111111111111,
              "#46039f"
             ],
             [
              0.2222222222222222,
              "#7201a8"
             ],
             [
              0.3333333333333333,
              "#9c179e"
             ],
             [
              0.4444444444444444,
              "#bd3786"
             ],
             [
              0.5555555555555556,
              "#d8576b"
             ],
             [
              0.6666666666666666,
              "#ed7953"
             ],
             [
              0.7777777777777778,
              "#fb9f3a"
             ],
             [
              0.8888888888888888,
              "#fdca26"
             ],
             [
              1,
              "#f0f921"
             ]
            ],
            "type": "surface"
           }
          ],
          "table": [
           {
            "cells": {
             "fill": {
              "color": "#EBF0F8"
             },
             "line": {
              "color": "white"
             }
            },
            "header": {
             "fill": {
              "color": "#C8D4E3"
             },
             "line": {
              "color": "white"
             }
            },
            "type": "table"
           }
          ]
         },
         "layout": {
          "annotationdefaults": {
           "arrowcolor": "#2a3f5f",
           "arrowhead": 0,
           "arrowwidth": 1
          },
          "autotypenumbers": "strict",
          "coloraxis": {
           "colorbar": {
            "outlinewidth": 0,
            "ticks": ""
           }
          },
          "colorscale": {
           "diverging": [
            [
             0,
             "#8e0152"
            ],
            [
             0.1,
             "#c51b7d"
            ],
            [
             0.2,
             "#de77ae"
            ],
            [
             0.3,
             "#f1b6da"
            ],
            [
             0.4,
             "#fde0ef"
            ],
            [
             0.5,
             "#f7f7f7"
            ],
            [
             0.6,
             "#e6f5d0"
            ],
            [
             0.7,
             "#b8e186"
            ],
            [
             0.8,
             "#7fbc41"
            ],
            [
             0.9,
             "#4d9221"
            ],
            [
             1,
             "#276419"
            ]
           ],
           "sequential": [
            [
             0,
             "#0d0887"
            ],
            [
             0.1111111111111111,
             "#46039f"
            ],
            [
             0.2222222222222222,
             "#7201a8"
            ],
            [
             0.3333333333333333,
             "#9c179e"
            ],
            [
             0.4444444444444444,
             "#bd3786"
            ],
            [
             0.5555555555555556,
             "#d8576b"
            ],
            [
             0.6666666666666666,
             "#ed7953"
            ],
            [
             0.7777777777777778,
             "#fb9f3a"
            ],
            [
             0.8888888888888888,
             "#fdca26"
            ],
            [
             1,
             "#f0f921"
            ]
           ],
           "sequentialminus": [
            [
             0,
             "#0d0887"
            ],
            [
             0.1111111111111111,
             "#46039f"
            ],
            [
             0.2222222222222222,
             "#7201a8"
            ],
            [
             0.3333333333333333,
             "#9c179e"
            ],
            [
             0.4444444444444444,
             "#bd3786"
            ],
            [
             0.5555555555555556,
             "#d8576b"
            ],
            [
             0.6666666666666666,
             "#ed7953"
            ],
            [
             0.7777777777777778,
             "#fb9f3a"
            ],
            [
             0.8888888888888888,
             "#fdca26"
            ],
            [
             1,
             "#f0f921"
            ]
           ]
          },
          "colorway": [
           "#636efa",
           "#EF553B",
           "#00cc96",
           "#ab63fa",
           "#FFA15A",
           "#19d3f3",
           "#FF6692",
           "#B6E880",
           "#FF97FF",
           "#FECB52"
          ],
          "font": {
           "color": "#2a3f5f"
          },
          "geo": {
           "bgcolor": "white",
           "lakecolor": "white",
           "landcolor": "#E5ECF6",
           "showlakes": true,
           "showland": true,
           "subunitcolor": "white"
          },
          "hoverlabel": {
           "align": "left"
          },
          "hovermode": "closest",
          "mapbox": {
           "style": "light"
          },
          "paper_bgcolor": "white",
          "plot_bgcolor": "#E5ECF6",
          "polar": {
           "angularaxis": {
            "gridcolor": "white",
            "linecolor": "white",
            "ticks": ""
           },
           "bgcolor": "#E5ECF6",
           "radialaxis": {
            "gridcolor": "white",
            "linecolor": "white",
            "ticks": ""
           }
          },
          "scene": {
           "xaxis": {
            "backgroundcolor": "#E5ECF6",
            "gridcolor": "white",
            "gridwidth": 2,
            "linecolor": "white",
            "showbackground": true,
            "ticks": "",
            "zerolinecolor": "white"
           },
           "yaxis": {
            "backgroundcolor": "#E5ECF6",
            "gridcolor": "white",
            "gridwidth": 2,
            "linecolor": "white",
            "showbackground": true,
            "ticks": "",
            "zerolinecolor": "white"
           },
           "zaxis": {
            "backgroundcolor": "#E5ECF6",
            "gridcolor": "white",
            "gridwidth": 2,
            "linecolor": "white",
            "showbackground": true,
            "ticks": "",
            "zerolinecolor": "white"
           }
          },
          "shapedefaults": {
           "line": {
            "color": "#2a3f5f"
           }
          },
          "ternary": {
           "aaxis": {
            "gridcolor": "white",
            "linecolor": "white",
            "ticks": ""
           },
           "baxis": {
            "gridcolor": "white",
            "linecolor": "white",
            "ticks": ""
           },
           "bgcolor": "#E5ECF6",
           "caxis": {
            "gridcolor": "white",
            "linecolor": "white",
            "ticks": ""
           }
          },
          "title": {
           "x": 0.05
          },
          "xaxis": {
           "automargin": true,
           "gridcolor": "white",
           "linecolor": "white",
           "ticks": "",
           "title": {
            "standoff": 15
           },
           "zerolinecolor": "white",
           "zerolinewidth": 2
          },
          "yaxis": {
           "automargin": true,
           "gridcolor": "white",
           "linecolor": "white",
           "ticks": "",
           "title": {
            "standoff": 15
           },
           "zerolinecolor": "white",
           "zerolinewidth": 2
          }
         }
        },
        "title": {
         "text": "V(x) outputs against a small training set (ICNN)"
        },
        "width": 500
       }
      }
     },
     "metadata": {},
     "output_type": "display_data"
    }
   ],
   "source": [
    "import plotly.graph_objects as go\n",
    "import numpy as np\n",
    "\n",
    "# Assuming your x_plot, y_plot, and evals are lists of 199 elements each\n",
    "x_plot = np.array(x_plot)\n",
    "y_plot = np.array(y_plot)\n",
    "evals = np.array(evals)\n",
    "\n",
    "fig = go.Figure(\n",
    "    data=[go.Scatter3d(x=x_plot, y=y_plot, z=evals, mode='markers')]\n",
    ")\n",
    "fig.update_layout(\n",
    "    title='V(x) outputs against a small training set (ICNN)',\n",
    "    autosize=False,\n",
    "    width=500,\n",
    "    height=500,\n",
    "    margin=dict(l=65, r=50, b=65, t=90),\n",
    "    scene_aspectmode='cube'\n",
    ")\n",
    "fig.show()\n"
   ]
  },
  {
   "cell_type": "code",
   "execution_count": 39,
   "metadata": {
    "ExecuteTime": {
     "end_time": "2024-11-01T17:30:54.044191Z",
     "start_time": "2024-11-01T17:30:54.028902Z"
    }
   },
   "outputs": [
    {
     "data": {
      "text/plain": [
       "200"
      ]
     },
     "execution_count": 39,
     "metadata": {},
     "output_type": "execute_result"
    }
   ],
   "source": [
    "len(evals)"
   ]
  },
  {
   "cell_type": "code",
   "execution_count": 40,
   "metadata": {
    "ExecuteTime": {
     "end_time": "2024-11-01T17:30:54.144914Z",
     "start_time": "2024-11-01T17:30:54.131158Z"
    }
   },
   "outputs": [
    {
     "data": {
      "text/plain": [
       "(200, 2)"
      ]
     },
     "execution_count": 40,
     "metadata": {},
     "output_type": "execute_result"
    }
   ],
   "source": [
    "load = np.load(\"p-1-train.npz\")\n",
    "X = load[\"X\"]\n",
    "np.shape(X)"
   ]
  }
 ],
 "metadata": {
  "kernelspec": {
   "display_name": ".venv",
   "language": "python",
   "name": "python3"
  },
  "language_info": {
   "codemirror_mode": {
    "name": "ipython",
    "version": 3
   },
   "file_extension": ".py",
   "mimetype": "text/x-python",
   "name": "python",
   "nbconvert_exporter": "python",
   "pygments_lexer": "ipython3",
   "version": "3.12.4"
  }
 },
 "nbformat": 4,
 "nbformat_minor": 2
}
