{
 "cells": [
  {
   "cell_type": "markdown",
   "metadata": {},
   "source": [
    "# Setup"
   ]
  },
  {
   "cell_type": "code",
   "execution_count": 31,
   "metadata": {
    "ExecuteTime": {
     "end_time": "2024-11-01T18:06:47.062397Z",
     "start_time": "2024-11-01T18:06:47.060229Z"
    }
   },
   "outputs": [],
   "source": [
    "import logging\n",
    "import math\n",
    "\n",
    "import torch\n",
    "import torch.nn.functional as F\n",
    "from torch import nn"
   ]
  },
  {
   "cell_type": "code",
   "execution_count": 32,
   "metadata": {
    "ExecuteTime": {
     "end_time": "2024-11-01T18:06:47.079916Z",
     "start_time": "2024-11-01T18:06:47.073829Z"
    }
   },
   "outputs": [],
   "source": [
    "from sympy import Dummy, lambdify, srepr, symbols\n",
    "from sympy.core.function import AppliedUndef\n",
    "from sympy.core.sympify import sympify\n",
    "from sympy.physics import mechanics\n",
    "from sympy.physics.vector import Vector\n",
    "from sympy.printing.printer import Printer\n",
    "\n",
    "from models import sympy2torch\n",
    "\n",
    "import torch\n",
    "\n",
    "\n",
    "def pendulum_energy(n=1, lengths=1, masses=1, include_gpe=True, include_ke=True):\n",
    "    # Generalized coordinates and velocities\n",
    "    # (in this case, angular positions & velocities of each mass) \n",
    "    q = mechanics.dynamicsymbols('q:{0}'.format(n))\n",
    "    u = mechanics.dynamicsymbols('u:{0}'.format(n))\n",
    "\n",
    "    # mass and length\n",
    "    m = symbols('m:{0}'.format(n))\n",
    "    l = symbols('l:{0}'.format(n))\n",
    "\n",
    "    # gravity and time symbols\n",
    "    g, t = symbols('g,t')\n",
    "\n",
    "    #--------------------------------------------------\n",
    "    # Step 2: build the model using Kane's Method\n",
    "\n",
    "    # Create pivot point reference frame\n",
    "    A = mechanics.ReferenceFrame('A')\n",
    "    P = mechanics.Point('P')\n",
    "    Origin = P\n",
    "    P.set_vel(A, 0)\n",
    "\n",
    "    gravity_direction = -A.x\n",
    "\n",
    "    # lists to hold particles, forces, and kinetic ODEs\n",
    "    # for each pendulum in the chain\n",
    "    particles = []\n",
    "    forces = []\n",
    "\n",
    "    gpe = []\n",
    "    ke = []\n",
    "\n",
    "    cartVel = 0.0\n",
    "    cartPos = 0.0\n",
    "\n",
    "    for i in range(n):\n",
    "        # Create a reference frame following the i^th mass\n",
    "        Ai = A.orientnew('A' + str(i), 'Axis', [q[i], A.z])\n",
    "        Ai.set_ang_vel(A, u[i] * A.z)\n",
    "\n",
    "        # Create a point in this reference frame\n",
    "        Pi = P.locatenew('P' + str(i), l[i] * Ai.x)\n",
    "        Pi.v2pt_theory(P, A, Ai)\n",
    "\n",
    "        # Create a new particle of mass m[i] at this point\n",
    "        Pai = mechanics.Particle('Pa' + str(i), Pi, m[i])\n",
    "        particles.append(Pai)\n",
    "\n",
    "        # Calculate the cartesian position and velocity:\n",
    "        # cartPos += l[i] * q[i]\n",
    "        pos = Pi.pos_from(Origin)\n",
    "\n",
    "        # This looks strange, but is verified numerically:\n",
    "        ke.append(1/n * Pai.kinetic_energy(A))\n",
    "        gpe.append(m[i] * g * (Pi.pos_from(Origin) & gravity_direction))\n",
    "\n",
    "        P = Pi\n",
    "\n",
    "\n",
    "    # lengths and masses\n",
    "    if lengths is None:\n",
    "        lengths = np.ones(n) / n\n",
    "    lengths = np.broadcast_to(lengths, n)\n",
    "    masses = np.broadcast_to(masses, n)\n",
    "\n",
    "    # Fixed parameters: gravitational constant, lengths, and masses\n",
    "    parameters = [g] + list(l) + list(m)\n",
    "    parameter_vals = [9.81] + list(lengths) + list(masses)\n",
    "\n",
    "    # define symbols for unknown parameters\n",
    "    unknowns = [Dummy() for i in q + u]\n",
    "    unknown_dict = dict(zip(q + u, unknowns))\n",
    "\n",
    "    # create functions for numerical calculation\n",
    "    total_energy = 0\n",
    "    if include_gpe:\n",
    "        total_energy += (sum(gpe)).subs(zip(parameters, parameter_vals))\n",
    "    if include_ke:\n",
    "        total_energy += (sum( ke)).subs(zip(parameters, parameter_vals))\n",
    "\n",
    "    total_energy_func = sympy2torch.sympy2torch(total_energy)\n",
    "\n",
    "    minimum_energy = total_energy_func(**fixvalue(n, torch.tensor([[0.]*2*n]))).detach()\n",
    "    return lambda inp: (total_energy_func(**fixvalue(n, inp)) - minimum_energy.to(inp)).unsqueeze(1)\n",
    "\n",
    "def fixvalue(n, value):\n",
    "    keys = [f\"q{i}_t\" for i in range(n)] + [f\"u{i}_t\" for i in range(n)]\n",
    "    rv = {}\n",
    "    for i in range(2*n):\n",
    "        if isinstance(value, list):\n",
    "            rv[keys[i]] = value[i]\n",
    "        else:\n",
    "            rv[keys[i]] = value[:,i]\n",
    "    return rv\n"
   ]
  },
  {
   "cell_type": "markdown",
   "metadata": {},
   "source": [
    "# Load trajectory"
   ]
  },
  {
   "cell_type": "code",
   "execution_count": 33,
   "metadata": {
    "ExecuteTime": {
     "end_time": "2024-11-01T18:06:47.116522Z",
     "start_time": "2024-11-01T18:06:47.113206Z"
    }
   },
   "outputs": [
    {
     "name": "stdout",
     "output_type": "stream",
     "text": [
      "Loaded data: (1000, 100, 2)\n"
     ]
    }
   ],
   "source": [
    "%matplotlib inline\n",
    "import matplotlib.pyplot as plt\n",
    "import numpy as np\n",
    "from IPython.display import HTML\n",
    "from scipy.integrate import odeint\n",
    "\n",
    "\n",
    "FILE = \"datasets/p-physics-1.npy\"\n",
    "N = 1\n",
    "\n",
    "data = np.load(FILE)\n",
    "print(f\"Loaded data: {data.shape}\")\n",
    "selected_data = data[:,32,:]\n",
    "\n",
    "load = np.load(\"datasets/p-1-test.npz\")\n",
    "selected_data = load[\"X\"]"
   ]
  },
  {
   "cell_type": "code",
   "execution_count": 34,
   "metadata": {
    "ExecuteTime": {
     "end_time": "2024-11-01T18:06:47.192788Z",
     "start_time": "2024-11-01T18:06:47.181311Z"
    }
   },
   "outputs": [],
   "source": [
    "energy_func = pendulum_energy(N)\n",
    "ke_func = pendulum_energy(N, include_gpe=False, include_ke=True)\n",
    "gpe_func = pendulum_energy(N, include_gpe=True, include_ke=False)\n",
    "\n",
    "\n",
    "energy     = energy_func(torch.tensor(selected_data)).numpy()\n",
    "energy_ke  =     ke_func(torch.tensor(selected_data)).numpy()\n",
    "energy_gpe =    gpe_func(torch.tensor(selected_data)).numpy()"
   ]
  },
  {
   "cell_type": "code",
   "execution_count": 35,
   "metadata": {
    "ExecuteTime": {
     "end_time": "2024-11-01T18:06:47.232705Z",
     "start_time": "2024-11-01T18:06:47.226037Z"
    }
   },
   "outputs": [
    {
     "data": {
      "text/plain": [
       "array([[14.602402  ],\n",
       "       [17.746775  ],\n",
       "       [ 2.66962   ],\n",
       "       [14.235176  ],\n",
       "       [ 2.7179403 ],\n",
       "       [ 5.3115463 ],\n",
       "       [17.264     ],\n",
       "       [19.13645   ],\n",
       "       [13.638314  ],\n",
       "       [ 2.58103   ],\n",
       "       [ 7.1822486 ],\n",
       "       [ 3.5168133 ],\n",
       "       [23.965614  ],\n",
       "       [18.819103  ],\n",
       "       [14.720924  ],\n",
       "       [18.65746   ],\n",
       "       [19.907616  ],\n",
       "       [ 2.49654   ],\n",
       "       [ 3.252994  ],\n",
       "       [12.968539  ],\n",
       "       [ 9.170027  ],\n",
       "       [18.63028   ],\n",
       "       [ 5.7495875 ],\n",
       "       [10.983562  ],\n",
       "       [11.2969265 ],\n",
       "       [18.259472  ],\n",
       "       [18.224846  ],\n",
       "       [21.62676   ],\n",
       "       [ 1.7297812 ],\n",
       "       [ 0.78250694],\n",
       "       [23.643473  ],\n",
       "       [21.950342  ],\n",
       "       [13.73678   ],\n",
       "       [19.464993  ],\n",
       "       [ 1.2571983 ],\n",
       "       [18.880266  ],\n",
       "       [ 6.738291  ],\n",
       "       [19.309517  ],\n",
       "       [ 3.5270352 ],\n",
       "       [12.129493  ],\n",
       "       [ 5.816991  ],\n",
       "       [ 9.3593445 ],\n",
       "       [ 9.720623  ],\n",
       "       [23.51516   ],\n",
       "       [20.921585  ],\n",
       "       [17.807667  ],\n",
       "       [10.93577   ],\n",
       "       [ 9.860319  ],\n",
       "       [ 1.4645739 ],\n",
       "       [19.534222  ],\n",
       "       [15.934057  ],\n",
       "       [ 7.3196545 ],\n",
       "       [ 1.0893631 ],\n",
       "       [ 6.4317703 ],\n",
       "       [ 4.4274454 ],\n",
       "       [ 9.188061  ],\n",
       "       [19.716736  ],\n",
       "       [ 1.805088  ],\n",
       "       [ 8.054603  ],\n",
       "       [13.202972  ],\n",
       "       [ 8.037644  ],\n",
       "       [19.236553  ],\n",
       "       [ 0.25766087],\n",
       "       [ 0.31834412],\n",
       "       [ 6.568133  ],\n",
       "       [19.15826   ],\n",
       "       [ 5.7453523 ],\n",
       "       [16.236273  ],\n",
       "       [10.491283  ],\n",
       "       [ 5.2701707 ],\n",
       "       [18.206879  ],\n",
       "       [ 2.824181  ],\n",
       "       [ 8.5461    ],\n",
       "       [11.78286   ],\n",
       "       [20.128988  ],\n",
       "       [ 2.2934937 ],\n",
       "       [11.318195  ],\n",
       "       [13.891558  ],\n",
       "       [ 4.2573733 ],\n",
       "       [ 6.055872  ],\n",
       "       [ 0.58510876],\n",
       "       [ 7.406441  ],\n",
       "       [16.894318  ],\n",
       "       [ 3.640664  ],\n",
       "       [22.163086  ],\n",
       "       [ 4.9034944 ],\n",
       "       [ 2.1583838 ],\n",
       "       [20.349909  ],\n",
       "       [ 9.92936   ],\n",
       "       [11.408673  ],\n",
       "       [ 5.7384667 ],\n",
       "       [16.414646  ],\n",
       "       [23.50238   ],\n",
       "       [ 6.2371206 ],\n",
       "       [15.656719  ],\n",
       "       [ 0.06074524],\n",
       "       [18.851082  ],\n",
       "       [ 8.045344  ],\n",
       "       [10.882535  ],\n",
       "       [11.148682  ],\n",
       "       [ 1.120225  ],\n",
       "       [10.10816   ],\n",
       "       [13.136381  ],\n",
       "       [ 8.46649   ],\n",
       "       [ 5.6792374 ],\n",
       "       [ 6.486482  ],\n",
       "       [18.782553  ],\n",
       "       [13.7812    ],\n",
       "       [ 6.6519775 ],\n",
       "       [12.726569  ],\n",
       "       [ 3.177925  ],\n",
       "       [24.508015  ],\n",
       "       [19.996307  ],\n",
       "       [19.95359   ],\n",
       "       [18.561378  ],\n",
       "       [13.071271  ],\n",
       "       [10.412536  ],\n",
       "       [ 4.7005415 ],\n",
       "       [16.539948  ],\n",
       "       [ 5.9330254 ],\n",
       "       [ 0.79447937],\n",
       "       [21.127747  ],\n",
       "       [ 7.2909017 ],\n",
       "       [10.764733  ],\n",
       "       [ 5.6642466 ],\n",
       "       [ 1.0806437 ],\n",
       "       [15.760981  ],\n",
       "       [10.057418  ],\n",
       "       [14.733372  ],\n",
       "       [16.552141  ],\n",
       "       [ 4.653344  ],\n",
       "       [12.767921  ],\n",
       "       [ 5.8148394 ],\n",
       "       [ 7.077614  ],\n",
       "       [ 3.576939  ],\n",
       "       [ 7.779649  ],\n",
       "       [16.020205  ],\n",
       "       [17.821983  ],\n",
       "       [11.547999  ],\n",
       "       [10.927879  ],\n",
       "       [ 7.0399904 ],\n",
       "       [ 1.8688769 ],\n",
       "       [20.867796  ],\n",
       "       [12.296776  ],\n",
       "       [ 3.9164553 ],\n",
       "       [ 2.184074  ],\n",
       "       [19.150085  ],\n",
       "       [14.731266  ],\n",
       "       [11.571664  ],\n",
       "       [18.504505  ],\n",
       "       [ 1.7780809 ],\n",
       "       [ 2.1092567 ],\n",
       "       [14.007965  ],\n",
       "       [ 1.6164999 ],\n",
       "       [ 1.7706738 ],\n",
       "       [10.164655  ],\n",
       "       [19.031319  ],\n",
       "       [ 2.077475  ],\n",
       "       [16.8065    ],\n",
       "       [ 3.8365407 ],\n",
       "       [ 7.472332  ],\n",
       "       [ 1.4940443 ],\n",
       "       [18.47651   ],\n",
       "       [19.805176  ],\n",
       "       [11.341296  ],\n",
       "       [17.533587  ],\n",
       "       [ 5.1821327 ],\n",
       "       [ 6.684354  ],\n",
       "       [ 0.32822132],\n",
       "       [ 9.620119  ],\n",
       "       [ 8.216781  ],\n",
       "       [19.14858   ],\n",
       "       [18.80494   ],\n",
       "       [13.086178  ],\n",
       "       [12.462265  ],\n",
       "       [ 5.557434  ],\n",
       "       [13.590595  ],\n",
       "       [11.651982  ],\n",
       "       [18.195044  ],\n",
       "       [ 5.0918694 ],\n",
       "       [22.348595  ],\n",
       "       [14.912873  ],\n",
       "       [22.684633  ],\n",
       "       [13.76339   ],\n",
       "       [19.601963  ],\n",
       "       [17.2155    ],\n",
       "       [19.418978  ],\n",
       "       [ 6.9871597 ],\n",
       "       [ 5.596387  ],\n",
       "       [ 5.085966  ],\n",
       "       [19.136417  ],\n",
       "       [ 1.7274313 ],\n",
       "       [21.188381  ],\n",
       "       [12.613314  ],\n",
       "       [19.746803  ],\n",
       "       [15.227257  ],\n",
       "       [19.916092  ],\n",
       "       [ 4.4117017 ],\n",
       "       [13.578983  ],\n",
       "       [21.64679   ]], dtype=float32)"
      ]
     },
     "execution_count": 35,
     "metadata": {},
     "output_type": "execute_result"
    }
   ],
   "source": [
    "energy"
   ]
  },
  {
   "cell_type": "code",
   "execution_count": 36,
   "metadata": {
    "ExecuteTime": {
     "end_time": "2024-11-01T18:06:47.293396Z",
     "start_time": "2024-11-01T18:06:47.281989Z"
    }
   },
   "outputs": [],
   "source": [
    "evals = []\n",
    "\n",
    "x_plot = []\n",
    "y_plot = []\n",
    "for i in range(len(selected_data)):\n",
    "    input = torch.FloatTensor([selected_data[i]])\n",
    "    input.requires_grad = True\n",
    "    x_plot.append(input[0][0].item())\n",
    "    y_plot.append(input[0][1].item())\n",
    "    evals.append(energy[i][0])"
   ]
  },
  {
   "cell_type": "code",
   "execution_count": 37,
   "metadata": {
    "ExecuteTime": {
     "end_time": "2024-11-01T18:06:47.464771Z",
     "start_time": "2024-11-01T18:06:47.340772Z"
    }
   },
   "outputs": [
    {
     "data": {
      "image/png": "[encoded data removed]",
      "text/plain": [
       "<Figure size 640x480 with 1 Axes>"
      ]
     },
     "metadata": {},
     "output_type": "display_data"
    }
   ],
   "source": [
    "from matplotlib import pyplot as plt\n",
    "fig = plt.figure()\n",
    " \n",
    "# syntax for 3-D plotting\n",
    "ax = plt.axes(projection='3d')\n",
    " \n",
    "# syntax for plotting\n",
    "ax.plot_trisurf(x_plot, y_plot, evals, cmap='viridis',\\\n",
    "                edgecolor='green')\n",
    "ax.set_title('Surface plot')\n",
    "plt.show()"
   ]
  },
  {
   "cell_type": "code",
   "execution_count": 38,
   "metadata": {
    "ExecuteTime": {
     "end_time": "2024-11-01T18:07:05.467491Z",
     "start_time": "2024-11-01T18:07:05.455821Z"
    }
   },
   "outputs": [
    {
     "data": {
      "application/vnd.plotly.v1+json": {
       "config": {
        "plotlyServerURL": "https://plot.ly"
       },
       "data": [
        {
         "mode": "markers",
         "type": "scatter3d",
         "x": [
          1.9383043050765991,
          1.949461579322815,
          -0.731048047542572,
          1.7335691452026367,
          -0.4191244840621948,
          -1.0937094688415527,
          -2.4326133728027344,
          2.77870774269104,
          -1.682378888130188,
          -0.42099907994270325,
          1.2342287302017212,
          -0.6729524731636047,
          3.077199697494507,
          2.4709842205047607,
          -1.9035183191299438,
          2.5197126865386963,
          -2.8797688484191895,
          0.1474175751209259,
          0.6466740369796753,
          1.776827335357666,
          -1.293222188949585,
          2.166569232940674,
          -1.1301028728485107,
          1.6083968877792358,
          -1.675351619720459,
          2.397772789001465,
          2.5506887435913086,
          2.6716063022613525,
          -0.019153600558638573,
          -0.14877235889434814,
          2.7171804904937744,
          2.972766399383545,
          1.4984973669052124,
          -2.8572237491607666,
          -0.44656893610954285,
          2.645542860031128,
          1.1119866371154785,
          -2.8604745864868164,
          -0.6023529767990112,
          -1.8078383207321167,
          -1.1169112920761108,
          -1.132846713066101,
          1.551283836364746,
          -2.7495484352111816,
          2.8094680309295654,
          2.5220229625701904,
          -1.66591477394104,
          -1.16255784034729,
          0.2113504260778427,
          -2.1477601528167725,
          2.1295878887176514,
          1.0843300819396973,
          0.4740341603755951,
          -0.7432365417480469,
          0.524888813495636,
          -1.199015736579895,
          2.9175431728363037,
          -0.4429672956466675,
          -1.175072193145752,
          -1.7544740438461304,
          -1.3799114227294922,
          2.6495471000671387,
          0.22719170153141022,
          -0.020438721403479576,
          1.2339917421340942,
          -2.6240711212158203,
          -1.0095797777175903,
          -1.991366982460022,
          1.5828495025634766,
          0.36159589886665344,
          2.13492488861084,
          -0.2823277413845062,
          1.4371588230133057,
          1.5766712427139282,
          -2.810344696044922,
          0.028744913637638092,
          1.6440727710723877,
          1.78374445438385,
          -0.9401132464408875,
          1.173119306564331,
          0.3338138461112976,
          -0.9229205250740051,
          2.3776040077209473,
          0.7454543709754944,
          -2.500004768371582,
          0.9878098964691162,
          0.33509767055511475,
          -3.0684123039245605,
          1.3646459579467773,
          1.428735375404358,
          -0.6779478192329407,
          2.3052892684936523,
          -2.9785513877868652,
          1.185045838356018,
          2.199138641357422,
          -0.07750517129898071,
          -2.7322371006011963,
          -1.2778009176254272,
          1.22734534740448,
          -1.2733478546142578,
          -0.3399761915206909,
          -1.4318994283676147,
          -1.7901262044906616,
          1.4249805212020874,
          1.0032875537872314,
          0.9782352447509766,
          2.6867430210113525,
          1.584715723991394,
          -0.751889705657959,
          -1.479814052581787,
          0.501484751701355,
          3.0687053203582764,
          2.9163477420806885,
          -3.0486128330230713,
          2.375408172607422,
          -1.8527668714523315,
          1.3240243196487427,
          0.7069816589355469,
          2.119269847869873,
          0.9699219465255737,
          0.32631173729896545,
          -2.9473793506622314,
          1.1332151889801025,
          -1.5202324390411377,
          -0.8417813181877136,
          0.14822015166282654,
          -1.9170331954956055,
          -1.427465796470642,
          -1.8147894144058228,
          2.312966823577881,
          0.03411309793591499,
          -1.3887486457824707,
          -0.8011506795883179,
          -1.2822813987731934,
          0.7011165022850037,
          -1.3551204204559326,
          2.255605697631836,
          2.0846118927001953,
          -1.7412723302841187,
          1.6377094984054565,
          1.2828997373580933,
          -0.04784027859568596,
          -2.728123188018799,
          1.5030421018600464,
          0.5727617144584656,
          -0.6779550909996033,
          -2.8306713104248047,
          -1.9716657400131226,
          1.5493018627166748,
          -2.3405840396881104,
          -0.36801159381866455,
          0.6489952206611633,
          -2.012284278869629,
          0.5818869471549988,
          -0.41891083121299744,
          -1.1661107540130615,
          2.6196298599243164,
          0.5387324690818787,
          2.332657814025879,
          -0.8788654208183289,
          1.3091492652893066,
          0.5532023310661316,
          -2.6194629669189453,
          2.262394428253174,
          -1.5952078104019165,
          1.9911396503448486,
          -0.965613603591919,
          -0.983591616153717,
          0.19197231531143188,
          1.3084481954574585,
          -1.3331302404403687,
          2.603900909423828,
          2.635319232940674,
          1.7840466499328613,
          1.8112332820892334,
          1.0193043947219849,
          1.9657151699066162,
          -1.3699194192886353,
          2.1987814903259277,
          -0.995924711227417,
          -3.123798370361328,
          1.9982287883758545,
          2.8145222663879395,
          -1.8131166696548462,
          -3.0613906383514404,
          -1.9300298690795898,
          2.849745035171509,
          -1.0967158079147339,
          0.8997816443443298,
          -0.9836088418960571,
          2.3966023921966553,
          -0.5615193843841553,
          -2.4447154998779297,
          -1.8381952047348022,
          -2.1525208950042725,
          -2.1171886920928955,
          2.223083257675171,
          -0.8218497037887573,
          -1.9587793350219727,
          2.4563820362091064
         ],
         "y": [
          1.5923300981521606,
          2.936054229736328,
          -0.570824921131134,
          -2.3813512325286865,
          -1.933308720588684,
          -0.11164654046297073,
          0.12607218325138092,
          0.5573301315307617,
          -2.3392131328582764,
          1.8571110963821411,
          1.1063390970230103,
          -1.6601711511611938,
          -2.95497727394104,
          -1.6269725561141968,
          1.8475990295410156,
          -1.3221514225006104,
          -1.1152980327606201,
          2.1863839626312256,
          -1.5951670408248901,
          -1.5176583528518677,
          -2.0239551067352295,
          2.575037717819214,
          0.49841269850730896,
          -1.2686903476715088,
          -0.9623993635177612,
          -1.5687023401260376,
          -0.7324690818786621,
          2.478069543838501,
          -1.8590219020843506,
          -1.1611579656600952,
          3.1285157203674316,
          -2.222527027130127,
          -3.0448036193847656,
          -0.6913325190544128,
          -0.7683390378952026,
          0.9409245848655701,
          -1.5955909490585327,
          -0.3862600028514862,
          -1.8976417779922485,
          0.17790845036506653,
          -0.7852234840393066,
          2.7238218784332275,
          0.45172515511512756,
          3.046126127243042,
          1.9171251058578491,
          0.14877216517925262,
          -0.622999370098114,
          -2.8088510036468506,
          1.57878839969635,
          -2.9573793411254883,
          1.3587995767593384,
          2.0473783016204834,
          0.12372402101755142,
          2.7729766368865967,
          -2.4927175045013428,
          -2.4256083965301514,
          -0.8269553780555725,
          1.3101630210876465,
          2.0130209922790527,
          1.789529800415039,
          0.4216020405292511,
          1.2492618560791016,
          0.10555930435657501,
          0.7953559756278992,
          -0.011999205686151981,
          1.28288733959198,
          1.520787000656128,
          2.2004685401916504,
          -1.0611733198165894,
          -3.0449273586273193,
          -2.5106453895568848,
          2.2071692943573,
          -0.2938859760761261,
          1.9571542739868164,
          1.4438047409057617,
          -2.139832019805908,
          1.2569770812988281,
          2.0041399002075195,
          0.6816107034683228,
          -0.3002198338508606,
          -0.29527202248573303,
          -2.652062177658081,
          0.037098292261362076,
          -1.4414253234863281,
          -2.997945785522461,
          -0.9940731525421143,
          1.7959589958190918,
          1.2297676801681519,
          2.0627174377441406,
          -2.444425344467163,
          -2.6717400550842285,
          0.24444112181663513,
          -2.8328351974487305,
          -0.48616406321525574,
          0.40088918805122375,
          0.25018006563186646,
          -0.2884672284126282,
          -1.4619718790054321,
          -2.958357572555542,
          -2.9030370712280273,
          1.057096242904663,
          -1.8200888633728027,
          1.5439974069595337,
          0.4046705961227417,
          1.511578917503357,
          2.0761706829071045,
          0.5656187534332275,
          2.7693519592285156,
          2.830970287322998,
          2.759664535522461,
          -1.9849520921707153,
          3.134983777999878,
          1.1172410249710083,
          0.8671395778656006,
          -1.8344860076904297,
          -1.031163215637207,
          -2.4490299224853516,
          2.1676430702209473,
          1.797308325767517,
          -1.8271533250808716,
          0.7440645694732666,
          1.8396601676940918,
          -1.809909701347351,
          1.7032636404037476,
          -2.1858792304992676,
          1.3950495719909668,
          2.28991436958313,
          1.8158636093139648,
          -2.259857654571533,
          -0.47258275747299194,
          -3.0488150119781494,
          3.0769989490509033,
          -2.379676342010498,
          -0.34304994344711304,
          -1.5893269777297974,
          -0.37165573239326477,
          -0.10129310935735703,
          2.5259978771209717,
          -0.3839728832244873,
          0.9611977934837341,
          -0.17551422119140625,
          -1.9275130033493042,
          2.0368902683258057,
          2.510352849960327,
          2.1683413982391357,
          -0.1712317317724228,
          -0.03005812130868435,
          1.4786601066589355,
          1.986206293106079,
          -1.9323102235794067,
          1.4974967241287231,
          -0.4791663885116577,
          -0.11221541464328766,
          0.06385644525289536,
          1.358253836631775,
          -2.904184341430664,
          1.1979955434799194,
          1.1730166673660278,
          0.6707510948181152,
          -0.7557353377342224,
          -0.6323021650314331,
          -0.2483820617198944,
          0.5720205307006836,
          2.734469175338745,
          1.6073845624923706,
          -2.727776050567627,
          1.3806973695755005,
          2.1491618156433105,
          0.5440782308578491,
          -2.1699459552764893,
          -1.1969938278198242,
          -1.3511756658554077,
          -0.9116214513778687,
          1.5492007732391357,
          0.7952836751937866,
          -1.3322666883468628,
          0.11279402673244476,
          2.7565770149230957,
          2.289766788482666,
          1.1098029613494873,
          2.336726665496826,
          -1.4396374225616455,
          2.67756724357605,
          1.78853178024292,
          0.16428649425506592,
          2.81308650970459,
          0.6539166569709778,
          -1.8196847438812256,
          1.942193865776062,
          1.1924086809158325,
          2.0567638874053955,
          0.6649462580680847,
          -2.7768971920013428,
          -0.6500436663627625,
          3.015475273132324,
          -0.7998745441436768,
          2.8814470767974854,
          1.6006330251693726,
          0.3395393192768097,
          -2.912402391433716
         ],
         "z": [
          14.602401733398438,
          17.746774673461914,
          2.6696200370788574,
          14.235176086425781,
          2.717940330505371,
          5.311546325683594,
          17.263999938964844,
          19.136449813842773,
          13.638314247131348,
          2.5810298919677734,
          7.182248592376709,
          3.516813278198242,
          23.965614318847656,
          18.819103240966797,
          14.720924377441406,
          18.657459259033203,
          19.907615661621094,
          2.496540069580078,
          3.2529940605163574,
          12.968539237976074,
          9.170026779174805,
          18.630279541015625,
          5.749587535858154,
          10.983562469482422,
          11.296926498413086,
          18.259471893310547,
          18.22484588623047,
          21.626760482788086,
          1.729781150817871,
          0.7825069427490234,
          23.64347267150879,
          21.950342178344727,
          13.736780166625977,
          19.46499252319336,
          1.2571983337402344,
          18.880266189575195,
          6.738290786743164,
          19.30951690673828,
          3.5270352363586426,
          12.12949275970459,
          5.816990852355957,
          9.359344482421875,
          9.720623016357422,
          23.515159606933594,
          20.921585083007812,
          17.807666778564453,
          10.935770034790039,
          9.860319137573242,
          1.464573860168457,
          19.534221649169922,
          15.934057235717773,
          7.31965446472168,
          1.0893630981445312,
          6.431770324707031,
          4.427445411682129,
          9.188060760498047,
          19.71673583984375,
          1.8050880432128906,
          8.05460262298584,
          13.202972412109375,
          8.037644386291504,
          19.236553192138672,
          0.2576608657836914,
          0.3183441162109375,
          6.5681328773498535,
          19.158260345458984,
          5.745352268218994,
          16.23627281188965,
          10.491283416748047,
          5.27017068862915,
          18.206878662109375,
          2.824181079864502,
          8.546099662780762,
          11.782859802246094,
          20.12898826599121,
          2.2934937477111816,
          11.318195343017578,
          13.891557693481445,
          4.257373332977295,
          6.055871963500977,
          0.585108757019043,
          7.4064412117004395,
          16.894317626953125,
          3.6406641006469727,
          22.1630859375,
          4.903494358062744,
          2.158383846282959,
          20.34990882873535,
          9.929360389709473,
          11.408673286437988,
          5.738466739654541,
          16.41464614868164,
          23.50238037109375,
          6.237120628356934,
          15.656719207763672,
          0.0607452392578125,
          18.85108184814453,
          8.045344352722168,
          10.882534980773926,
          11.148681640625,
          1.120224952697754,
          10.108160018920898,
          13.136381149291992,
          8.466489791870117,
          5.679237365722656,
          6.4864821434021,
          18.78255271911621,
          13.781200408935547,
          6.6519775390625,
          12.726569175720215,
          3.1779251098632812,
          24.508014678955078,
          19.996307373046875,
          19.953590393066406,
          18.561378479003906,
          13.071270942687988,
          10.412535667419434,
          4.7005414962768555,
          16.539947509765625,
          5.933025360107422,
          0.7944793701171875,
          21.12774658203125,
          7.2909016609191895,
          10.76473331451416,
          5.664246559143066,
          1.080643653869629,
          15.760980606079102,
          10.057417869567871,
          14.73337173461914,
          16.552141189575195,
          4.65334415435791,
          12.767921447753906,
          5.8148393630981445,
          7.077613830566406,
          3.576939105987549,
          7.779648780822754,
          16.020204544067383,
          17.821983337402344,
          11.547999382019043,
          10.927879333496094,
          7.039990425109863,
          1.8688769340515137,
          20.867795944213867,
          12.296775817871094,
          3.9164552688598633,
          2.1840739250183105,
          19.15008544921875,
          14.731266021728516,
          11.571663856506348,
          18.504505157470703,
          1.778080940246582,
          2.1092567443847656,
          14.007965087890625,
          1.616499900817871,
          1.7706737518310547,
          10.164654731750488,
          19.03131866455078,
          2.077475070953369,
          16.806499481201172,
          3.836540699005127,
          7.472332000732422,
          1.494044303894043,
          18.47650909423828,
          19.80517578125,
          11.341296195983887,
          17.533586502075195,
          5.182132720947266,
          6.684353828430176,
          0.32822132110595703,
          9.620119094848633,
          8.216780662536621,
          19.14858055114746,
          18.80493927001953,
          13.086177825927734,
          12.462265014648438,
          5.55743408203125,
          13.590595245361328,
          11.651982307434082,
          18.195043563842773,
          5.091869354248047,
          22.348594665527344,
          14.912873268127441,
          22.684633255004883,
          13.763389587402344,
          19.60196304321289,
          17.215499877929688,
          19.418977737426758,
          6.987159729003906,
          5.596386909484863,
          5.085966110229492,
          19.136417388916016,
          1.727431297302246,
          21.18838119506836,
          12.613313674926758,
          19.746803283691406,
          15.227256774902344,
          19.916091918945312,
          4.411701679229736,
          13.578983306884766,
          21.64678955078125
         ]
        }
       ],
       "layout": {
        "autosize": false,
        "height": 500,
        "margin": {
         "b": 65,
         "l": 65,
         "r": 50,
         "t": 90
        },
        "scene": {
         "aspectmode": "cube"
        },
        "template": {
         "data": {
          "bar": [
           {
            "error_x": {
             "color": "#2a3f5f"
            },
            "error_y": {
             "color": "#2a3f5f"
            },
            "marker": {
             "line": {
              "color": "#E5ECF6",
              "width": 0.5
             },
             "pattern": {
              "fillmode": "overlay",
              "size": 10,
              "solidity": 0.2
             }
            },
            "type": "bar"
           }
          ],
          "barpolar": [
           {
            "marker": {
             "line": {
              "color": "#E5ECF6",
              "width": 0.5
             },
             "pattern": {
              "fillmode": "overlay",
              "size": 10,
              "solidity": 0.2
             }
            },
            "type": "barpolar"
           }
          ],
          "carpet": [
           {
            "aaxis": {
             "endlinecolor": "#2a3f5f",
             "gridcolor": "white",
             "linecolor": "white",
             "minorgridcolor": "white",
             "startlinecolor": "#2a3f5f"
            },
            "baxis": {
             "endlinecolor": "#2a3f5f",
             "gridcolor": "white",
             "linecolor": "white",
             "minorgridcolor": "white",
             "startlinecolor": "#2a3f5f"
            },
            "type": "carpet"
           }
          ],
          "choropleth": [
           {
            "colorbar": {
             "outlinewidth": 0,
             "ticks": ""
            },
            "type": "choropleth"
           }
          ],
          "contour": [
           {
            "colorbar": {
             "outlinewidth": 0,
             "ticks": ""
            },
            "colorscale": [
             [
              0,
              "#0d0887"
             ],
             [
              0.1111111111111111,
              "#46039f"
             ],
             [
              0.2222222222222222,
              "#7201a8"
             ],
             [
              0.3333333333333333,
              "#9c179e"
             ],
             [
              0.4444444444444444,
              "#bd3786"
             ],
             [
              0.5555555555555556,
              "#d8576b"
             ],
             [
              0.6666666666666666,
              "#ed7953"
             ],
             [
              0.7777777777777778,
              "#fb9f3a"
             ],
             [
              0.8888888888888888,
              "#fdca26"
             ],
             [
              1,
              "#f0f921"
             ]
            ],
            "type": "contour"
           }
          ],
          "contourcarpet": [
           {
            "colorbar": {
             "outlinewidth": 0,
             "ticks": ""
            },
            "type": "contourcarpet"
           }
          ],
          "heatmap": [
           {
            "colorbar": {
             "outlinewidth": 0,
             "ticks": ""
            },
            "colorscale": [
             [
              0,
              "#0d0887"
             ],
             [
              0.1111111111111111,
              "#46039f"
             ],
             [
              0.2222222222222222,
              "#7201a8"
             ],
             [
              0.3333333333333333,
              "#9c179e"
             ],
             [
              0.4444444444444444,
              "#bd3786"
             ],
             [
              0.5555555555555556,
              "#d8576b"
             ],
             [
              0.6666666666666666,
              "#ed7953"
             ],
             [
              0.7777777777777778,
              "#fb9f3a"
             ],
             [
              0.8888888888888888,
              "#fdca26"
             ],
             [
              1,
              "#f0f921"
             ]
            ],
            "type": "heatmap"
           }
          ],
          "heatmapgl": [
           {
            "colorbar": {
             "outlinewidth": 0,
             "ticks": ""
            },
            "colorscale": [
             [
              0,
              "#0d0887"
             ],
             [
              0.1111111111111111,
              "#46039f"
             ],
             [
              0.2222222222222222,
              "#7201a8"
             ],
             [
              0.3333333333333333,
              "#9c179e"
             ],
             [
              0.4444444444444444,
              "#bd3786"
             ],
             [
              0.5555555555555556,
              "#d8576b"
             ],
             [
              0.6666666666666666,
              "#ed7953"
             ],
             [
              0.7777777777777778,
              "#fb9f3a"
             ],
             [
              0.8888888888888888,
              "#fdca26"
             ],
             [
              1,
              "#f0f921"
             ]
            ],
            "type": "heatmapgl"
           }
          ],
          "histogram": [
           {
            "marker": {
             "pattern": {
              "fillmode": "overlay",
              "size": 10,
              "solidity": 0.2
             }
            },
            "type": "histogram"
           }
          ],
          "histogram2d": [
           {
            "colorbar": {
             "outlinewidth": 0,
             "ticks": ""
            },
            "colorscale": [
             [
              0,
              "#0d0887"
             ],
             [
              0.1111111111111111,
              "#46039f"
             ],
             [
              0.2222222222222222,
              "#7201a8"
             ],
             [
              0.3333333333333333,
              "#9c179e"
             ],
             [
              0.4444444444444444,
              "#bd3786"
             ],
             [
              0.5555555555555556,
              "#d8576b"
             ],
             [
              0.6666666666666666,
              "#ed7953"
             ],
             [
              0.7777777777777778,
              "#fb9f3a"
             ],
             [
              0.8888888888888888,
              "#fdca26"
             ],
             [
              1,
              "#f0f921"
             ]
            ],
            "type": "histogram2d"
           }
          ],
          "histogram2dcontour": [
           {
            "colorbar": {
             "outlinewidth": 0,
             "ticks": ""
            },
            "colorscale": [
             [
              0,
              "#0d0887"
             ],
             [
              0.1111111111111111,
              "#46039f"
             ],
             [
              0.2222222222222222,
              "#7201a8"
             ],
             [
              0.3333333333333333,
              "#9c179e"
             ],
             [
              0.4444444444444444,
              "#bd3786"
             ],
             [
              0.5555555555555556,
              "#d8576b"
             ],
             [
              0.6666666666666666,
              "#ed7953"
             ],
             [
              0.7777777777777778,
              "#fb9f3a"
             ],
             [
              0.8888888888888888,
              "#fdca26"
             ],
             [
              1,
              "#f0f921"
             ]
            ],
            "type": "histogram2dcontour"
           }
          ],
          "mesh3d": [
           {
            "colorbar": {
             "outlinewidth": 0,
             "ticks": ""
            },
            "type": "mesh3d"
           }
          ],
          "parcoords": [
           {
            "line": {
             "colorbar": {
              "outlinewidth": 0,
              "ticks": ""
             }
            },
            "type": "parcoords"
           }
          ],
          "pie": [
           {
            "automargin": true,
            "type": "pie"
           }
          ],
          "scatter": [
           {
            "fillpattern": {
             "fillmode": "overlay",
             "size": 10,
             "solidity": 0.2
            },
            "type": "scatter"
           }
          ],
          "scatter3d": [
           {
            "line": {
             "colorbar": {
              "outlinewidth": 0,
              "ticks": ""
             }
            },
            "marker": {
             "colorbar": {
              "outlinewidth": 0,
              "ticks": ""
             }
            },
            "type": "scatter3d"
           }
          ],
          "scattercarpet": [
           {
            "marker": {
             "colorbar": {
              "outlinewidth": 0,
              "ticks": ""
             }
            },
            "type": "scattercarpet"
           }
          ],
          "scattergeo": [
           {
            "marker": {
             "colorbar": {
              "outlinewidth": 0,
              "ticks": ""
             }
            },
            "type": "scattergeo"
           }
          ],
          "scattergl": [
           {
            "marker": {
             "colorbar": {
              "outlinewidth": 0,
              "ticks": ""
             }
            },
            "type": "scattergl"
           }
          ],
          "scattermapbox": [
           {
            "marker": {
             "colorbar": {
              "outlinewidth": 0,
              "ticks": ""
             }
            },
            "type": "scattermapbox"
           }
          ],
          "scatterpolar": [
           {
            "marker": {
             "colorbar": {
              "outlinewidth": 0,
              "ticks": ""
             }
            },
            "type": "scatterpolar"
           }
          ],
          "scatterpolargl": [
           {
            "marker": {
             "colorbar": {
              "outlinewidth": 0,
              "ticks": ""
             }
            },
            "type": "scatterpolargl"
           }
          ],
          "scatterternary": [
           {
            "marker": {
             "colorbar": {
              "outlinewidth": 0,
              "ticks": ""
             }
            },
            "type": "scatterternary"
           }
          ],
          "surface": [
           {
            "colorbar": {
             "outlinewidth": 0,
             "ticks": ""
            },
            "colorscale": [
             [
              0,
              "#0d0887"
             ],
             [
              0.1111111111111111,
              "#46039f"
             ],
             [
              0.2222222222222222,
              "#7201a8"
             ],
             [
              0.3333333333333333,
              "#9c179e"
             ],
             [
              0.4444444444444444,
              "#bd3786"
             ],
             [
              0.5555555555555556,
              "#d8576b"
             ],
             [
              0.6666666666666666,
              "#ed7953"
             ],
             [
              0.7777777777777778,
              "#fb9f3a"
             ],
             [
              0.8888888888888888,
              "#fdca26"
             ],
             [
              1,
              "#f0f921"
             ]
            ],
            "type": "surface"
           }
          ],
          "table": [
           {
            "cells": {
             "fill": {
              "color": "#EBF0F8"
             },
             "line": {
              "color": "white"
             }
            },
            "header": {
             "fill": {
              "color": "#C8D4E3"
             },
             "line": {
              "color": "white"
             }
            },
            "type": "table"
           }
          ]
         },
         "layout": {
          "annotationdefaults": {
           "arrowcolor": "#2a3f5f",
           "arrowhead": 0,
           "arrowwidth": 1
          },
          "autotypenumbers": "strict",
          "coloraxis": {
           "colorbar": {
            "outlinewidth": 0,
            "ticks": ""
           }
          },
          "colorscale": {
           "diverging": [
            [
             0,
             "#8e0152"
            ],
            [
             0.1,
             "#c51b7d"
            ],
            [
             0.2,
             "#de77ae"
            ],
            [
             0.3,
             "#f1b6da"
            ],
            [
             0.4,
             "#fde0ef"
            ],
            [
             0.5,
             "#f7f7f7"
            ],
            [
             0.6,
             "#e6f5d0"
            ],
            [
             0.7,
             "#b8e186"
            ],
            [
             0.8,
             "#7fbc41"
            ],
            [
             0.9,
             "#4d9221"
            ],
            [
             1,
             "#276419"
            ]
           ],
           "sequential": [
            [
             0,
             "#0d0887"
            ],
            [
             0.1111111111111111,
             "#46039f"
            ],
            [
             0.2222222222222222,
             "#7201a8"
            ],
            [
             0.3333333333333333,
             "#9c179e"
            ],
            [
             0.4444444444444444,
             "#bd3786"
            ],
            [
             0.5555555555555556,
             "#d8576b"
            ],
            [
             0.6666666666666666,
             "#ed7953"
            ],
            [
             0.7777777777777778,
             "#fb9f3a"
            ],
            [
             0.8888888888888888,
             "#fdca26"
            ],
            [
             1,
             "#f0f921"
            ]
           ],
           "sequentialminus": [
            [
             0,
             "#0d0887"
            ],
            [
             0.1111111111111111,
             "#46039f"
            ],
            [
             0.2222222222222222,
             "#7201a8"
            ],
            [
             0.3333333333333333,
             "#9c179e"
            ],
            [
             0.4444444444444444,
             "#bd3786"
            ],
            [
             0.5555555555555556,
             "#d8576b"
            ],
            [
             0.6666666666666666,
             "#ed7953"
            ],
            [
             0.7777777777777778,
             "#fb9f3a"
            ],
            [
             0.8888888888888888,
             "#fdca26"
            ],
            [
             1,
             "#f0f921"
            ]
           ]
          },
          "colorway": [
           "#636efa",
           "#EF553B",
           "#00cc96",
           "#ab63fa",
           "#FFA15A",
           "#19d3f3",
           "#FF6692",
           "#B6E880",
           "#FF97FF",
           "#FECB52"
          ],
          "font": {
           "color": "#2a3f5f"
          },
          "geo": {
           "bgcolor": "white",
           "lakecolor": "white",
           "landcolor": "#E5ECF6",
           "showlakes": true,
           "showland": true,
           "subunitcolor": "white"
          },
          "hoverlabel": {
           "align": "left"
          },
          "hovermode": "closest",
          "mapbox": {
           "style": "light"
          },
          "paper_bgcolor": "white",
          "plot_bgcolor": "#E5ECF6",
          "polar": {
           "angularaxis": {
            "gridcolor": "white",
            "linecolor": "white",
            "ticks": ""
           },
           "bgcolor": "#E5ECF6",
           "radialaxis": {
            "gridcolor": "white",
            "linecolor": "white",
            "ticks": ""
           }
          },
          "scene": {
           "xaxis": {
            "backgroundcolor": "#E5ECF6",
            "gridcolor": "white",
            "gridwidth": 2,
            "linecolor": "white",
            "showbackground": true,
            "ticks": "",
            "zerolinecolor": "white"
           },
           "yaxis": {
            "backgroundcolor": "#E5ECF6",
            "gridcolor": "white",
            "gridwidth": 2,
            "linecolor": "white",
            "showbackground": true,
            "ticks": "",
            "zerolinecolor": "white"
           },
           "zaxis": {
            "backgroundcolor": "#E5ECF6",
            "gridcolor": "white",
            "gridwidth": 2,
            "linecolor": "white",
            "showbackground": true,
            "ticks": "",
            "zerolinecolor": "white"
           }
          },
          "shapedefaults": {
           "line": {
            "color": "#2a3f5f"
           }
          },
          "ternary": {
           "aaxis": {
            "gridcolor": "white",
            "linecolor": "white",
            "ticks": ""
           },
           "baxis": {
            "gridcolor": "white",
            "linecolor": "white",
            "ticks": ""
           },
           "bgcolor": "#E5ECF6",
           "caxis": {
            "gridcolor": "white",
            "linecolor": "white",
            "ticks": ""
           }
          },
          "title": {
           "x": 0.05
          },
          "xaxis": {
           "automargin": true,
           "gridcolor": "white",
           "linecolor": "white",
           "ticks": "",
           "title": {
            "standoff": 15
           },
           "zerolinecolor": "white",
           "zerolinewidth": 2
          },
          "yaxis": {
           "automargin": true,
           "gridcolor": "white",
           "linecolor": "white",
           "ticks": "",
           "title": {
            "standoff": 15
           },
           "zerolinecolor": "white",
           "zerolinewidth": 2
          }
         }
        },
        "title": {
         "text": "True energy outputs against a trajectory"
        },
        "width": 500
       }
      }
     },
     "metadata": {},
     "output_type": "display_data"
    }
   ],
   "source": [
    "import plotly.graph_objects as go\n",
    "import numpy as np\n",
    "\n",
    "# Assuming your x_plot, y_plot, and evals are lists of 199 elements each\n",
    "x_plot = np.array(x_plot)\n",
    "y_plot = np.array(y_plot)\n",
    "evals = np.array(evals)\n",
    "\n",
    "fig = go.Figure(\n",
    "    data=[go.Scatter3d(x=x_plot, y=y_plot, z=evals, mode='markers')]\n",
    ")\n",
    "fig.update_layout(\n",
    "    title='True energy outputs against a trajectory',\n",
    "    autosize=False,\n",
    "    width=500,\n",
    "    height=500,\n",
    "    margin=dict(l=65, r=50, b=65, t=90),\n",
    "    scene_aspectmode='cube'\n",
    ")\n",
    "fig.show()\n"
   ]
  }
 ],
 "metadata": {
  "kernelspec": {
   "display_name": ".venv",
   "language": "python",
   "name": "python3"
  },
  "language_info": {
   "codemirror_mode": {
    "name": "ipython",
    "version": 3
   },
   "file_extension": ".py",
   "mimetype": "text/x-python",
   "name": "python",
   "nbconvert_exporter": "python",
   "pygments_lexer": "ipython3",
   "version": "3.12.4"
  }
 },
 "nbformat": 4,
 "nbformat_minor": 2
}
