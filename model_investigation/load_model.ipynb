{
 "cells": [
  {
   "cell_type": "markdown",
   "metadata": {},
   "source": [
    "# Setup"
   ]
  },
  {
   "cell_type": "code",
   "execution_count": 127,
   "metadata": {
    "ExecuteTime": {
     "end_time": "2024-11-01T17:30:52.198526Z",
     "start_time": "2024-11-01T17:30:51.068724Z"
    }
   },
   "outputs": [],
   "source": [
    "import logging\n",
    "import math\n",
    "\n",
    "import torch\n",
    "import torch.nn.functional as F\n",
    "from torch import nn\n",
    "\n",
    "#\n",
    "# From StableDynamics.ipynb; Zico Kolter\n",
    "#\n",
    "\n",
    "# You can use this to compensate for numeric error:\n",
    "VERIFY = False\n",
    "V_SCALE = 0.01\n",
    "\n",
    "global V_WRAP, SCALE_FX\n",
    "V_WRAP = False\n",
    "SCALE_FX = False\n",
    "\n",
    "class Dynamics(nn.Module):\n",
    "    def __init__(self, fhat, V, alpha=0.01):\n",
    "        super().__init__()\n",
    "        self.fhat = fhat\n",
    "        self.V = V\n",
    "        self.alpha = 0 # alpha\n",
    "\n",
    "    def forward(self, x):\n",
    "        fx = self.fhat(x)\n",
    "        if SCALE_FX:\n",
    "            fx = fx / fx.norm(p=2, dim=1, keepdim=True).clamp(min=1.0)\n",
    "\n",
    "        Vx = self.V(x)\n",
    "        gV = torch.autograd.grad([a for a in Vx], [x], create_graph=True, only_inputs=True)[0]\n",
    "        rv = fx - gV * (F.relu((gV*fx).sum(dim=1) + self.alpha*Vx[:,0])/(gV**2).sum(dim=1))[:,None]\n",
    "\n",
    "        if VERIFY:\n",
    "            # Verify that rv has no positive component along gV.\n",
    "            # This helps us catch:\n",
    "            #   (1) numeric error in the symbolic gradient calculation, and\n",
    "            #   (2) Violation of the Lyapunov function when Euler integration is used.\n",
    "            verify = (gV * rv).sum(dim=1)\n",
    "            num_violation = len([v for v in verify if v > 0]) # (1)\n",
    "            new_V = self.V(x + V_SCALE * rv)\n",
    "            if (new_V > Vx).any(): # (2)\n",
    "                err = sorted([v for v in (new_V - Vx).detach().cpu().numpy().ravel() if v > 0], reverse=True)\n",
    "\n",
    "        return rv\n",
    "\n",
    "class ICNN(nn.Module):\n",
    "    def __init__(self, layer_sizes, activation=F.relu_):\n",
    "        super().__init__()\n",
    "        self.W = nn.ParameterList([nn.Parameter(torch.Tensor(l, layer_sizes[0])) \n",
    "                                   for l in layer_sizes[1:]])\n",
    "        self.U = nn.ParameterList([nn.Parameter(torch.Tensor(layer_sizes[i+1], layer_sizes[i]))\n",
    "                                   for i in range(1,len(layer_sizes)-1)])\n",
    "        self.bias = nn.ParameterList([nn.Parameter(torch.Tensor(l)) for l in layer_sizes[1:]])\n",
    "        self.act = activation\n",
    "        self.reset_parameters()\n",
    "\n",
    "    def reset_parameters(self):\n",
    "        # copying from PyTorch Linear\n",
    "        for W in self.W:\n",
    "            nn.init.kaiming_uniform_(W, a=5**0.5)\n",
    "        for U in self.U:\n",
    "            nn.init.kaiming_uniform_(U, a=5**0.5)\n",
    "        for i,b in enumerate(self.bias):\n",
    "            fan_in, _ = nn.init._calculate_fan_in_and_fan_out(self.W[i])\n",
    "            bound = 1 / (fan_in**0.5)\n",
    "            nn.init.uniform_(b, -bound, bound)\n",
    "\n",
    "    def forward(self, x):\n",
    "        z = F.linear(x, self.W[0], self.bias[0])\n",
    "        z = self.act(z)\n",
    "\n",
    "        for W,b,U in zip(self.W[1:-1], self.bias[1:-1], self.U[:-1]):\n",
    "            z = F.linear(x, W, b) + F.linear(z, F.softplus(U)) / U.shape[0]\n",
    "            z = self.act(z)\n",
    "\n",
    "        return F.linear(x, self.W[-1], self.bias[-1]) + F.linear(z, F.softplus(self.U[-1])) / self.U[-1].shape[0]\n",
    "\n",
    "\n",
    "\n",
    "class ReHU(nn.Module):\n",
    "    \"\"\" Rectified Huber unit\"\"\"\n",
    "    def __init__(self, d):\n",
    "        super().__init__()\n",
    "        self.a = 1/d\n",
    "        self.b = -d/2\n",
    "\n",
    "    def forward(self, x):\n",
    "        return torch.max(torch.clamp(torch.sign(x)*self.a/2*x**2,min=0,max=-self.b),x+self.b)\n",
    "\n",
    "class MakePSD(nn.Module):\n",
    "    def __init__(self, f, n, eps=0.01, d=1.0):\n",
    "        super().__init__()\n",
    "        self.f = f\n",
    "        self.zero = torch.nn.Parameter(f(torch.zeros(1,n)), requires_grad=False)\n",
    "        self.eps = eps\n",
    "        self.d = d\n",
    "        self.rehu = ReHU(self.d)\n",
    "\n",
    "    def forward(self, x):\n",
    "        smoothed_output = self.rehu(self.f(x) - self.zero)\n",
    "        quadratic_under = self.eps*(x**2).sum(1,keepdim=True)\n",
    "        return smoothed_output + quadratic_under\n",
    "\n",
    "class PosDefICNN(nn.Module):\n",
    "    def __init__(self, layer_sizes, eps=0.1, negative_slope=0.05):\n",
    "        super().__init__()\n",
    "        self.W = nn.ParameterList([nn.Parameter(torch.Tensor(l, layer_sizes[0])) \n",
    "                                   for l in layer_sizes[1:]])\n",
    "        self.U = nn.ParameterList([nn.Parameter(torch.Tensor(layer_sizes[i+1], layer_sizes[i]))\n",
    "                                   for i in range(1,len(layer_sizes)-1)])\n",
    "        self.eps = eps\n",
    "        self.negative_slope = negative_slope\n",
    "        self.reset_parameters()\n",
    "\n",
    "    def reset_parameters(self):\n",
    "        # copying from PyTorch Linear\n",
    "        for W in self.W:\n",
    "            nn.init.kaiming_uniform_(W, a=5**0.5)\n",
    "        for U in self.U:\n",
    "            nn.init.kaiming_uniform_(U, a=5**0.5)\n",
    "\n",
    "    def forward(self, x):\n",
    "        z = F.linear(x, self.W[0])\n",
    "        F.leaky_relu_(z, negative_slope=self.negative_slope)\n",
    "\n",
    "        for W,U in zip(self.W[1:-1], self.U[:-1]):\n",
    "            z = F.linear(x, W) + F.linear(z, F.softplus(U))*self.negative_slope\n",
    "            z = F.leaky_relu_(z, negative_slope=self.negative_slope)\n",
    "\n",
    "        z = F.linear(x, self.W[-1]) + F.linear(z, F.softplus(self.U[-1]))\n",
    "        return F.relu(z) + self.eps*(x**2).sum(1)[:,None]\n",
    "\n",
    "def loss(Ypred, Yactual, X):\n",
    "    # Force smoothness in V:\n",
    "    # penalty for new_V being larget than old V:\n",
    "    Vloss = torch.tensor(0)\n",
    "    if SMOOTH_V:\n",
    "        V = model.V\n",
    "        # Successor to X:\n",
    "        succ_X = (X + V_SCALE * Yactual).detach()\n",
    "        if V_WRAP:\n",
    "            while torch.any(succ_X < -math.pi):\n",
    "                succ_X[succ_X < -math.pi] = succ_X[succ_X < -math.pi] + 2 * math.pi\n",
    "            while torch.any(succ_X >= math.pi):\n",
    "                succ_X[succ_X >= math.pi] = succ_X[succ_X >= math.pi] - 2 * math.pi\n",
    "            succ_X.requires_grad_()\n",
    "\n",
    "        Vloss = (V(succ_X) - V(X)).clamp(min=0).mean()\n",
    "\n",
    "    l2loss = ((Ypred - Yactual)**2).mean()\n",
    "\n",
    "    return (l2loss + SMOOTH_V * Vloss, l2loss, Vloss)\n",
    "\n",
    "global model, SMOOTH_V\n",
    "model = None\n",
    "SMOOTH_V = 0\n",
    "\n",
    "def loss_flatten(l):\n",
    "    return l\n",
    "\n",
    "def loss_labels():\n",
    "    return [\"loss\", \"l2\", \"V\"]\n",
    "\n",
    "def summary(*a, **kw):\n",
    "    pass"
   ]
  },
  {
   "cell_type": "markdown",
   "metadata": {},
   "source": [
    "# Verification"
   ]
  },
  {
   "cell_type": "code",
   "execution_count": 128,
   "metadata": {
    "ExecuteTime": {
     "end_time": "2024-11-01T17:30:52.215612Z",
     "start_time": "2024-11-01T17:30:52.208128Z"
    }
   },
   "outputs": [],
   "source": [
    "lsd = 2\n",
    "ph_dim = 32\n",
    "h_dim = 32\n",
    "\n",
    "fhat = nn.Sequential(nn.Linear(lsd, h_dim), nn.ReLU(),\n",
    "                        nn.Linear(h_dim, h_dim), nn.ReLU(),\n",
    "                        nn.Linear(h_dim, lsd))\n",
    "\n",
    "rehu = 0.005\n",
    "projfn_eps = 0.01\n",
    "\n",
    "V = MakePSD(ICNN([lsd, ph_dim, ph_dim, 1], activation=ReHU(float(0.005))), lsd, eps=projfn_eps, d=1.0)\n",
    "model = Dynamics(fhat, V, alpha=0)\n"
   ]
  },
  {
   "cell_type": "code",
   "execution_count": 129,
   "metadata": {
    "ExecuteTime": {
     "end_time": "2024-11-01T17:30:52.231868Z",
     "start_time": "2024-11-01T17:30:52.227604Z"
    }
   },
   "outputs": [
    {
     "name": "stdout",
     "output_type": "stream",
     "text": [
      "Parameter containing:\n",
      "tensor([[-0.4469, -0.4674],\n",
      "        [ 0.6757,  0.3579],\n",
      "        [ 0.6619, -0.4120],\n",
      "        [-0.1822, -0.1744],\n",
      "        [ 0.6781,  0.1104],\n",
      "        [ 0.6598,  0.0854],\n",
      "        [ 0.3903, -0.6208],\n",
      "        [ 0.2241, -0.2727],\n",
      "        [ 0.3835, -0.2834],\n",
      "        [ 0.1877,  0.4991],\n",
      "        [ 0.0467, -0.6619],\n",
      "        [-0.3418,  0.3914],\n",
      "        [ 0.4909,  0.2923],\n",
      "        [ 0.2872,  0.2930],\n",
      "        [ 0.6654, -0.0721],\n",
      "        [-0.0943,  0.1018],\n",
      "        [ 0.6542, -0.1733],\n",
      "        [-0.2382,  0.2452],\n",
      "        [ 0.2350, -0.5035],\n",
      "        [ 0.6242,  0.5085],\n",
      "        [-0.6930,  0.2493],\n",
      "        [ 0.0752, -0.6672],\n",
      "        [ 0.6103,  0.2826],\n",
      "        [-0.6369, -0.5072],\n",
      "        [-0.4908, -0.2130],\n",
      "        [ 0.3746, -0.6606],\n",
      "        [ 0.5892, -0.3206],\n",
      "        [ 0.5117,  0.4705],\n",
      "        [ 0.0100,  0.3005],\n",
      "        [ 0.6436,  0.5790],\n",
      "        [ 0.2267, -0.5287],\n",
      "        [-0.6910, -0.5193]], requires_grad=True)\n"
     ]
    }
   ],
   "source": [
    "print(V.f.W[0])"
   ]
  },
  {
   "cell_type": "code",
   "execution_count": 130,
   "metadata": {
    "ExecuteTime": {
     "end_time": "2024-11-01T17:30:52.325586Z",
     "start_time": "2024-11-01T17:30:52.320490Z"
    }
   },
   "outputs": [
    {
     "data": {
      "text/plain": [
       "Dynamics(\n",
       "  (fhat): Sequential(\n",
       "    (0): Linear(in_features=2, out_features=32, bias=True)\n",
       "    (1): ReLU()\n",
       "    (2): Linear(in_features=32, out_features=32, bias=True)\n",
       "    (3): ReLU()\n",
       "    (4): Linear(in_features=32, out_features=2, bias=True)\n",
       "  )\n",
       "  (V): MakePSD(\n",
       "    (f): ICNN(\n",
       "      (W): ParameterList(\n",
       "          (0): Parameter containing: [torch.float32 of size 32x2]\n",
       "          (1): Parameter containing: [torch.float32 of size 32x2]\n",
       "          (2): Parameter containing: [torch.float32 of size 1x2]\n",
       "      )\n",
       "      (U): ParameterList(\n",
       "          (0): Parameter containing: [torch.float32 of size 32x32]\n",
       "          (1): Parameter containing: [torch.float32 of size 1x32]\n",
       "      )\n",
       "      (bias): ParameterList(\n",
       "          (0): Parameter containing: [torch.float32 of size 32]\n",
       "          (1): Parameter containing: [torch.float32 of size 32]\n",
       "          (2): Parameter containing: [torch.float32 of size 1]\n",
       "      )\n",
       "      (act): ReHU()\n",
       "    )\n",
       "    (rehu): ReHU()\n",
       "  )\n",
       ")"
      ]
     },
     "execution_count": 130,
     "metadata": {},
     "output_type": "execute_result"
    }
   ],
   "source": [
    "model.load_state_dict(torch.load(\"trained_models/checkpoint_10000.pth\"))\n",
    "model.eval()"
   ]
  },
  {
   "cell_type": "markdown",
   "metadata": {},
   "source": [
    "# Load trajectory"
   ]
  },
  {
   "cell_type": "code",
   "execution_count": 131,
   "metadata": {
    "ExecuteTime": {
     "end_time": "2024-11-01T17:30:53.433021Z",
     "start_time": "2024-11-01T17:30:52.409055Z"
    }
   },
   "outputs": [
    {
     "name": "stdout",
     "output_type": "stream",
     "text": [
      "Loaded data: (1000, 100, 2)\n"
     ]
    }
   ],
   "source": [
    "%matplotlib inline\n",
    "import matplotlib.pyplot as plt\n",
    "import numpy as np\n",
    "from IPython.display import HTML\n",
    "from scipy.integrate import odeint\n",
    "\n",
    "\n",
    "FILE = \"datasets/p-physics-1.npy\"\n",
    "N = 1\n",
    "\n",
    "data = np.load(FILE)\n",
    "print(f\"Loaded data: {data.shape}\")\n",
    "selected_data = data[:,1,:]\n",
    "\n",
    "# Uncomment to use the training dataset\n",
    "load = np.load(\"datasets/p-1-test.npz\")\n",
    "selected_data = load[\"X\"] "
   ]
  },
  {
   "cell_type": "code",
   "execution_count": 132,
   "metadata": {
    "ExecuteTime": {
     "end_time": "2024-11-01T17:30:53.485221Z",
     "start_time": "2024-11-01T17:30:53.441248Z"
    }
   },
   "outputs": [
    {
     "data": {
      "text/plain": [
       "[11.746335983276367,\n",
       " 15.005767822265625,\n",
       " 2.7048211097717285,\n",
       " 10.214747428894043,\n",
       " 3.0838751792907715,\n",
       " 4.972617149353027,\n",
       " 15.660563468933105,\n",
       " 16.227603912353516,\n",
       " 13.308359146118164,\n",
       " 2.5354485511779785,\n",
       " 6.2597222328186035,\n",
       " 4.1421356201171875,\n",
       " 20.576526641845703,\n",
       " 14.605072021484375,\n",
       " 12.229253768920898,\n",
       " 14.718011856079102,\n",
       " 20.469141006469727,\n",
       " 3.354281187057495,\n",
       " 1.9854999780654907,\n",
       " 9.42226791381836,\n",
       " 9.59760856628418,\n",
       " 15.439620971679688,\n",
       " 5.176284313201904,\n",
       " 7.946085453033447,\n",
       " 10.16596794128418,\n",
       " 14.012321472167969,\n",
       " 14.56551742553711,\n",
       " 18.5009708404541,\n",
       " 1.2133963108062744,\n",
       " 0.15944960713386536,\n",
       " 20.346086502075195,\n",
       " 18.894550323486328,\n",
       " 9.920496940612793,\n",
       " 19.785247802734375,\n",
       " 1.0365995168685913,\n",
       " 15.588371276855469,\n",
       " 4.7946858406066895,\n",
       " 19.499420166015625,\n",
       " 4.239372253417969,\n",
       " 10.511611938476562,\n",
       " 5.574895858764648,\n",
       " 8.617895126342773,\n",
       " 7.343969821929932,\n",
       " 20.106643676757812,\n",
       " 18.221967697143555,\n",
       " 14.131528854370117,\n",
       " 9.569811820983887,\n",
       " 10.761448860168457,\n",
       " 1.8340262174606323,\n",
       " 18.474140167236328,\n",
       " 12.606953620910645,\n",
       " 7.362367153167725,\n",
       " 0.25739094614982605,\n",
       " 6.75501012802124,\n",
       " 3.872013807296753,\n",
       " 9.979944229125977,\n",
       " 17.399295806884766,\n",
       " 1.4167944192886353,\n",
       " 7.257842540740967,\n",
       " 11.057719230651855,\n",
       " 7.080603122711182,\n",
       " 16.04365348815918,\n",
       " 0.0006275883060880005,\n",
       " 0.006330088712275028,\n",
       " 4.8621954917907715,\n",
       " 17.479528427124023,\n",
       " 5.301465034484863,\n",
       " 13.338781356811523,\n",
       " 7.568046569824219,\n",
       " 5.029852390289307,\n",
       " 13.250288009643555,\n",
       " 3.461221933364868,\n",
       " 6.2399091720581055,\n",
       " 10.163261413574219,\n",
       " 19.068193435668945,\n",
       " 1.8937861919403076,\n",
       " 9.149406433105469,\n",
       " 11.580606460571289,\n",
       " 3.898190498352051,\n",
       " 4.366872310638428,\n",
       " 0.001986172515898943,\n",
       " 8.559762954711914,\n",
       " 13.062305450439453,\n",
       " 2.170707941055298,\n",
       " 21.201642990112305,\n",
       " 3.3865513801574707,\n",
       " 2.902613639831543,\n",
       " 21.140731811523438,\n",
       " 9.094045639038086,\n",
       " 8.208521842956543,\n",
       " 6.834024429321289,\n",
       " 12.579597473144531,\n",
       " 24.49135398864746,\n",
       " 4.483257293701172,\n",
       " 11.8761625289917,\n",
       " 0.0006859711138531566,\n",
       " 18.340438842773438,\n",
       " 8.063654899597168,\n",
       " 8.120476722717285,\n",
       " 11.84309196472168,\n",
       " 0.5048327445983887,\n",
       " 10.082366943359375,\n",
       " 11.005160331726074,\n",
       " 6.44746208190918,\n",
       " 5.584177494049072,\n",
       " 6.841981887817383,\n",
       " 15.554524421691895,\n",
       " 12.287939071655273,\n",
       " 6.99569034576416,\n",
       " 10.840575218200684,\n",
       " 2.4849283695220947,\n",
       " 22.701757431030273,\n",
       " 17.778108596801758,\n",
       " 20.894596099853516,\n",
       " 14.10463809967041,\n",
       " 11.684514999389648,\n",
       " 7.571646690368652,\n",
       " 5.698957443237305,\n",
       " 13.343184471130371,\n",
       " 4.120131492614746,\n",
       " 0.5632998943328857,\n",
       " 20.36333465576172,\n",
       " 5.203915119171143,\n",
       " 9.224067687988281,\n",
       " 6.715366363525391,\n",
       " 1.1398757696151733,\n",
       " 12.935081481933594,\n",
       " 8.706562995910645,\n",
       " 14.07009220123291,\n",
       " 12.677508354187012,\n",
       " 5.019366264343262,\n",
       " 11.061652183532715,\n",
       " 6.935851573944092,\n",
       " 6.490105628967285,\n",
       " 2.2052412033081055,\n",
       " 7.044988632202148,\n",
       " 12.165059089660645,\n",
       " 14.798796653747559,\n",
       " 10.030755043029785,\n",
       " 8.61439323425293,\n",
       " 5.154111862182617,\n",
       " 1.4514052867889404,\n",
       " 18.683975219726562,\n",
       " 11.109679222106934,\n",
       " 5.077642440795898,\n",
       " 2.0665292739868164,\n",
       " 19.064088821411133,\n",
       " 12.29218578338623,\n",
       " 10.061880111694336,\n",
       " 17.322481155395508,\n",
       " 1.4659351110458374,\n",
       " 0.8975830674171448,\n",
       " 12.164920806884766,\n",
       " 0.6841307878494263,\n",
       " 1.3891942501068115,\n",
       " 11.05263614654541,\n",
       " 15.754523277282715,\n",
       " 2.351457118988037,\n",
       " 13.068180084228516,\n",
       " 3.867304801940918,\n",
       " 5.403324604034424,\n",
       " 0.35176363587379456,\n",
       " 17.272987365722656,\n",
       " 16.451812744140625,\n",
       " 9.649466514587402,\n",
       " 12.508256912231445,\n",
       " 4.80717134475708,\n",
       " 6.282601356506348,\n",
       " 0.017575684934854507,\n",
       " 6.9122161865234375,\n",
       " 7.892233371734619,\n",
       " 15.368480682373047,\n",
       " 15.300820350646973,\n",
       " 10.630550384521484,\n",
       " 9.536429405212402,\n",
       " 3.874767303466797,\n",
       " 10.097214698791504,\n",
       " 10.135579109191895,\n",
       " 14.913297653198242,\n",
       " 4.720927715301514,\n",
       " 22.08892250061035,\n",
       " 10.951024055480957,\n",
       " 19.92402458190918,\n",
       " 11.487381935119629,\n",
       " 20.968334197998047,\n",
       " 13.934555053710938,\n",
       " 16.835256576538086,\n",
       " 7.616611480712891,\n",
       " 6.0301666259765625,\n",
       " 4.722499847412109,\n",
       " 15.694781303405762,\n",
       " 1.3539319038391113,\n",
       " 20.176715850830078,\n",
       " 11.011619567871094,\n",
       " 15.85611343383789,\n",
       " 13.51357364654541,\n",
       " 16.5833797454834,\n",
       " 4.170787334442139,\n",
       " 11.775225639343262,\n",
       " 16.076576232910156]"
      ]
     },
     "execution_count": 132,
     "metadata": {},
     "output_type": "execute_result"
    }
   ],
   "source": [
    "evals = []\n",
    "\n",
    "x_plot = []\n",
    "y_plot = []\n",
    "for i in range(len(selected_data)):\n",
    "    input = torch.FloatTensor([selected_data[i]])\n",
    "    input.requires_grad = True\n",
    "    x_plot.append(input[0][0].item())\n",
    "    y_plot.append(input[0][1].item())\n",
    "    energy_val = model.V(input).detach().item()\n",
    "    evals.append(energy_val)\n",
    "\n",
    "evals"
   ]
  },
  {
   "cell_type": "code",
   "execution_count": 133,
   "metadata": {
    "ExecuteTime": {
     "end_time": "2024-11-01T17:30:53.594637Z",
     "start_time": "2024-11-01T17:30:53.494888Z"
    }
   },
   "outputs": [
    {
     "data": {
      "image/png": "[encoded data removed]",
      "text/plain": [
       "<Figure size 640x480 with 1 Axes>"
      ]
     },
     "metadata": {},
     "output_type": "display_data"
    }
   ],
   "source": [
    "from matplotlib import pyplot as plt\n",
    "fig = plt.figure()\n",
    " \n",
    "# syntax for 3-D plotting\n",
    "ax = plt.axes(projection='3d')\n",
    " \n",
    "# syntax for plotting\n",
    "ax.plot_trisurf(x_plot, y_plot, evals, cmap='viridis',\\\n",
    "                edgecolor='green')\n",
    "ax.set_title('Surface plot')\n",
    "plt.show()"
   ]
  },
  {
   "cell_type": "code",
   "execution_count": 134,
   "metadata": {
    "ExecuteTime": {
     "end_time": "2024-11-01T17:30:53.723511Z",
     "start_time": "2024-11-01T17:30:53.606039Z"
    }
   },
   "outputs": [
    {
     "data": {
      "application/vnd.plotly.v1+json": {
       "config": {
        "plotlyServerURL": "https://plot.ly"
       },
       "data": [
        {
         "mode": "markers",
         "type": "scatter3d",
         "x": [
          1.9383043050765991,
          1.949461579322815,
          -0.731048047542572,
          1.7335691452026367,
          -0.4191244840621948,
          -1.0937094688415527,
          -2.4326133728027344,
          2.77870774269104,
          -1.682378888130188,
          -0.42099907994270325,
          1.2342287302017212,
          -0.6729524731636047,
          3.077199697494507,
          2.4709842205047607,
          -1.9035183191299438,
          2.5197126865386963,
          -2.8797688484191895,
          0.1474175751209259,
          0.6466740369796753,
          1.776827335357666,
          -1.293222188949585,
          2.166569232940674,
          -1.1301028728485107,
          1.6083968877792358,
          -1.675351619720459,
          2.397772789001465,
          2.5506887435913086,
          2.6716063022613525,
          -0.019153600558638573,
          -0.14877235889434814,
          2.7171804904937744,
          2.972766399383545,
          1.4984973669052124,
          -2.8572237491607666,
          -0.44656893610954285,
          2.645542860031128,
          1.1119866371154785,
          -2.8604745864868164,
          -0.6023529767990112,
          -1.8078383207321167,
          -1.1169112920761108,
          -1.132846713066101,
          1.551283836364746,
          -2.7495484352111816,
          2.8094680309295654,
          2.5220229625701904,
          -1.66591477394104,
          -1.16255784034729,
          0.2113504260778427,
          -2.1477601528167725,
          2.1295878887176514,
          1.0843300819396973,
          0.4740341603755951,
          -0.7432365417480469,
          0.524888813495636,
          -1.199015736579895,
          2.9175431728363037,
          -0.4429672956466675,
          -1.175072193145752,
          -1.7544740438461304,
          -1.3799114227294922,
          2.6495471000671387,
          0.22719170153141022,
          -0.020438721403479576,
          1.2339917421340942,
          -2.6240711212158203,
          -1.0095797777175903,
          -1.991366982460022,
          1.5828495025634766,
          0.36159589886665344,
          2.13492488861084,
          -0.2823277413845062,
          1.4371588230133057,
          1.5766712427139282,
          -2.810344696044922,
          0.028744913637638092,
          1.6440727710723877,
          1.78374445438385,
          -0.9401132464408875,
          1.173119306564331,
          0.3338138461112976,
          -0.9229205250740051,
          2.3776040077209473,
          0.7454543709754944,
          -2.500004768371582,
          0.9878098964691162,
          0.33509767055511475,
          -3.0684123039245605,
          1.3646459579467773,
          1.428735375404358,
          -0.6779478192329407,
          2.3052892684936523,
          -2.9785513877868652,
          1.185045838356018,
          2.199138641357422,
          -0.07750517129898071,
          -2.7322371006011963,
          -1.2778009176254272,
          1.22734534740448,
          -1.2733478546142578,
          -0.3399761915206909,
          -1.4318994283676147,
          -1.7901262044906616,
          1.4249805212020874,
          1.0032875537872314,
          0.9782352447509766,
          2.6867430210113525,
          1.584715723991394,
          -0.751889705657959,
          -1.479814052581787,
          0.501484751701355,
          3.0687053203582764,
          2.9163477420806885,
          -3.0486128330230713,
          2.375408172607422,
          -1.8527668714523315,
          1.3240243196487427,
          0.7069816589355469,
          2.119269847869873,
          0.9699219465255737,
          0.32631173729896545,
          -2.9473793506622314,
          1.1332151889801025,
          -1.5202324390411377,
          -0.8417813181877136,
          0.14822015166282654,
          -1.9170331954956055,
          -1.427465796470642,
          -1.8147894144058228,
          2.312966823577881,
          0.03411309793591499,
          -1.3887486457824707,
          -0.8011506795883179,
          -1.2822813987731934,
          0.7011165022850037,
          -1.3551204204559326,
          2.255605697631836,
          2.0846118927001953,
          -1.7412723302841187,
          1.6377094984054565,
          1.2828997373580933,
          -0.04784027859568596,
          -2.728123188018799,
          1.5030421018600464,
          0.5727617144584656,
          -0.6779550909996033,
          -2.8306713104248047,
          -1.9716657400131226,
          1.5493018627166748,
          -2.3405840396881104,
          -0.36801159381866455,
          0.6489952206611633,
          -2.012284278869629,
          0.5818869471549988,
          -0.41891083121299744,
          -1.1661107540130615,
          2.6196298599243164,
          0.5387324690818787,
          2.332657814025879,
          -0.8788654208183289,
          1.3091492652893066,
          0.5532023310661316,
          -2.6194629669189453,
          2.262394428253174,
          -1.5952078104019165,
          1.9911396503448486,
          -0.965613603591919,
          -0.983591616153717,
          0.19197231531143188,
          1.3084481954574585,
          -1.3331302404403687,
          2.603900909423828,
          2.635319232940674,
          1.7840466499328613,
          1.8112332820892334,
          1.0193043947219849,
          1.9657151699066162,
          -1.3699194192886353,
          2.1987814903259277,
          -0.995924711227417,
          -3.123798370361328,
          1.9982287883758545,
          2.8145222663879395,
          -1.8131166696548462,
          -3.0613906383514404,
          -1.9300298690795898,
          2.849745035171509,
          -1.0967158079147339,
          0.8997816443443298,
          -0.9836088418960571,
          2.3966023921966553,
          -0.5615193843841553,
          -2.4447154998779297,
          -1.8381952047348022,
          -2.1525208950042725,
          -2.1171886920928955,
          2.223083257675171,
          -0.8218497037887573,
          -1.9587793350219727,
          2.4563820362091064
         ],
         "y": [
          1.5923300981521606,
          2.936054229736328,
          -0.570824921131134,
          -2.3813512325286865,
          -1.933308720588684,
          -0.11164654046297073,
          0.12607218325138092,
          0.5573301315307617,
          -2.3392131328582764,
          1.8571110963821411,
          1.1063390970230103,
          -1.6601711511611938,
          -2.95497727394104,
          -1.6269725561141968,
          1.8475990295410156,
          -1.3221514225006104,
          -1.1152980327606201,
          2.1863839626312256,
          -1.5951670408248901,
          -1.5176583528518677,
          -2.0239551067352295,
          2.575037717819214,
          0.49841269850730896,
          -1.2686903476715088,
          -0.9623993635177612,
          -1.5687023401260376,
          -0.7324690818786621,
          2.478069543838501,
          -1.8590219020843506,
          -1.1611579656600952,
          3.1285157203674316,
          -2.222527027130127,
          -3.0448036193847656,
          -0.6913325190544128,
          -0.7683390378952026,
          0.9409245848655701,
          -1.5955909490585327,
          -0.3862600028514862,
          -1.8976417779922485,
          0.17790845036506653,
          -0.7852234840393066,
          2.7238218784332275,
          0.45172515511512756,
          3.046126127243042,
          1.9171251058578491,
          0.14877216517925262,
          -0.622999370098114,
          -2.8088510036468506,
          1.57878839969635,
          -2.9573793411254883,
          1.3587995767593384,
          2.0473783016204834,
          0.12372402101755142,
          2.7729766368865967,
          -2.4927175045013428,
          -2.4256083965301514,
          -0.8269553780555725,
          1.3101630210876465,
          2.0130209922790527,
          1.789529800415039,
          0.4216020405292511,
          1.2492618560791016,
          0.10555930435657501,
          0.7953559756278992,
          -0.011999205686151981,
          1.28288733959198,
          1.520787000656128,
          2.2004685401916504,
          -1.0611733198165894,
          -3.0449273586273193,
          -2.5106453895568848,
          2.2071692943573,
          -0.2938859760761261,
          1.9571542739868164,
          1.4438047409057617,
          -2.139832019805908,
          1.2569770812988281,
          2.0041399002075195,
          0.6816107034683228,
          -0.3002198338508606,
          -0.29527202248573303,
          -2.652062177658081,
          0.037098292261362076,
          -1.4414253234863281,
          -2.997945785522461,
          -0.9940731525421143,
          1.7959589958190918,
          1.2297676801681519,
          2.0627174377441406,
          -2.444425344467163,
          -2.6717400550842285,
          0.24444112181663513,
          -2.8328351974487305,
          -0.48616406321525574,
          0.40088918805122375,
          0.25018006563186646,
          -0.2884672284126282,
          -1.4619718790054321,
          -2.958357572555542,
          -2.9030370712280273,
          1.057096242904663,
          -1.8200888633728027,
          1.5439974069595337,
          0.4046705961227417,
          1.511578917503357,
          2.0761706829071045,
          0.5656187534332275,
          2.7693519592285156,
          2.830970287322998,
          2.759664535522461,
          -1.9849520921707153,
          3.134983777999878,
          1.1172410249710083,
          0.8671395778656006,
          -1.8344860076904297,
          -1.031163215637207,
          -2.4490299224853516,
          2.1676430702209473,
          1.797308325767517,
          -1.8271533250808716,
          0.7440645694732666,
          1.8396601676940918,
          -1.809909701347351,
          1.7032636404037476,
          -2.1858792304992676,
          1.3950495719909668,
          2.28991436958313,
          1.8158636093139648,
          -2.259857654571533,
          -0.47258275747299194,
          -3.0488150119781494,
          3.0769989490509033,
          -2.379676342010498,
          -0.34304994344711304,
          -1.5893269777297974,
          -0.37165573239326477,
          -0.10129310935735703,
          2.5259978771209717,
          -0.3839728832244873,
          0.9611977934837341,
          -0.17551422119140625,
          -1.9275130033493042,
          2.0368902683258057,
          2.510352849960327,
          2.1683413982391357,
          -0.1712317317724228,
          -0.03005812130868435,
          1.4786601066589355,
          1.986206293106079,
          -1.9323102235794067,
          1.4974967241287231,
          -0.4791663885116577,
          -0.11221541464328766,
          0.06385644525289536,
          1.358253836631775,
          -2.904184341430664,
          1.1979955434799194,
          1.1730166673660278,
          0.6707510948181152,
          -0.7557353377342224,
          -0.6323021650314331,
          -0.2483820617198944,
          0.5720205307006836,
          2.734469175338745,
          1.6073845624923706,
          -2.727776050567627,
          1.3806973695755005,
          2.1491618156433105,
          0.5440782308578491,
          -2.1699459552764893,
          -1.1969938278198242,
          -1.3511756658554077,
          -0.9116214513778687,
          1.5492007732391357,
          0.7952836751937866,
          -1.3322666883468628,
          0.11279402673244476,
          2.7565770149230957,
          2.289766788482666,
          1.1098029613494873,
          2.336726665496826,
          -1.4396374225616455,
          2.67756724357605,
          1.78853178024292,
          0.16428649425506592,
          2.81308650970459,
          0.6539166569709778,
          -1.8196847438812256,
          1.942193865776062,
          1.1924086809158325,
          2.0567638874053955,
          0.6649462580680847,
          -2.7768971920013428,
          -0.6500436663627625,
          3.015475273132324,
          -0.7998745441436768,
          2.8814470767974854,
          1.6006330251693726,
          0.3395393192768097,
          -2.912402391433716
         ],
         "z": [
          11.746335983276367,
          15.005767822265625,
          2.7048211097717285,
          10.214747428894043,
          3.0838751792907715,
          4.972617149353027,
          15.660563468933105,
          16.227603912353516,
          13.308359146118164,
          2.5354485511779785,
          6.2597222328186035,
          4.1421356201171875,
          20.576526641845703,
          14.605072021484375,
          12.229253768920898,
          14.718011856079102,
          20.469141006469727,
          3.354281187057495,
          1.9854999780654907,
          9.42226791381836,
          9.59760856628418,
          15.439620971679688,
          5.176284313201904,
          7.946085453033447,
          10.16596794128418,
          14.012321472167969,
          14.56551742553711,
          18.5009708404541,
          1.2133963108062744,
          0.15944960713386536,
          20.346086502075195,
          18.894550323486328,
          9.920496940612793,
          19.785247802734375,
          1.0365995168685913,
          15.588371276855469,
          4.7946858406066895,
          19.499420166015625,
          4.239372253417969,
          10.511611938476562,
          5.574895858764648,
          8.617895126342773,
          7.343969821929932,
          20.106643676757812,
          18.221967697143555,
          14.131528854370117,
          9.569811820983887,
          10.761448860168457,
          1.8340262174606323,
          18.474140167236328,
          12.606953620910645,
          7.362367153167725,
          0.25739094614982605,
          6.75501012802124,
          3.872013807296753,
          9.979944229125977,
          17.399295806884766,
          1.4167944192886353,
          7.257842540740967,
          11.057719230651855,
          7.080603122711182,
          16.04365348815918,
          6.275883060880005E-4,
          0.006330088712275028,
          4.8621954917907715,
          17.479528427124023,
          5.301465034484863,
          13.338781356811523,
          7.568046569824219,
          5.029852390289307,
          13.250288009643555,
          3.461221933364868,
          6.2399091720581055,
          10.163261413574219,
          19.068193435668945,
          1.8937861919403076,
          9.149406433105469,
          11.580606460571289,
          3.898190498352051,
          4.366872310638428,
          0.001986172515898943,
          8.559762954711914,
          13.062305450439453,
          2.170707941055298,
          21.201642990112305,
          3.3865513801574707,
          2.902613639831543,
          21.140731811523438,
          9.094045639038086,
          8.208521842956543,
          6.834024429321289,
          12.579597473144531,
          24.49135398864746,
          4.483257293701172,
          11.8761625289917,
          6.859711138531566E-4,
          18.340438842773438,
          8.063654899597168,
          8.120476722717285,
          11.84309196472168,
          0.5048327445983887,
          10.082366943359375,
          11.005160331726074,
          6.44746208190918,
          5.584177494049072,
          6.841981887817383,
          15.554524421691895,
          12.287939071655273,
          6.99569034576416,
          10.840575218200684,
          2.4849283695220947,
          22.701757431030273,
          17.778108596801758,
          20.894596099853516,
          14.10463809967041,
          11.684514999389648,
          7.571646690368652,
          5.698957443237305,
          13.343184471130371,
          4.120131492614746,
          0.5632998943328857,
          20.36333465576172,
          5.203915119171143,
          9.224067687988281,
          6.715366363525391,
          1.1398757696151733,
          12.935081481933594,
          8.706562995910645,
          14.07009220123291,
          12.677508354187012,
          5.019366264343262,
          11.061652183532715,
          6.935851573944092,
          6.490105628967285,
          2.2052412033081055,
          7.044988632202148,
          12.165059089660645,
          14.798796653747559,
          10.030755043029785,
          8.61439323425293,
          5.154111862182617,
          1.4514052867889404,
          18.683975219726562,
          11.109679222106934,
          5.077642440795898,
          2.0665292739868164,
          19.064088821411133,
          12.29218578338623,
          10.061880111694336,
          17.322481155395508,
          1.4659351110458374,
          0.8975830674171448,
          12.164920806884766,
          0.6841307878494263,
          1.3891942501068115,
          11.05263614654541,
          15.754523277282715,
          2.351457118988037,
          13.068180084228516,
          3.867304801940918,
          5.403324604034424,
          0.35176363587379456,
          17.272987365722656,
          16.451812744140625,
          9.649466514587402,
          12.508256912231445,
          4.80717134475708,
          6.282601356506348,
          0.017575684934854507,
          6.9122161865234375,
          7.892233371734619,
          15.368480682373047,
          15.300820350646973,
          10.630550384521484,
          9.536429405212402,
          3.874767303466797,
          10.097214698791504,
          10.135579109191895,
          14.913297653198242,
          4.720927715301514,
          22.08892250061035,
          10.951024055480957,
          19.92402458190918,
          11.487381935119629,
          20.968334197998047,
          13.934555053710938,
          16.835256576538086,
          7.616611480712891,
          6.0301666259765625,
          4.722499847412109,
          15.694781303405762,
          1.3539319038391113,
          20.176715850830078,
          11.011619567871094,
          15.85611343383789,
          13.51357364654541,
          16.5833797454834,
          4.170787334442139,
          11.775225639343262,
          16.076576232910156
         ]
        }
       ],
       "layout": {
        "autosize": false,
        "height": 500,
        "margin": {
         "b": 65,
         "l": 65,
         "r": 50,
         "t": 90
        },
        "scene": {
         "aspectmode": "cube"
        },
        "template": {
         "data": {
          "bar": [
           {
            "error_x": {
             "color": "#2a3f5f"
            },
            "error_y": {
             "color": "#2a3f5f"
            },
            "marker": {
             "line": {
              "color": "#E5ECF6",
              "width": 0.5
             },
             "pattern": {
              "fillmode": "overlay",
              "size": 10,
              "solidity": 0.2
             }
            },
            "type": "bar"
           }
          ],
          "barpolar": [
           {
            "marker": {
             "line": {
              "color": "#E5ECF6",
              "width": 0.5
             },
             "pattern": {
              "fillmode": "overlay",
              "size": 10,
              "solidity": 0.2
             }
            },
            "type": "barpolar"
           }
          ],
          "carpet": [
           {
            "aaxis": {
             "endlinecolor": "#2a3f5f",
             "gridcolor": "white",
             "linecolor": "white",
             "minorgridcolor": "white",
             "startlinecolor": "#2a3f5f"
            },
            "baxis": {
             "endlinecolor": "#2a3f5f",
             "gridcolor": "white",
             "linecolor": "white",
             "minorgridcolor": "white",
             "startlinecolor": "#2a3f5f"
            },
            "type": "carpet"
           }
          ],
          "choropleth": [
           {
            "colorbar": {
             "outlinewidth": 0,
             "ticks": ""
            },
            "type": "choropleth"
           }
          ],
          "contour": [
           {
            "colorbar": {
             "outlinewidth": 0,
             "ticks": ""
            },
            "colorscale": [
             [
              0,
              "#0d0887"
             ],
             [
              0.1111111111111111,
              "#46039f"
             ],
             [
              0.2222222222222222,
              "#7201a8"
             ],
             [
              0.3333333333333333,
              "#9c179e"
             ],
             [
              0.4444444444444444,
              "#bd3786"
             ],
             [
              0.5555555555555556,
              "#d8576b"
             ],
             [
              0.6666666666666666,
              "#ed7953"
             ],
             [
              0.7777777777777778,
              "#fb9f3a"
             ],
             [
              0.8888888888888888,
              "#fdca26"
             ],
             [
              1,
              "#f0f921"
             ]
            ],
            "type": "contour"
           }
          ],
          "contourcarpet": [
           {
            "colorbar": {
             "outlinewidth": 0,
             "ticks": ""
            },
            "type": "contourcarpet"
           }
          ],
          "heatmap": [
           {
            "colorbar": {
             "outlinewidth": 0,
             "ticks": ""
            },
            "colorscale": [
             [
              0,
              "#0d0887"
             ],
             [
              0.1111111111111111,
              "#46039f"
             ],
             [
              0.2222222222222222,
              "#7201a8"
             ],
             [
              0.3333333333333333,
              "#9c179e"
             ],
             [
              0.4444444444444444,
              "#bd3786"
             ],
             [
              0.5555555555555556,
              "#d8576b"
             ],
             [
              0.6666666666666666,
              "#ed7953"
             ],
             [
              0.7777777777777778,
              "#fb9f3a"
             ],
             [
              0.8888888888888888,
              "#fdca26"
             ],
             [
              1,
              "#f0f921"
             ]
            ],
            "type": "heatmap"
           }
          ],
          "heatmapgl": [
           {
            "colorbar": {
             "outlinewidth": 0,
             "ticks": ""
            },
            "colorscale": [
             [
              0,
              "#0d0887"
             ],
             [
              0.1111111111111111,
              "#46039f"
             ],
             [
              0.2222222222222222,
              "#7201a8"
             ],
             [
              0.3333333333333333,
              "#9c179e"
             ],
             [
              0.4444444444444444,
              "#bd3786"
             ],
             [
              0.5555555555555556,
              "#d8576b"
             ],
             [
              0.6666666666666666,
              "#ed7953"
             ],
             [
              0.7777777777777778,
              "#fb9f3a"
             ],
             [
              0.8888888888888888,
              "#fdca26"
             ],
             [
              1,
              "#f0f921"
             ]
            ],
            "type": "heatmapgl"
           }
          ],
          "histogram": [
           {
            "marker": {
             "pattern": {
              "fillmode": "overlay",
              "size": 10,
              "solidity": 0.2
             }
            },
            "type": "histogram"
           }
          ],
          "histogram2d": [
           {
            "colorbar": {
             "outlinewidth": 0,
             "ticks": ""
            },
            "colorscale": [
             [
              0,
              "#0d0887"
             ],
             [
              0.1111111111111111,
              "#46039f"
             ],
             [
              0.2222222222222222,
              "#7201a8"
             ],
             [
              0.3333333333333333,
              "#9c179e"
             ],
             [
              0.4444444444444444,
              "#bd3786"
             ],
             [
              0.5555555555555556,
              "#d8576b"
             ],
             [
              0.6666666666666666,
              "#ed7953"
             ],
             [
              0.7777777777777778,
              "#fb9f3a"
             ],
             [
              0.8888888888888888,
              "#fdca26"
             ],
             [
              1,
              "#f0f921"
             ]
            ],
            "type": "histogram2d"
           }
          ],
          "histogram2dcontour": [
           {
            "colorbar": {
             "outlinewidth": 0,
             "ticks": ""
            },
            "colorscale": [
             [
              0,
              "#0d0887"
             ],
             [
              0.1111111111111111,
              "#46039f"
             ],
             [
              0.2222222222222222,
              "#7201a8"
             ],
             [
              0.3333333333333333,
              "#9c179e"
             ],
             [
              0.4444444444444444,
              "#bd3786"
             ],
             [
              0.5555555555555556,
              "#d8576b"
             ],
             [
              0.6666666666666666,
              "#ed7953"
             ],
             [
              0.7777777777777778,
              "#fb9f3a"
             ],
             [
              0.8888888888888888,
              "#fdca26"
             ],
             [
              1,
              "#f0f921"
             ]
            ],
            "type": "histogram2dcontour"
           }
          ],
          "mesh3d": [
           {
            "colorbar": {
             "outlinewidth": 0,
             "ticks": ""
            },
            "type": "mesh3d"
           }
          ],
          "parcoords": [
           {
            "line": {
             "colorbar": {
              "outlinewidth": 0,
              "ticks": ""
             }
            },
            "type": "parcoords"
           }
          ],
          "pie": [
           {
            "automargin": true,
            "type": "pie"
           }
          ],
          "scatter": [
           {
            "fillpattern": {
             "fillmode": "overlay",
             "size": 10,
             "solidity": 0.2
            },
            "type": "scatter"
           }
          ],
          "scatter3d": [
           {
            "line": {
             "colorbar": {
              "outlinewidth": 0,
              "ticks": ""
             }
            },
            "marker": {
             "colorbar": {
              "outlinewidth": 0,
              "ticks": ""
             }
            },
            "type": "scatter3d"
           }
          ],
          "scattercarpet": [
           {
            "marker": {
             "colorbar": {
              "outlinewidth": 0,
              "ticks": ""
             }
            },
            "type": "scattercarpet"
           }
          ],
          "scattergeo": [
           {
            "marker": {
             "colorbar": {
              "outlinewidth": 0,
              "ticks": ""
             }
            },
            "type": "scattergeo"
           }
          ],
          "scattergl": [
           {
            "marker": {
             "colorbar": {
              "outlinewidth": 0,
              "ticks": ""
             }
            },
            "type": "scattergl"
           }
          ],
          "scattermapbox": [
           {
            "marker": {
             "colorbar": {
              "outlinewidth": 0,
              "ticks": ""
             }
            },
            "type": "scattermapbox"
           }
          ],
          "scatterpolar": [
           {
            "marker": {
             "colorbar": {
              "outlinewidth": 0,
              "ticks": ""
             }
            },
            "type": "scatterpolar"
           }
          ],
          "scatterpolargl": [
           {
            "marker": {
             "colorbar": {
              "outlinewidth": 0,
              "ticks": ""
             }
            },
            "type": "scatterpolargl"
           }
          ],
          "scatterternary": [
           {
            "marker": {
             "colorbar": {
              "outlinewidth": 0,
              "ticks": ""
             }
            },
            "type": "scatterternary"
           }
          ],
          "surface": [
           {
            "colorbar": {
             "outlinewidth": 0,
             "ticks": ""
            },
            "colorscale": [
             [
              0,
              "#0d0887"
             ],
             [
              0.1111111111111111,
              "#46039f"
             ],
             [
              0.2222222222222222,
              "#7201a8"
             ],
             [
              0.3333333333333333,
              "#9c179e"
             ],
             [
              0.4444444444444444,
              "#bd3786"
             ],
             [
              0.5555555555555556,
              "#d8576b"
             ],
             [
              0.6666666666666666,
              "#ed7953"
             ],
             [
              0.7777777777777778,
              "#fb9f3a"
             ],
             [
              0.8888888888888888,
              "#fdca26"
             ],
             [
              1,
              "#f0f921"
             ]
            ],
            "type": "surface"
           }
          ],
          "table": [
           {
            "cells": {
             "fill": {
              "color": "#EBF0F8"
             },
             "line": {
              "color": "white"
             }
            },
            "header": {
             "fill": {
              "color": "#C8D4E3"
             },
             "line": {
              "color": "white"
             }
            },
            "type": "table"
           }
          ]
         },
         "layout": {
          "annotationdefaults": {
           "arrowcolor": "#2a3f5f",
           "arrowhead": 0,
           "arrowwidth": 1
          },
          "autotypenumbers": "strict",
          "coloraxis": {
           "colorbar": {
            "outlinewidth": 0,
            "ticks": ""
           }
          },
          "colorscale": {
           "diverging": [
            [
             0,
             "#8e0152"
            ],
            [
             0.1,
             "#c51b7d"
            ],
            [
             0.2,
             "#de77ae"
            ],
            [
             0.3,
             "#f1b6da"
            ],
            [
             0.4,
             "#fde0ef"
            ],
            [
             0.5,
             "#f7f7f7"
            ],
            [
             0.6,
             "#e6f5d0"
            ],
            [
             0.7,
             "#b8e186"
            ],
            [
             0.8,
             "#7fbc41"
            ],
            [
             0.9,
             "#4d9221"
            ],
            [
             1,
             "#276419"
            ]
           ],
           "sequential": [
            [
             0,
             "#0d0887"
            ],
            [
             0.1111111111111111,
             "#46039f"
            ],
            [
             0.2222222222222222,
             "#7201a8"
            ],
            [
             0.3333333333333333,
             "#9c179e"
            ],
            [
             0.4444444444444444,
             "#bd3786"
            ],
            [
             0.5555555555555556,
             "#d8576b"
            ],
            [
             0.6666666666666666,
             "#ed7953"
            ],
            [
             0.7777777777777778,
             "#fb9f3a"
            ],
            [
             0.8888888888888888,
             "#fdca26"
            ],
            [
             1,
             "#f0f921"
            ]
           ],
           "sequentialminus": [
            [
             0,
             "#0d0887"
            ],
            [
             0.1111111111111111,
             "#46039f"
            ],
            [
             0.2222222222222222,
             "#7201a8"
            ],
            [
             0.3333333333333333,
             "#9c179e"
            ],
            [
             0.4444444444444444,
             "#bd3786"
            ],
            [
             0.5555555555555556,
             "#d8576b"
            ],
            [
             0.6666666666666666,
             "#ed7953"
            ],
            [
             0.7777777777777778,
             "#fb9f3a"
            ],
            [
             0.8888888888888888,
             "#fdca26"
            ],
            [
             1,
             "#f0f921"
            ]
           ]
          },
          "colorway": [
           "#636efa",
           "#EF553B",
           "#00cc96",
           "#ab63fa",
           "#FFA15A",
           "#19d3f3",
           "#FF6692",
           "#B6E880",
           "#FF97FF",
           "#FECB52"
          ],
          "font": {
           "color": "#2a3f5f"
          },
          "geo": {
           "bgcolor": "white",
           "lakecolor": "white",
           "landcolor": "#E5ECF6",
           "showlakes": true,
           "showland": true,
           "subunitcolor": "white"
          },
          "hoverlabel": {
           "align": "left"
          },
          "hovermode": "closest",
          "mapbox": {
           "style": "light"
          },
          "paper_bgcolor": "white",
          "plot_bgcolor": "#E5ECF6",
          "polar": {
           "angularaxis": {
            "gridcolor": "white",
            "linecolor": "white",
            "ticks": ""
           },
           "bgcolor": "#E5ECF6",
           "radialaxis": {
            "gridcolor": "white",
            "linecolor": "white",
            "ticks": ""
           }
          },
          "scene": {
           "xaxis": {
            "backgroundcolor": "#E5ECF6",
            "gridcolor": "white",
            "gridwidth": 2,
            "linecolor": "white",
            "showbackground": true,
            "ticks": "",
            "zerolinecolor": "white"
           },
           "yaxis": {
            "backgroundcolor": "#E5ECF6",
            "gridcolor": "white",
            "gridwidth": 2,
            "linecolor": "white",
            "showbackground": true,
            "ticks": "",
            "zerolinecolor": "white"
           },
           "zaxis": {
            "backgroundcolor": "#E5ECF6",
            "gridcolor": "white",
            "gridwidth": 2,
            "linecolor": "white",
            "showbackground": true,
            "ticks": "",
            "zerolinecolor": "white"
           }
          },
          "shapedefaults": {
           "line": {
            "color": "#2a3f5f"
           }
          },
          "ternary": {
           "aaxis": {
            "gridcolor": "white",
            "linecolor": "white",
            "ticks": ""
           },
           "baxis": {
            "gridcolor": "white",
            "linecolor": "white",
            "ticks": ""
           },
           "bgcolor": "#E5ECF6",
           "caxis": {
            "gridcolor": "white",
            "linecolor": "white",
            "ticks": ""
           }
          },
          "title": {
           "x": 0.05
          },
          "xaxis": {
           "automargin": true,
           "gridcolor": "white",
           "linecolor": "white",
           "ticks": "",
           "title": {
            "standoff": 15
           },
           "zerolinecolor": "white",
           "zerolinewidth": 2
          },
          "yaxis": {
           "automargin": true,
           "gridcolor": "white",
           "linecolor": "white",
           "ticks": "",
           "title": {
            "standoff": 15
           },
           "zerolinecolor": "white",
           "zerolinewidth": 2
          }
         }
        },
        "title": {
         "text": "V(x) outputs"
        },
        "width": 500
       }
      }
     },
     "metadata": {},
     "output_type": "display_data"
    }
   ],
   "source": [
    "import plotly.graph_objects as go\n",
    "import numpy as np\n",
    "\n",
    "# Assuming your x_plot, y_plot, and evals are lists of 199 elements each\n",
    "x_plot = np.array(x_plot)\n",
    "y_plot = np.array(y_plot)\n",
    "evals = np.array(evals)\n",
    "\n",
    "\n",
    "fig = go.Figure(\n",
    "    data=[go.Scatter3d(x=x_plot, y=y_plot, z=evals, mode='markers')]\n",
    ")\n",
    "fig.update_layout(\n",
    "    title='V(x) outputs',\n",
    "    autosize=False,\n",
    "    width=500,\n",
    "    height=500,\n",
    "    margin=dict(l=65, r=50, b=65, t=90),\n",
    "    scene_aspectmode='cube'\n",
    ")\n",
    "fig.show()\n"
   ]
  },
  {
   "cell_type": "code",
   "execution_count": 135,
   "metadata": {
    "ExecuteTime": {
     "end_time": "2024-11-01T17:30:54.044191Z",
     "start_time": "2024-11-01T17:30:54.028902Z"
    }
   },
   "outputs": [
    {
     "data": {
      "text/plain": [
       "200"
      ]
     },
     "execution_count": 135,
     "metadata": {},
     "output_type": "execute_result"
    }
   ],
   "source": [
    "len(evals)"
   ]
  },
  {
   "cell_type": "code",
   "execution_count": 136,
   "metadata": {
    "ExecuteTime": {
     "end_time": "2024-11-01T17:30:54.144914Z",
     "start_time": "2024-11-01T17:30:54.131158Z"
    }
   },
   "outputs": [
    {
     "data": {
      "text/plain": [
       "(200, 2)"
      ]
     },
     "execution_count": 136,
     "metadata": {},
     "output_type": "execute_result"
    }
   ],
   "source": [
    "load = np.load(\"datasets/p-1-train.npz\")\n",
    "X = load[\"X\"]\n",
    "np.shape(X)"
   ]
  }
 ],
 "metadata": {
  "kernelspec": {
   "display_name": ".venv",
   "language": "python",
   "name": "python3"
  },
  "language_info": {
   "codemirror_mode": {
    "name": "ipython",
    "version": 3
   },
   "file_extension": ".py",
   "mimetype": "text/x-python",
   "name": "python",
   "nbconvert_exporter": "python",
   "pygments_lexer": "ipython3",
   "version": "3.12.4"
  }
 },
 "nbformat": 4,
 "nbformat_minor": 2
}
