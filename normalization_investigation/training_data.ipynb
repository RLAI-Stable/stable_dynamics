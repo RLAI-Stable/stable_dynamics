{
 "cells": [
  {
   "cell_type": "code",
   "execution_count": 9,
   "id": "initial_id",
   "metadata": {
    "collapsed": true
   },
   "outputs": [
    {
     "data": {
      "text/plain": [
       "(40000, 2)"
      ]
     },
     "execution_count": 9,
     "metadata": {},
     "output_type": "execute_result"
    }
   ],
   "source": [
    "import numpy as np\n",
    "\n",
    "load = np.load(\"p-1-train.npz\")\n",
    "X = load[\"X\"]\n",
    "Y = load[\"Y\"]\n",
    "np.shape(X)"
   ]
  },
  {
   "cell_type": "code",
   "execution_count": 3,
   "id": "4f80c30f",
   "metadata": {},
   "outputs": [
    {
     "data": {
      "text/plain": [
       "array([[-1.1652832 , -0.8649874 ],\n",
       "       [-1.2063147 ,  0.04685342],\n",
       "       [-1.1559672 ,  0.9569603 ],\n",
       "       ...,\n",
       "       [-0.2856088 ,  0.89221853],\n",
       "       [-0.1840857 ,  1.1222024 ],\n",
       "       [-0.06477205,  1.2448609 ]], dtype=float32)"
      ]
     },
     "execution_count": 3,
     "metadata": {},
     "output_type": "execute_result"
    }
   ],
   "source": [
    "X"
   ]
  },
  {
   "cell_type": "code",
   "execution_count": 7,
   "id": "77dbc163",
   "metadata": {},
   "outputs": [
    {
     "data": {
      "text/plain": [
       "array([[-0.7960221 , -0.20652299],\n",
       "       [-0.8240603 ,  0.01130301],\n",
       "       [-0.78965616,  0.22871481],\n",
       "       ...,\n",
       "       [-0.1949101 ,  0.21324891],\n",
       "       [-0.12553583,  0.26818883],\n",
       "       [-0.04400469,  0.2974902 ]], dtype=float32)"
      ]
     },
     "execution_count": 7,
     "metadata": {},
     "output_type": "execute_result"
    }
   ],
   "source": [
    "from sklearn.preprocessing import MinMaxScaler\n",
    "\n",
    "scaler = MinMaxScaler(feature_range=(-1, 1))\n",
    "nX = scaler.fit_transform(X)\n",
    "nX"
   ]
  },
  {
   "cell_type": "code",
   "execution_count": 10,
   "id": "10dc6e2d",
   "metadata": {},
   "outputs": [
    {
     "data": {
      "text/plain": [
       "array([[-1.2063147 ,  0.04685342],\n",
       "       [-1.1559672 ,  0.9569603 ],\n",
       "       [-1.0162134 ,  1.8274915 ],\n",
       "       ...,\n",
       "       [-0.1840857 ,  1.1222024 ],\n",
       "       [-0.06477205,  1.2448609 ],\n",
       "       [-0.06477205,  1.2448609 ]], dtype=float32)"
      ]
     },
     "execution_count": 10,
     "metadata": {},
     "output_type": "execute_result"
    }
   ],
   "source": [
    "Y"
   ]
  }
 ],
 "metadata": {
  "kernelspec": {
   "display_name": ".venv",
   "language": "python",
   "name": "python3"
  },
  "language_info": {
   "codemirror_mode": {
    "name": "ipython",
    "version": 3
   },
   "file_extension": ".py",
   "mimetype": "text/x-python",
   "name": "python",
   "nbconvert_exporter": "python",
   "pygments_lexer": "ipython3",
   "version": "3.12.4"
  }
 },
 "nbformat": 4,
 "nbformat_minor": 5
}
