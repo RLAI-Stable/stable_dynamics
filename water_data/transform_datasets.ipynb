{
 "cells": [
  {
   "cell_type": "code",
   "execution_count": 1,
   "metadata": {},
   "outputs": [],
   "source": [
    "import os\n",
    "import pickle\n",
    "import gzip\n",
    "import pandas as pd\n",
    "\n",
    "# Settings\n",
    "data_folder = \"./\"  # Replace with the path to your folder\n",
    "column_names = [\n",
    "    \"ZW_PIT300.DATA\",\n",
    "    \"ZW_TIT101.DATA\",\n",
    "    \"ZW_FIT101.DATA\",\n",
    "    \"ZW_LIT101.DATA\",\n",
    "    \"ZW_TCIT101.DATA\",\n",
    "    \"ZW_TCIT520.DATA\",\n",
    "    \"ZW_PIT520.DATA\",\n",
    "    \"ZW_PIT101.DATA\"\n",
    "]\n",
    "\n",
    "# Process each .npy file in the data folder\n",
    "for filename in os.listdir(data_folder):\n",
    "    if filename.endswith(\"_formatted.pkl\"):\n",
    "        with gzip.open(os.path.join(data_folder, filename), \"rb\") as f:\n",
    "            data = pickle.load(f, encoding=\"bytes\")\n",
    "            df_128 = pd.DataFrame(data[\"states\"], columns=data[\"columns\"])\n",
    "            df_8 = df_128[column_names]\n",
    "\n",
    "            # Save df_128 and df_8 with appropriate filenames\n",
    "            output_filename_128 = filename.replace(\"_formatted.pkl\", \"_128_sensors.pkl\")\n",
    "            output_filename_8 = filename.replace(\"_formatted.pkl\", \"_8_sensors.pkl\")\n",
    "\n",
    "            df_128.to_pickle(os.path.join(\"./\", output_filename_128))\n",
    "            df_8.to_pickle(os.path.join(\"./\", output_filename_8))"
   ]
  },
  {
   "cell_type": "code",
   "execution_count": 3,
   "metadata": {},
   "outputs": [
    {
     "data": {
      "text/plain": [
       "(58459, 8)"
      ]
     },
     "execution_count": 3,
     "metadata": {},
     "output_type": "execute_result"
    }
   ],
   "source": [
    "import os\n",
    "import pickle\n",
    "import gzip\n",
    "import pandas as pd\n",
    "df = pd.read_pickle(\"test_12m_july2023_8_sensors.pkl\")\n",
    "df.shape"
   ]
  },
  {
   "cell_type": "code",
   "execution_count": 14,
   "metadata": {},
   "outputs": [
    {
     "data": {
      "text/plain": [
       "array([[2.9795310e-02, 1.7964123e-02, 2.9664781e-04, 8.7286818e-01,\n",
       "        9.3386847e-01, 8.2972467e-01, 6.9246435e-01, 1.0783522e-01]],\n",
       "      dtype=float32)"
      ]
     },
     "execution_count": 14,
     "metadata": {},
     "output_type": "execute_result"
    }
   ],
   "source": [
    "import numpy as np\n",
    "np.array(df.iloc[:1])"
   ]
  },
  {
   "cell_type": "code",
   "execution_count": 7,
   "metadata": {},
   "outputs": [
    {
     "data": {
      "text/plain": [
       "array([[ 0.70697147,  0.60082245,  0.82972467, ...,  0.04758191,\n",
       "        -0.9954719 ,  0.9819287 ],\n",
       "       [ 0.6986968 ,  0.60045195,  0.8526712 , ..., -0.9954719 ,\n",
       "         0.9819287 ,  0.9283679 ],\n",
       "       [ 0.6966281 ,  0.60026675,  0.8223111 , ..., -0.14231484,\n",
       "        -0.959493  ,  0.8412535 ],\n",
       "       ...,\n",
       "       [ 1.9388707 ,  0.57637167,  0.80860204, ...,  0.54694813,\n",
       "        -0.40169543, -0.67728156],\n",
       "       [ 0.11532893,  0.57655686,  0.8087785 , ..., -0.87947375,\n",
       "         0.54694813, -0.40169543],\n",
       "       [ 3.2385187 ,  0.5767421 ,  0.8087785 , ...,  1.        ,\n",
       "         1.        ,  1.        ]], dtype=float32)"
      ]
     },
     "execution_count": 7,
     "metadata": {},
     "output_type": "execute_result"
    }
   ],
   "source": [
    "iarray_from_df = df.to_numpy()\n",
    "array_from_df"
   ]
  }
 ],
 "metadata": {
  "kernelspec": {
   "display_name": "Python 3",
   "language": "python",
   "name": "python3"
  },
  "language_info": {
   "codemirror_mode": {
    "name": "ipython",
    "version": 3
   },
   "file_extension": ".py",
   "mimetype": "text/x-python",
   "name": "python",
   "nbconvert_exporter": "python",
   "pygments_lexer": "ipython3",
   "version": "3.10.10"
  }
 },
 "nbformat": 4,
 "nbformat_minor": 2
}
